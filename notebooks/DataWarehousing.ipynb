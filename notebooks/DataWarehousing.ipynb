{
 "cells": [
  {
   "cell_type": "code",
   "execution_count": 0,
   "metadata": {
    "application/vnd.databricks.v1+cell": {
     "cellMetadata": {
      "byteLimit": 2048000,
      "rowLimit": 10000
     },
     "inputWidgets": {},
     "nuid": "30524535-712e-47a5-9530-28afd0be1502",
     "showTitle": false,
     "tableResultSettingsMap": {},
     "title": ""
    }
   },
   "outputs": [],
   "source": [
    "from pyspark.sql.functions import date_format"
   ]
  },
  {
   "cell_type": "code",
   "execution_count": 0,
   "metadata": {
    "application/vnd.databricks.v1+cell": {
     "cellMetadata": {
      "byteLimit": 2048000,
      "implicitDf": true,
      "rowLimit": 10000
     },
     "inputWidgets": {},
     "nuid": "af5e5722-03ab-4357-b5fc-33b94c941920",
     "showTitle": false,
     "tableResultSettingsMap": {},
     "title": ""
    }
   },
   "outputs": [],
   "source": [
    "%sql\n",
    "create or replace table datamodel.default.sales (\n",
    "    OrderID INT,\n",
    "    OrderDate DATE,\n",
    "    CustomerID INT,\n",
    "    CustomerName VARCHAR(100),\n",
    "    CustomerEmail VARCHAR(100),\n",
    "    ProductID INT,\n",
    "    ProductName VARCHAR(100),\n",
    "    ProductCategory VARCHAR(50),\n",
    "    RegionID INT,\n",
    "    RegionName VARCHAR(50),\n",
    "    Country VARCHAR(50),\n",
    "    Quantity INT,\n",
    "    UnitPrice DECIMAL(10,2),\n",
    "    TotalAmount DECIMAL(10,2)\n",
    ");"
   ]
  },
  {
   "cell_type": "code",
   "execution_count": 0,
   "metadata": {
    "application/vnd.databricks.v1+cell": {
     "cellMetadata": {
      "byteLimit": 2048000,
      "implicitDf": true,
      "rowLimit": 10000
     },
     "inputWidgets": {},
     "nuid": "347f3a4b-6831-4f27-8e49-c425978f44fd",
     "showTitle": false,
     "tableResultSettingsMap": {},
     "title": ""
    }
   },
   "outputs": [
    {
     "output_type": "display_data",
     "data": {
      "text/html": [
       "<style scoped>\n",
       "  .table-result-container {\n",
       "    max-height: 300px;\n",
       "    overflow: auto;\n",
       "  }\n",
       "  table, th, td {\n",
       "    border: 1px solid black;\n",
       "    border-collapse: collapse;\n",
       "  }\n",
       "  th, td {\n",
       "    padding: 5px;\n",
       "  }\n",
       "  th {\n",
       "    text-align: left;\n",
       "  }\n",
       "</style><div class='table-result-container'><table class='table-result'><thead style='background-color: white'><tr><th>num_affected_rows</th><th>num_inserted_rows</th></tr></thead><tbody><tr><td>10</td><td>10</td></tr></tbody></table></div>"
      ]
     },
     "metadata": {
      "application/vnd.databricks.v1+output": {
       "addedWidgets": {},
       "aggData": [],
       "aggError": "",
       "aggOverflow": false,
       "aggSchema": [],
       "aggSeriesLimitReached": false,
       "aggType": "",
       "arguments": {},
       "columnCustomDisplayInfos": {},
       "data": [
        [
         10,
         10
        ]
       ],
       "datasetInfos": [
        {
         "name": "_sqldf",
         "schema": {
          "fields": [
           {
            "metadata": {},
            "name": "num_affected_rows",
            "nullable": true,
            "type": "long"
           },
           {
            "metadata": {},
            "name": "num_inserted_rows",
            "nullable": true,
            "type": "long"
           }
          ],
          "type": "struct"
         },
         "tableIdentifier": null,
         "typeStr": "pyspark.sql.connect.dataframe.DataFrame"
        }
       ],
       "dbfsResultPath": null,
       "isJsonSchema": true,
       "metadata": {
        "createTempViewForImplicitDf": true,
        "dataframeName": "_sqldf",
        "executionCount": 89
       },
       "overflow": false,
       "plotOptions": {
        "customPlotOptions": {},
        "displayType": "table",
        "pivotAggregation": null,
        "pivotColumns": null,
        "xColumns": null,
        "yColumns": null
       },
       "removedWidgets": [],
       "schema": [
        {
         "metadata": "{}",
         "name": "num_affected_rows",
         "type": "\"long\""
        },
        {
         "metadata": "{}",
         "name": "num_inserted_rows",
         "type": "\"long\""
        }
       ],
       "type": "table"
      }
     },
     "output_type": "display_data"
    }
   ],
   "source": [
    "%sql\n",
    "INSERT INTO datamodel.default.sales (OrderID, OrderDate, CustomerID, CustomerName, CustomerEmail, ProductID, ProductName, ProductCategory, RegionID, RegionName, Country, Quantity, UnitPrice, TotalAmount) \n",
    "VALUES \n",
    "(1, '2024-02-01', 101, 'Alice Johnson', 'alice@example.com', 201, 'Laptop', 'Electronics', 301, 'North America', 'USA', 2, 800.00, 1600.00),\n",
    "(2, '2024-02-02', 102, 'Bob Smith', 'bob@example.com', 202, 'Smartphone', 'Electronics', 302, 'Europe', 'Germany', 1, 500.00, 500.00),\n",
    "(3, '2024-02-03', 103, 'Charlie Brown', 'charlie@example.com', 203, 'Tablet', 'Electronics', 303, 'Asia', 'India', 3, 300.00, 900.00),\n",
    "(4, '2024-02-04', 101, 'Alice Johnson', 'alice@example.com', 204, 'Headphones', 'Accessories', 301, 'North America', 'USA', 1, 150.00, 150.00),\n",
    "(5, '2024-02-05', 104, 'David Lee', 'david@example.com', 205, 'Gaming Console', 'Electronics', 302, 'Europe', 'France', 1, 400.00, 400.00),\n",
    "(6, '2024-02-06', 102, 'Bob Smith', 'bob@example.com', 206, 'Smartwatch', 'Electronics', 303, 'Asia', 'China', 2, 200.00, 400.00),\n",
    "(7, '2024-02-07', 105, 'Eve Adams', 'eve@example.com', 201, 'Laptop', 'Electronics', 301, 'North America', 'Canada', 1, 800.00, 800.00),\n",
    "(8, '2024-02-08', 106, 'Frank Miller', 'frank@example.com', 207, 'Monitor', 'Accessories', 302, 'Europe', 'Italy', 2, 250.00, 500.00),\n",
    "(9, '2024-02-09', 107, 'Grace White', 'grace@example.com', 208, 'Keyboard', 'Accessories', 303, 'Asia', 'Japan', 3, 100.00, 300.00),\n",
    "(10, '2024-02-10', 104, 'David Lee', 'david@example.com', 209, 'Mouse', 'Accessories', 301, 'North America', 'USA', 1, 50.00, 50.00);\n"
   ]
  },
  {
   "cell_type": "code",
   "execution_count": 0,
   "metadata": {
    "application/vnd.databricks.v1+cell": {
     "cellMetadata": {
      "byteLimit": 2048000,
      "implicitDf": true,
      "rowLimit": 10000
     },
     "inputWidgets": {},
     "nuid": "cee34f17-8562-4fc3-bfdb-8e3274021c3d",
     "showTitle": false,
     "tableResultSettingsMap": {},
     "title": ""
    }
   },
   "outputs": [
    {
     "output_type": "display_data",
     "data": {
      "text/html": [
       "<style scoped>\n",
       "  .table-result-container {\n",
       "    max-height: 300px;\n",
       "    overflow: auto;\n",
       "  }\n",
       "  table, th, td {\n",
       "    border: 1px solid black;\n",
       "    border-collapse: collapse;\n",
       "  }\n",
       "  th, td {\n",
       "    padding: 5px;\n",
       "  }\n",
       "  th {\n",
       "    text-align: left;\n",
       "  }\n",
       "</style><div class='table-result-container'><table class='table-result'><thead style='background-color: white'><tr><th>OrderID</th><th>OrderDate</th><th>CustomerID</th><th>CustomerName</th><th>CustomerEmail</th><th>ProductID</th><th>ProductName</th><th>ProductCategory</th><th>RegionID</th><th>RegionName</th><th>Country</th><th>Quantity</th><th>UnitPrice</th><th>TotalAmount</th></tr></thead><tbody><tr><td>1</td><td>2024-02-01</td><td>101</td><td>Alice Johnson</td><td>alice@example.com</td><td>201</td><td>Laptop</td><td>Electronics</td><td>301</td><td>North America</td><td>USA</td><td>2</td><td>800.00</td><td>1600.00</td></tr><tr><td>2</td><td>2024-02-02</td><td>102</td><td>Bob Smith</td><td>bob@example.com</td><td>202</td><td>Smartphone</td><td>Electronics</td><td>302</td><td>Europe</td><td>Germany</td><td>1</td><td>500.00</td><td>500.00</td></tr><tr><td>3</td><td>2024-02-03</td><td>103</td><td>Charlie Brown</td><td>charlie@example.com</td><td>203</td><td>Tablet</td><td>Electronics</td><td>303</td><td>Asia</td><td>India</td><td>3</td><td>300.00</td><td>900.00</td></tr><tr><td>4</td><td>2024-02-04</td><td>101</td><td>Alice Johnson</td><td>alice@example.com</td><td>204</td><td>Headphones</td><td>Accessories</td><td>301</td><td>North America</td><td>USA</td><td>1</td><td>150.00</td><td>150.00</td></tr><tr><td>5</td><td>2024-02-05</td><td>104</td><td>David Lee</td><td>david@example.com</td><td>205</td><td>Gaming Console</td><td>Electronics</td><td>302</td><td>Europe</td><td>France</td><td>1</td><td>400.00</td><td>400.00</td></tr><tr><td>6</td><td>2024-02-06</td><td>102</td><td>Bob Smith</td><td>bob@example.com</td><td>206</td><td>Smartwatch</td><td>Electronics</td><td>303</td><td>Asia</td><td>China</td><td>2</td><td>200.00</td><td>400.00</td></tr><tr><td>7</td><td>2024-02-07</td><td>105</td><td>Eve Adams</td><td>eve@example.com</td><td>201</td><td>Laptop</td><td>Electronics</td><td>301</td><td>North America</td><td>Canada</td><td>1</td><td>800.00</td><td>800.00</td></tr><tr><td>8</td><td>2024-02-08</td><td>106</td><td>Frank Miller</td><td>frank@example.com</td><td>207</td><td>Monitor</td><td>Accessories</td><td>302</td><td>Europe</td><td>Italy</td><td>2</td><td>250.00</td><td>500.00</td></tr><tr><td>9</td><td>2024-02-09</td><td>107</td><td>Grace White</td><td>grace@example.com</td><td>208</td><td>Keyboard</td><td>Accessories</td><td>303</td><td>Asia</td><td>Japan</td><td>3</td><td>100.00</td><td>300.00</td></tr><tr><td>10</td><td>2024-02-10</td><td>104</td><td>David Lee</td><td>david@example.com</td><td>209</td><td>Mouse</td><td>Accessories</td><td>301</td><td>North America</td><td>USA</td><td>1</td><td>50.00</td><td>50.00</td></tr></tbody></table></div>"
      ]
     },
     "metadata": {
      "application/vnd.databricks.v1+output": {
       "addedWidgets": {},
       "aggData": [],
       "aggError": "",
       "aggOverflow": false,
       "aggSchema": [],
       "aggSeriesLimitReached": false,
       "aggType": "",
       "arguments": {},
       "columnCustomDisplayInfos": {},
       "data": [
        [
         1,
         "2024-02-01",
         101,
         "Alice Johnson",
         "alice@example.com",
         201,
         "Laptop",
         "Electronics",
         301,
         "North America",
         "USA",
         2,
         "800.00",
         "1600.00"
        ],
        [
         2,
         "2024-02-02",
         102,
         "Bob Smith",
         "bob@example.com",
         202,
         "Smartphone",
         "Electronics",
         302,
         "Europe",
         "Germany",
         1,
         "500.00",
         "500.00"
        ],
        [
         3,
         "2024-02-03",
         103,
         "Charlie Brown",
         "charlie@example.com",
         203,
         "Tablet",
         "Electronics",
         303,
         "Asia",
         "India",
         3,
         "300.00",
         "900.00"
        ],
        [
         4,
         "2024-02-04",
         101,
         "Alice Johnson",
         "alice@example.com",
         204,
         "Headphones",
         "Accessories",
         301,
         "North America",
         "USA",
         1,
         "150.00",
         "150.00"
        ],
        [
         5,
         "2024-02-05",
         104,
         "David Lee",
         "david@example.com",
         205,
         "Gaming Console",
         "Electronics",
         302,
         "Europe",
         "France",
         1,
         "400.00",
         "400.00"
        ],
        [
         6,
         "2024-02-06",
         102,
         "Bob Smith",
         "bob@example.com",
         206,
         "Smartwatch",
         "Electronics",
         303,
         "Asia",
         "China",
         2,
         "200.00",
         "400.00"
        ],
        [
         7,
         "2024-02-07",
         105,
         "Eve Adams",
         "eve@example.com",
         201,
         "Laptop",
         "Electronics",
         301,
         "North America",
         "Canada",
         1,
         "800.00",
         "800.00"
        ],
        [
         8,
         "2024-02-08",
         106,
         "Frank Miller",
         "frank@example.com",
         207,
         "Monitor",
         "Accessories",
         302,
         "Europe",
         "Italy",
         2,
         "250.00",
         "500.00"
        ],
        [
         9,
         "2024-02-09",
         107,
         "Grace White",
         "grace@example.com",
         208,
         "Keyboard",
         "Accessories",
         303,
         "Asia",
         "Japan",
         3,
         "100.00",
         "300.00"
        ],
        [
         10,
         "2024-02-10",
         104,
         "David Lee",
         "david@example.com",
         209,
         "Mouse",
         "Accessories",
         301,
         "North America",
         "USA",
         1,
         "50.00",
         "50.00"
        ]
       ],
       "datasetInfos": [
        {
         "name": "_sqldf",
         "schema": {
          "fields": [
           {
            "metadata": {},
            "name": "OrderID",
            "nullable": true,
            "type": "integer"
           },
           {
            "metadata": {},
            "name": "OrderDate",
            "nullable": true,
            "type": "date"
           },
           {
            "metadata": {},
            "name": "CustomerID",
            "nullable": true,
            "type": "integer"
           },
           {
            "metadata": {
             "__CHAR_VARCHAR_TYPE_STRING": "varchar(100)"
            },
            "name": "CustomerName",
            "nullable": true,
            "type": "string"
           },
           {
            "metadata": {
             "__CHAR_VARCHAR_TYPE_STRING": "varchar(100)"
            },
            "name": "CustomerEmail",
            "nullable": true,
            "type": "string"
           },
           {
            "metadata": {},
            "name": "ProductID",
            "nullable": true,
            "type": "integer"
           },
           {
            "metadata": {
             "__CHAR_VARCHAR_TYPE_STRING": "varchar(100)"
            },
            "name": "ProductName",
            "nullable": true,
            "type": "string"
           },
           {
            "metadata": {
             "__CHAR_VARCHAR_TYPE_STRING": "varchar(50)"
            },
            "name": "ProductCategory",
            "nullable": true,
            "type": "string"
           },
           {
            "metadata": {},
            "name": "RegionID",
            "nullable": true,
            "type": "integer"
           },
           {
            "metadata": {
             "__CHAR_VARCHAR_TYPE_STRING": "varchar(50)"
            },
            "name": "RegionName",
            "nullable": true,
            "type": "string"
           },
           {
            "metadata": {
             "__CHAR_VARCHAR_TYPE_STRING": "varchar(50)"
            },
            "name": "Country",
            "nullable": true,
            "type": "string"
           },
           {
            "metadata": {},
            "name": "Quantity",
            "nullable": true,
            "type": "integer"
           },
           {
            "metadata": {},
            "name": "UnitPrice",
            "nullable": true,
            "type": "decimal(10,2)"
           },
           {
            "metadata": {},
            "name": "TotalAmount",
            "nullable": true,
            "type": "decimal(10,2)"
           }
          ],
          "type": "struct"
         },
         "tableIdentifier": null,
         "typeStr": "pyspark.sql.connect.dataframe.DataFrame"
        }
       ],
       "dbfsResultPath": null,
       "isJsonSchema": true,
       "metadata": {
        "createTempViewForImplicitDf": true,
        "dataframeName": "_sqldf",
        "executionCount": 3
       },
       "overflow": false,
       "plotOptions": {
        "customPlotOptions": {},
        "displayType": "table",
        "pivotAggregation": null,
        "pivotColumns": null,
        "xColumns": null,
        "yColumns": null
       },
       "removedWidgets": [],
       "schema": [
        {
         "metadata": "{}",
         "name": "OrderID",
         "type": "\"integer\""
        },
        {
         "metadata": "{}",
         "name": "OrderDate",
         "type": "\"date\""
        },
        {
         "metadata": "{}",
         "name": "CustomerID",
         "type": "\"integer\""
        },
        {
         "metadata": "{\"__CHAR_VARCHAR_TYPE_STRING\": \"varchar(100)\"}",
         "name": "CustomerName",
         "type": "\"string\""
        },
        {
         "metadata": "{\"__CHAR_VARCHAR_TYPE_STRING\": \"varchar(100)\"}",
         "name": "CustomerEmail",
         "type": "\"string\""
        },
        {
         "metadata": "{}",
         "name": "ProductID",
         "type": "\"integer\""
        },
        {
         "metadata": "{\"__CHAR_VARCHAR_TYPE_STRING\": \"varchar(100)\"}",
         "name": "ProductName",
         "type": "\"string\""
        },
        {
         "metadata": "{\"__CHAR_VARCHAR_TYPE_STRING\": \"varchar(50)\"}",
         "name": "ProductCategory",
         "type": "\"string\""
        },
        {
         "metadata": "{}",
         "name": "RegionID",
         "type": "\"integer\""
        },
        {
         "metadata": "{\"__CHAR_VARCHAR_TYPE_STRING\": \"varchar(50)\"}",
         "name": "RegionName",
         "type": "\"string\""
        },
        {
         "metadata": "{\"__CHAR_VARCHAR_TYPE_STRING\": \"varchar(50)\"}",
         "name": "Country",
         "type": "\"string\""
        },
        {
         "metadata": "{}",
         "name": "Quantity",
         "type": "\"integer\""
        },
        {
         "metadata": "{}",
         "name": "UnitPrice",
         "type": "\"decimal(10,2)\""
        },
        {
         "metadata": "{}",
         "name": "TotalAmount",
         "type": "\"decimal(10,2)\""
        }
       ],
       "type": "table"
      }
     },
     "output_type": "display_data"
    }
   ],
   "source": [
    "%sql\n",
    "select * from datamodel.default.sales;"
   ]
  },
  {
   "cell_type": "code",
   "execution_count": 0,
   "metadata": {
    "application/vnd.databricks.v1+cell": {
     "cellMetadata": {
      "byteLimit": 2048000,
      "implicitDf": true,
      "rowLimit": 10000
     },
     "inputWidgets": {},
     "nuid": "a0045390-9151-4796-91ac-b78a4d6a4441",
     "showTitle": false,
     "tableResultSettingsMap": {},
     "title": ""
    }
   },
   "outputs": [
    {
     "output_type": "display_data",
     "data": {
      "text/html": [
       "<style scoped>\n",
       "  .table-result-container {\n",
       "    max-height: 300px;\n",
       "    overflow: auto;\n",
       "  }\n",
       "  table, th, td {\n",
       "    border: 1px solid black;\n",
       "    border-collapse: collapse;\n",
       "  }\n",
       "  th, td {\n",
       "    padding: 5px;\n",
       "  }\n",
       "  th {\n",
       "    text-align: left;\n",
       "  }\n",
       "</style><div class='table-result-container'><table class='table-result'><thead style='background-color: white'><tr><th>num_affected_rows</th><th>num_inserted_rows</th></tr></thead><tbody><tr><td>3</td><td>3</td></tr></tbody></table></div>"
      ]
     },
     "metadata": {
      "application/vnd.databricks.v1+output": {
       "addedWidgets": {},
       "aggData": [],
       "aggError": "",
       "aggOverflow": false,
       "aggSchema": [],
       "aggSeriesLimitReached": false,
       "aggType": "",
       "arguments": {},
       "columnCustomDisplayInfos": {},
       "data": [
        [
         3,
         3
        ]
       ],
       "datasetInfos": [
        {
         "name": "_sqldf",
         "schema": {
          "fields": [
           {
            "metadata": {},
            "name": "num_affected_rows",
            "nullable": true,
            "type": "long"
           },
           {
            "metadata": {},
            "name": "num_inserted_rows",
            "nullable": true,
            "type": "long"
           }
          ],
          "type": "struct"
         },
         "tableIdentifier": null,
         "typeStr": "pyspark.sql.connect.dataframe.DataFrame"
        }
       ],
       "dbfsResultPath": null,
       "isJsonSchema": true,
       "metadata": {
        "createTempViewForImplicitDf": true,
        "dataframeName": "_sqldf",
        "executionCount": 109
       },
       "overflow": false,
       "plotOptions": {
        "customPlotOptions": {},
        "displayType": "table",
        "pivotAggregation": null,
        "pivotColumns": null,
        "xColumns": null,
        "yColumns": null
       },
       "removedWidgets": [],
       "schema": [
        {
         "metadata": "{}",
         "name": "num_affected_rows",
         "type": "\"long\""
        },
        {
         "metadata": "{}",
         "name": "num_inserted_rows",
         "type": "\"long\""
        }
       ],
       "type": "table"
      }
     },
     "output_type": "display_data"
    }
   ],
   "source": [
    "%sql\n",
    "INSERT INTO datamodel.default.sales (OrderID, OrderDate, CustomerID, CustomerName, CustomerEmail, ProductID, ProductName, ProductCategory, RegionID, RegionName, Country, Quantity, UnitPrice, TotalAmount) \n",
    "VALUES \n",
    "(11, '2024-02-11', 101, 'Alice Johnson', 'alice@example.com', 201, 'Gaming Laptop', 'Electronics', 301, 'North America', 'USA', 2, 800.00, 1600.00),\n",
    "(12, '2024-02-12', 102, 'Bob Smith', 'bob.smith@example.com', 230, 'Airpods', 'Electronics', 302, 'Europe', 'Germany', 1, 500.00, 500.00),\n",
    "(13, '2024-02-12', 108, 'Stephen Lee', 'stephen@example.com', 205, 'Gaming Console', 'Electronics', 302, 'Europe', 'France', 1, 400.00, 400.00)"
   ]
  },
  {
   "cell_type": "markdown",
   "metadata": {
    "application/vnd.databricks.v1+cell": {
     "cellMetadata": {},
     "inputWidgets": {},
     "nuid": "f7900518-c780-48aa-8185-635c1b55acc9",
     "showTitle": false,
     "tableResultSettingsMap": {},
     "title": ""
    }
   },
   "source": [
    "### Staging Layer"
   ]
  },
  {
   "cell_type": "markdown",
   "metadata": {
    "application/vnd.databricks.v1+cell": {
     "cellMetadata": {},
     "inputWidgets": {},
     "nuid": "21ef1b04-f312-4843-bdca-cc95a3a590fc",
     "showTitle": false,
     "tableResultSettingsMap": {},
     "title": ""
    }
   },
   "source": [
    "#### Transient"
   ]
  },
  {
   "cell_type": "code",
   "execution_count": 0,
   "metadata": {
    "application/vnd.databricks.v1+cell": {
     "cellMetadata": {
      "byteLimit": 2048000,
      "rowLimit": 10000
     },
     "inputWidgets": {},
     "nuid": "a44335ee-46ed-4d36-8d25-1d686dbde194",
     "showTitle": false,
     "tableResultSettingsMap": {},
     "title": ""
    }
   },
   "outputs": [],
   "source": [
    "if spark.catalog.tableExists(\"datamodel.dwh.stag_sales\"):\n",
    "    last_load_date_obj = spark.sql(\"select max(OrderDate) as last_load_date from datamodel.dwh.dim_dates\").collect()[0]['last_load_date']\n",
    "    last_load_date = last_load_date_obj.strftime(\"%Y-%m-%d\") if last_load_date_obj else '2100-01-01'\n",
    "else:\n",
    "    last_load_date = '1900-01-01'"
   ]
  },
  {
   "cell_type": "code",
   "execution_count": 0,
   "metadata": {
    "application/vnd.databricks.v1+cell": {
     "cellMetadata": {
      "byteLimit": 2048000,
      "rowLimit": 10000
     },
     "inputWidgets": {},
     "nuid": "28fa5587-6f5d-48a6-a672-a2a013e9cbcf",
     "showTitle": false,
     "tableResultSettingsMap": {},
     "title": ""
    }
   },
   "outputs": [
    {
     "output_type": "execute_result",
     "data": {
      "text/plain": [
       "'1900-01-01'"
      ]
     },
     "execution_count": 92,
     "metadata": {},
     "output_type": "execute_result"
    }
   ],
   "source": [
    "last_load_date"
   ]
  },
  {
   "cell_type": "markdown",
   "metadata": {
    "application/vnd.databricks.v1+cell": {
     "cellMetadata": {},
     "inputWidgets": {},
     "nuid": "f3a39c36-73c1-4dc2-893f-6ad6c46c06e4",
     "showTitle": false,
     "tableResultSettingsMap": {},
     "title": ""
    }
   },
   "source": [
    "#### Transformation"
   ]
  },
  {
   "cell_type": "code",
   "execution_count": 0,
   "metadata": {
    "application/vnd.databricks.v1+cell": {
     "cellMetadata": {
      "byteLimit": 2048000,
      "rowLimit": 10000
     },
     "inputWidgets": {},
     "nuid": "4dff3ec2-fa79-449b-8db5-b85e68926a0d",
     "showTitle": false,
     "tableResultSettingsMap": {},
     "title": ""
    }
   },
   "outputs": [],
   "source": [
    "spark.sql(f\"\"\"\n",
    "            select\n",
    "              *,\n",
    "              TotalAmount / 4000 as TotalAmountUSD,\n",
    "              split(cast(OrderDate as string), '-')[0] as OrderYear,\n",
    "              split(cast(OrderDate as string), '-')[1] as OrderMonth,\n",
    "              current_date() as ProcessedDate\n",
    "            from datamodel.default.sales\n",
    "            where OrderID is not null\n",
    "              and Quantity is not null\n",
    "              and UnitPrice is not null\n",
    "              and OrderDate > '{last_load_date}'\n",
    "          \"\"\").createOrReplaceTempView(\"stag_sales_view\")"
   ]
  },
  {
   "cell_type": "code",
   "execution_count": 0,
   "metadata": {
    "application/vnd.databricks.v1+cell": {
     "cellMetadata": {
      "byteLimit": 2048000,
      "implicitDf": true,
      "rowLimit": 10000
     },
     "inputWidgets": {},
     "nuid": "9c0cbf39-fa69-4eb1-93d8-b66916dd4f98",
     "showTitle": false,
     "tableResultSettingsMap": {},
     "title": ""
    }
   },
   "outputs": [],
   "source": [
    "%sql\n",
    "create schema datamodel.dwh;"
   ]
  },
  {
   "cell_type": "code",
   "execution_count": 0,
   "metadata": {
    "application/vnd.databricks.v1+cell": {
     "cellMetadata": {
      "byteLimit": 2048000,
      "implicitDf": true,
      "rowLimit": 10000
     },
     "inputWidgets": {},
     "nuid": "0d035f64-756d-4aa6-8990-15071703a75a",
     "showTitle": false,
     "tableResultSettingsMap": {},
     "title": ""
    }
   },
   "outputs": [
    {
     "output_type": "display_data",
     "data": {
      "text/html": [
       "<style scoped>\n",
       "  .table-result-container {\n",
       "    max-height: 300px;\n",
       "    overflow: auto;\n",
       "  }\n",
       "  table, th, td {\n",
       "    border: 1px solid black;\n",
       "    border-collapse: collapse;\n",
       "  }\n",
       "  th, td {\n",
       "    padding: 5px;\n",
       "  }\n",
       "  th {\n",
       "    text-align: left;\n",
       "  }\n",
       "</style><div class='table-result-container'><table class='table-result'><thead style='background-color: white'><tr><th>num_affected_rows</th><th>num_inserted_rows</th></tr></thead><tbody></tbody></table></div>"
      ]
     },
     "metadata": {
      "application/vnd.databricks.v1+output": {
       "addedWidgets": {},
       "aggData": [],
       "aggError": "",
       "aggOverflow": false,
       "aggSchema": [],
       "aggSeriesLimitReached": false,
       "aggType": "",
       "arguments": {},
       "columnCustomDisplayInfos": {},
       "data": [],
       "datasetInfos": [
        {
         "name": "_sqldf",
         "schema": {
          "fields": [
           {
            "metadata": {},
            "name": "num_affected_rows",
            "nullable": true,
            "type": "long"
           },
           {
            "metadata": {},
            "name": "num_inserted_rows",
            "nullable": true,
            "type": "long"
           }
          ],
          "type": "struct"
         },
         "tableIdentifier": null,
         "typeStr": "pyspark.sql.connect.dataframe.DataFrame"
        }
       ],
       "dbfsResultPath": null,
       "isJsonSchema": true,
       "metadata": {
        "createTempViewForImplicitDf": true,
        "dataframeName": "_sqldf",
        "executionCount": 112
       },
       "overflow": false,
       "plotOptions": {
        "customPlotOptions": {},
        "displayType": "table",
        "pivotAggregation": null,
        "pivotColumns": null,
        "xColumns": null,
        "yColumns": null
       },
       "removedWidgets": [],
       "schema": [
        {
         "metadata": "{}",
         "name": "num_affected_rows",
         "type": "\"long\""
        },
        {
         "metadata": "{}",
         "name": "num_inserted_rows",
         "type": "\"long\""
        }
       ],
       "type": "table"
      }
     },
     "output_type": "display_data"
    }
   ],
   "source": [
    "%sql\n",
    "create or replace table datamodel.dwh.stag_sales\n",
    "as\n",
    "select * from stag_sales_view;"
   ]
  },
  {
   "cell_type": "code",
   "execution_count": 0,
   "metadata": {
    "application/vnd.databricks.v1+cell": {
     "cellMetadata": {
      "byteLimit": 2048000,
      "implicitDf": true,
      "rowLimit": 10000
     },
     "inputWidgets": {},
     "nuid": "16b9a909-defa-4986-89d2-157de0bfd3de",
     "showTitle": false,
     "tableResultSettingsMap": {},
     "title": ""
    }
   },
   "outputs": [],
   "source": [
    "%sql\n",
    "drop table datamodel.dwh.stag_sales;"
   ]
  },
  {
   "cell_type": "code",
   "execution_count": 0,
   "metadata": {
    "application/vnd.databricks.v1+cell": {
     "cellMetadata": {
      "byteLimit": 2048000,
      "implicitDf": true,
      "rowLimit": 10000
     },
     "inputWidgets": {},
     "nuid": "3a8c9538-6d6b-42c7-bae9-c9f697a7a9b1",
     "showTitle": false,
     "tableResultSettingsMap": {},
     "title": ""
    }
   },
   "outputs": [
    {
     "output_type": "display_data",
     "data": {
      "text/html": [
       "<style scoped>\n",
       "  .table-result-container {\n",
       "    max-height: 300px;\n",
       "    overflow: auto;\n",
       "  }\n",
       "  table, th, td {\n",
       "    border: 1px solid black;\n",
       "    border-collapse: collapse;\n",
       "  }\n",
       "  th, td {\n",
       "    padding: 5px;\n",
       "  }\n",
       "  th {\n",
       "    text-align: left;\n",
       "  }\n",
       "</style><div class='table-result-container'><table class='table-result'><thead style='background-color: white'><tr><th>OrderID</th><th>OrderDate</th><th>CustomerID</th><th>CustomerName</th><th>CustomerEmail</th><th>ProductID</th><th>ProductName</th><th>ProductCategory</th><th>RegionID</th><th>RegionName</th><th>Country</th><th>Quantity</th><th>UnitPrice</th><th>TotalAmount</th><th>TotalAmountUSD</th><th>OrderYear</th><th>OrderMonth</th><th>ProcessedDate</th></tr></thead><tbody><tr><td>1</td><td>2024-02-01</td><td>101</td><td>Alice Johnson</td><td>alice@example.com</td><td>201</td><td>Laptop</td><td>Electronics</td><td>301</td><td>North America</td><td>USA</td><td>2</td><td>800.00</td><td>1600.00</td><td>0.4000000</td><td>2024</td><td>02</td><td>2025-08-13</td></tr><tr><td>2</td><td>2024-02-02</td><td>102</td><td>Bob Smith</td><td>bob@example.com</td><td>202</td><td>Smartphone</td><td>Electronics</td><td>302</td><td>Europe</td><td>Germany</td><td>1</td><td>500.00</td><td>500.00</td><td>0.1250000</td><td>2024</td><td>02</td><td>2025-08-13</td></tr><tr><td>3</td><td>2024-02-03</td><td>103</td><td>Charlie Brown</td><td>charlie@example.com</td><td>203</td><td>Tablet</td><td>Electronics</td><td>303</td><td>Asia</td><td>India</td><td>3</td><td>300.00</td><td>900.00</td><td>0.2250000</td><td>2024</td><td>02</td><td>2025-08-13</td></tr><tr><td>4</td><td>2024-02-04</td><td>101</td><td>Alice Johnson</td><td>alice@example.com</td><td>204</td><td>Headphones</td><td>Accessories</td><td>301</td><td>North America</td><td>USA</td><td>1</td><td>150.00</td><td>150.00</td><td>0.0375000</td><td>2024</td><td>02</td><td>2025-08-13</td></tr><tr><td>5</td><td>2024-02-05</td><td>104</td><td>David Lee</td><td>david@example.com</td><td>205</td><td>Gaming Console</td><td>Electronics</td><td>302</td><td>Europe</td><td>France</td><td>1</td><td>400.00</td><td>400.00</td><td>0.1000000</td><td>2024</td><td>02</td><td>2025-08-13</td></tr><tr><td>6</td><td>2024-02-06</td><td>102</td><td>Bob Smith</td><td>bob@example.com</td><td>206</td><td>Smartwatch</td><td>Electronics</td><td>303</td><td>Asia</td><td>China</td><td>2</td><td>200.00</td><td>400.00</td><td>0.1000000</td><td>2024</td><td>02</td><td>2025-08-13</td></tr><tr><td>7</td><td>2024-02-07</td><td>105</td><td>Eve Adams</td><td>eve@example.com</td><td>201</td><td>Laptop</td><td>Electronics</td><td>301</td><td>North America</td><td>Canada</td><td>1</td><td>800.00</td><td>800.00</td><td>0.2000000</td><td>2024</td><td>02</td><td>2025-08-13</td></tr><tr><td>8</td><td>2024-02-08</td><td>106</td><td>Frank Miller</td><td>frank@example.com</td><td>207</td><td>Monitor</td><td>Accessories</td><td>302</td><td>Europe</td><td>Italy</td><td>2</td><td>250.00</td><td>500.00</td><td>0.1250000</td><td>2024</td><td>02</td><td>2025-08-13</td></tr><tr><td>9</td><td>2024-02-09</td><td>107</td><td>Grace White</td><td>grace@example.com</td><td>208</td><td>Keyboard</td><td>Accessories</td><td>303</td><td>Asia</td><td>Japan</td><td>3</td><td>100.00</td><td>300.00</td><td>0.0750000</td><td>2024</td><td>02</td><td>2025-08-13</td></tr><tr><td>10</td><td>2024-02-10</td><td>104</td><td>David Lee</td><td>david@example.com</td><td>209</td><td>Mouse</td><td>Accessories</td><td>301</td><td>North America</td><td>USA</td><td>1</td><td>50.00</td><td>50.00</td><td>0.0125000</td><td>2024</td><td>02</td><td>2025-08-13</td></tr></tbody></table></div>"
      ]
     },
     "metadata": {
      "application/vnd.databricks.v1+output": {
       "addedWidgets": {},
       "aggData": [],
       "aggError": "",
       "aggOverflow": false,
       "aggSchema": [],
       "aggSeriesLimitReached": false,
       "aggType": "",
       "arguments": {},
       "columnCustomDisplayInfos": {},
       "data": [
        [
         1,
         "2024-02-01",
         101,
         "Alice Johnson",
         "alice@example.com",
         201,
         "Laptop",
         "Electronics",
         301,
         "North America",
         "USA",
         2,
         "800.00",
         "1600.00",
         "0.4000000",
         "2024",
         "02",
         "2025-08-13"
        ],
        [
         2,
         "2024-02-02",
         102,
         "Bob Smith",
         "bob@example.com",
         202,
         "Smartphone",
         "Electronics",
         302,
         "Europe",
         "Germany",
         1,
         "500.00",
         "500.00",
         "0.1250000",
         "2024",
         "02",
         "2025-08-13"
        ],
        [
         3,
         "2024-02-03",
         103,
         "Charlie Brown",
         "charlie@example.com",
         203,
         "Tablet",
         "Electronics",
         303,
         "Asia",
         "India",
         3,
         "300.00",
         "900.00",
         "0.2250000",
         "2024",
         "02",
         "2025-08-13"
        ],
        [
         4,
         "2024-02-04",
         101,
         "Alice Johnson",
         "alice@example.com",
         204,
         "Headphones",
         "Accessories",
         301,
         "North America",
         "USA",
         1,
         "150.00",
         "150.00",
         "0.0375000",
         "2024",
         "02",
         "2025-08-13"
        ],
        [
         5,
         "2024-02-05",
         104,
         "David Lee",
         "david@example.com",
         205,
         "Gaming Console",
         "Electronics",
         302,
         "Europe",
         "France",
         1,
         "400.00",
         "400.00",
         "0.1000000",
         "2024",
         "02",
         "2025-08-13"
        ],
        [
         6,
         "2024-02-06",
         102,
         "Bob Smith",
         "bob@example.com",
         206,
         "Smartwatch",
         "Electronics",
         303,
         "Asia",
         "China",
         2,
         "200.00",
         "400.00",
         "0.1000000",
         "2024",
         "02",
         "2025-08-13"
        ],
        [
         7,
         "2024-02-07",
         105,
         "Eve Adams",
         "eve@example.com",
         201,
         "Laptop",
         "Electronics",
         301,
         "North America",
         "Canada",
         1,
         "800.00",
         "800.00",
         "0.2000000",
         "2024",
         "02",
         "2025-08-13"
        ],
        [
         8,
         "2024-02-08",
         106,
         "Frank Miller",
         "frank@example.com",
         207,
         "Monitor",
         "Accessories",
         302,
         "Europe",
         "Italy",
         2,
         "250.00",
         "500.00",
         "0.1250000",
         "2024",
         "02",
         "2025-08-13"
        ],
        [
         9,
         "2024-02-09",
         107,
         "Grace White",
         "grace@example.com",
         208,
         "Keyboard",
         "Accessories",
         303,
         "Asia",
         "Japan",
         3,
         "100.00",
         "300.00",
         "0.0750000",
         "2024",
         "02",
         "2025-08-13"
        ],
        [
         10,
         "2024-02-10",
         104,
         "David Lee",
         "david@example.com",
         209,
         "Mouse",
         "Accessories",
         301,
         "North America",
         "USA",
         1,
         "50.00",
         "50.00",
         "0.0125000",
         "2024",
         "02",
         "2025-08-13"
        ]
       ],
       "datasetInfos": [
        {
         "name": "_sqldf",
         "schema": {
          "fields": [
           {
            "metadata": {},
            "name": "OrderID",
            "nullable": true,
            "type": "integer"
           },
           {
            "metadata": {},
            "name": "OrderDate",
            "nullable": true,
            "type": "date"
           },
           {
            "metadata": {},
            "name": "CustomerID",
            "nullable": true,
            "type": "integer"
           },
           {
            "metadata": {
             "__CHAR_VARCHAR_TYPE_STRING": "varchar(100)"
            },
            "name": "CustomerName",
            "nullable": true,
            "type": "string"
           },
           {
            "metadata": {
             "__CHAR_VARCHAR_TYPE_STRING": "varchar(100)"
            },
            "name": "CustomerEmail",
            "nullable": true,
            "type": "string"
           },
           {
            "metadata": {},
            "name": "ProductID",
            "nullable": true,
            "type": "integer"
           },
           {
            "metadata": {
             "__CHAR_VARCHAR_TYPE_STRING": "varchar(100)"
            },
            "name": "ProductName",
            "nullable": true,
            "type": "string"
           },
           {
            "metadata": {
             "__CHAR_VARCHAR_TYPE_STRING": "varchar(50)"
            },
            "name": "ProductCategory",
            "nullable": true,
            "type": "string"
           },
           {
            "metadata": {},
            "name": "RegionID",
            "nullable": true,
            "type": "integer"
           },
           {
            "metadata": {
             "__CHAR_VARCHAR_TYPE_STRING": "varchar(50)"
            },
            "name": "RegionName",
            "nullable": true,
            "type": "string"
           },
           {
            "metadata": {
             "__CHAR_VARCHAR_TYPE_STRING": "varchar(50)"
            },
            "name": "Country",
            "nullable": true,
            "type": "string"
           },
           {
            "metadata": {},
            "name": "Quantity",
            "nullable": true,
            "type": "integer"
           },
           {
            "metadata": {},
            "name": "UnitPrice",
            "nullable": true,
            "type": "decimal(10,2)"
           },
           {
            "metadata": {},
            "name": "TotalAmount",
            "nullable": true,
            "type": "decimal(10,2)"
           },
           {
            "metadata": {},
            "name": "TotalAmountUSD",
            "nullable": true,
            "type": "decimal(15,7)"
           },
           {
            "metadata": {},
            "name": "OrderYear",
            "nullable": true,
            "type": "string"
           },
           {
            "metadata": {},
            "name": "OrderMonth",
            "nullable": true,
            "type": "string"
           },
           {
            "metadata": {},
            "name": "ProcessedDate",
            "nullable": true,
            "type": "date"
           }
          ],
          "type": "struct"
         },
         "tableIdentifier": null,
         "typeStr": "pyspark.sql.connect.dataframe.DataFrame"
        }
       ],
       "dbfsResultPath": null,
       "isJsonSchema": true,
       "metadata": {
        "createTempViewForImplicitDf": true,
        "dataframeName": "_sqldf",
        "executionCount": 11
       },
       "overflow": false,
       "plotOptions": {
        "customPlotOptions": {},
        "displayType": "table",
        "pivotAggregation": null,
        "pivotColumns": null,
        "xColumns": null,
        "yColumns": null
       },
       "removedWidgets": [],
       "schema": [
        {
         "metadata": "{}",
         "name": "OrderID",
         "type": "\"integer\""
        },
        {
         "metadata": "{}",
         "name": "OrderDate",
         "type": "\"date\""
        },
        {
         "metadata": "{}",
         "name": "CustomerID",
         "type": "\"integer\""
        },
        {
         "metadata": "{\"__CHAR_VARCHAR_TYPE_STRING\": \"varchar(100)\"}",
         "name": "CustomerName",
         "type": "\"string\""
        },
        {
         "metadata": "{\"__CHAR_VARCHAR_TYPE_STRING\": \"varchar(100)\"}",
         "name": "CustomerEmail",
         "type": "\"string\""
        },
        {
         "metadata": "{}",
         "name": "ProductID",
         "type": "\"integer\""
        },
        {
         "metadata": "{\"__CHAR_VARCHAR_TYPE_STRING\": \"varchar(100)\"}",
         "name": "ProductName",
         "type": "\"string\""
        },
        {
         "metadata": "{\"__CHAR_VARCHAR_TYPE_STRING\": \"varchar(50)\"}",
         "name": "ProductCategory",
         "type": "\"string\""
        },
        {
         "metadata": "{}",
         "name": "RegionID",
         "type": "\"integer\""
        },
        {
         "metadata": "{\"__CHAR_VARCHAR_TYPE_STRING\": \"varchar(50)\"}",
         "name": "RegionName",
         "type": "\"string\""
        },
        {
         "metadata": "{\"__CHAR_VARCHAR_TYPE_STRING\": \"varchar(50)\"}",
         "name": "Country",
         "type": "\"string\""
        },
        {
         "metadata": "{}",
         "name": "Quantity",
         "type": "\"integer\""
        },
        {
         "metadata": "{}",
         "name": "UnitPrice",
         "type": "\"decimal(10,2)\""
        },
        {
         "metadata": "{}",
         "name": "TotalAmount",
         "type": "\"decimal(10,2)\""
        },
        {
         "metadata": "{}",
         "name": "TotalAmountUSD",
         "type": "\"decimal(15,7)\""
        },
        {
         "metadata": "{}",
         "name": "OrderYear",
         "type": "\"string\""
        },
        {
         "metadata": "{}",
         "name": "OrderMonth",
         "type": "\"string\""
        },
        {
         "metadata": "{}",
         "name": "ProcessedDate",
         "type": "\"date\""
        }
       ],
       "type": "table"
      }
     },
     "output_type": "display_data"
    }
   ],
   "source": [
    "%sql\n",
    "select * from datamodel.dwh.stag_sales;"
   ]
  },
  {
   "cell_type": "markdown",
   "metadata": {
    "application/vnd.databricks.v1+cell": {
     "cellMetadata": {},
     "inputWidgets": {},
     "nuid": "00297991-7840-458f-97bb-86ede4fc8dea",
     "showTitle": false,
     "tableResultSettingsMap": {},
     "title": ""
    }
   },
   "source": [
    "### Core Layer"
   ]
  },
  {
   "cell_type": "markdown",
   "metadata": {
    "application/vnd.databricks.v1+cell": {
     "cellMetadata": {},
     "inputWidgets": {},
     "nuid": "81918cad-9a4f-4a67-b348-53361c432e05",
     "showTitle": false,
     "tableResultSettingsMap": {},
     "title": ""
    }
   },
   "source": [
    "#### dim_customers"
   ]
  },
  {
   "cell_type": "code",
   "execution_count": 0,
   "metadata": {
    "application/vnd.databricks.v1+cell": {
     "cellMetadata": {
      "byteLimit": 2048000,
      "implicitDf": true,
      "rowLimit": 10000
     },
     "inputWidgets": {},
     "nuid": "0069f86c-10a1-45da-983f-90f5acc3882b",
     "showTitle": false,
     "tableResultSettingsMap": {},
     "title": ""
    }
   },
   "outputs": [
    {
     "output_type": "display_data",
     "data": {
      "text/html": [
       "<style scoped>\n",
       "  .table-result-container {\n",
       "    max-height: 300px;\n",
       "    overflow: auto;\n",
       "  }\n",
       "  table, th, td {\n",
       "    border: 1px solid black;\n",
       "    border-collapse: collapse;\n",
       "  }\n",
       "  th, td {\n",
       "    padding: 5px;\n",
       "  }\n",
       "  th {\n",
       "    text-align: left;\n",
       "  }\n",
       "</style><div class='table-result-container'><table class='table-result'><thead style='background-color: white'><tr><th>num_affected_rows</th><th>num_inserted_rows</th></tr></thead><tbody></tbody></table></div>"
      ]
     },
     "metadata": {
      "application/vnd.databricks.v1+output": {
       "addedWidgets": {},
       "aggData": [],
       "aggError": "",
       "aggOverflow": false,
       "aggSchema": [],
       "aggSeriesLimitReached": false,
       "aggType": "",
       "arguments": {},
       "columnCustomDisplayInfos": {},
       "data": [],
       "datasetInfos": [
        {
         "name": "_sqldf",
         "schema": {
          "fields": [
           {
            "metadata": {},
            "name": "num_affected_rows",
            "nullable": true,
            "type": "long"
           },
           {
            "metadata": {},
            "name": "num_inserted_rows",
            "nullable": true,
            "type": "long"
           }
          ],
          "type": "struct"
         },
         "tableIdentifier": null,
         "typeStr": "pyspark.sql.connect.dataframe.DataFrame"
        }
       ],
       "dbfsResultPath": null,
       "isJsonSchema": true,
       "metadata": {
        "createTempViewForImplicitDf": true,
        "dataframeName": "_sqldf",
        "executionCount": 105
       },
       "overflow": false,
       "plotOptions": {
        "customPlotOptions": {},
        "displayType": "table",
        "pivotAggregation": null,
        "pivotColumns": null,
        "xColumns": null,
        "yColumns": null
       },
       "removedWidgets": [],
       "schema": [
        {
         "metadata": "{}",
         "name": "num_affected_rows",
         "type": "\"long\""
        },
        {
         "metadata": "{}",
         "name": "num_inserted_rows",
         "type": "\"long\""
        }
       ],
       "type": "table"
      }
     },
     "output_type": "display_data"
    }
   ],
   "source": [
    "%sql\n",
    "create or replace table datamodel.dwh.dim_customers\n",
    "as\n",
    "select \n",
    "  row_number() over (order by CustomerID) as dim_CustomerKey,\n",
    "  *,\n",
    "  current_date() as StartDate,\n",
    "  date('2300-01-01') as EndDate,\n",
    "  true as isCurrent\n",
    "from (select distinct\n",
    "  CustomerID,\n",
    "  CustomerName,\n",
    "  CustomerEmail\n",
    "from datamodel.dwh.stag_sales);"
   ]
  },
  {
   "cell_type": "markdown",
   "metadata": {
    "application/vnd.databricks.v1+cell": {
     "cellMetadata": {},
     "inputWidgets": {},
     "nuid": "6dc54dce-67ab-4e99-8c5c-d52d76c89a2a",
     "showTitle": false,
     "tableResultSettingsMap": {},
     "title": ""
    }
   },
   "source": [
    "#### SCD Type - 2"
   ]
  },
  {
   "cell_type": "code",
   "execution_count": 0,
   "metadata": {
    "application/vnd.databricks.v1+cell": {
     "cellMetadata": {
      "byteLimit": 2048000,
      "rowLimit": 10000
     },
     "inputWidgets": {},
     "nuid": "8cc604c4-8cea-42eb-8692-64e1a261ac6c",
     "showTitle": false,
     "tableResultSettingsMap": {},
     "title": ""
    }
   },
   "outputs": [],
   "source": [
    "spark.sql(\"\"\"\n",
    "  with base as (select distinct\n",
    "      CustomerID,\n",
    "      CustomerName,\n",
    "      CustomerEmail\n",
    "    from datamodel.dwh.stag_sales)\n",
    "  , base2 as (\n",
    "    select \n",
    "      base.*,\n",
    "      cu.CustomerID RecordFilter,\n",
    "      cu.dim_CustomerKey,\n",
    "      mx.max_key\n",
    "    from base \n",
    "    left join datamodel.dwh.dim_customers cu\n",
    "      on base.CustomerID = cu.CustomerID\n",
    "    cross join (select coalesce(max(dim_CustomerKey), 0) max_key from datamodel.dwh.dim_customers) mx)\n",
    "  , all_records as (select row_number() over (order by CustomerID) + max_key as dim_CustomerKey,\n",
    "      CustomerID,\n",
    "      CustomerName,\n",
    "      CustomerEmail\n",
    "    from base2 where RecordFilter is null\n",
    "    union all\n",
    "    select dim_CustomerKey,\n",
    "      CustomerID,\n",
    "      CustomerName,\n",
    "      CustomerEmail from base2 \n",
    "    where RecordFilter is not null)\n",
    "  select\n",
    "    *\n",
    "  from all_records\n",
    "\"\"\").createOrReplaceTempView(\"dim_customers_view\")"
   ]
  },
  {
   "cell_type": "code",
   "execution_count": 0,
   "metadata": {
    "application/vnd.databricks.v1+cell": {
     "cellMetadata": {
      "byteLimit": 2048000,
      "implicitDf": true,
      "rowLimit": 10000
     },
     "inputWidgets": {},
     "nuid": "14579e2f-634b-4602-9546-587a212811ca",
     "showTitle": false,
     "tableResultSettingsMap": {},
     "title": ""
    }
   },
   "outputs": [
    {
     "output_type": "display_data",
     "data": {
      "text/html": [
       "<style scoped>\n",
       "  .table-result-container {\n",
       "    max-height: 300px;\n",
       "    overflow: auto;\n",
       "  }\n",
       "  table, th, td {\n",
       "    border: 1px solid black;\n",
       "    border-collapse: collapse;\n",
       "  }\n",
       "  th, td {\n",
       "    padding: 5px;\n",
       "  }\n",
       "  th {\n",
       "    text-align: left;\n",
       "  }\n",
       "</style><div class='table-result-container'><table class='table-result'><thead style='background-color: white'><tr><th>dim_CustomerKey</th><th>CustomerID</th><th>CustomerName</th><th>CustomerEmail</th></tr></thead><tbody><tr><td>8</td><td>108</td><td>Stephen Lee</td><td>stephen@example.com</td></tr><tr><td>1</td><td>101</td><td>Alice Johnson</td><td>alice@example.com</td></tr><tr><td>2</td><td>102</td><td>Bob Smith</td><td>bob.smith@example.com</td></tr></tbody></table></div>"
      ]
     },
     "metadata": {
      "application/vnd.databricks.v1+output": {
       "addedWidgets": {},
       "aggData": [],
       "aggError": "",
       "aggOverflow": false,
       "aggSchema": [],
       "aggSeriesLimitReached": false,
       "aggType": "",
       "arguments": {},
       "columnCustomDisplayInfos": {},
       "data": [
        [
         8,
         108,
         "Stephen Lee",
         "stephen@example.com"
        ],
        [
         1,
         101,
         "Alice Johnson",
         "alice@example.com"
        ],
        [
         2,
         102,
         "Bob Smith",
         "bob.smith@example.com"
        ]
       ],
       "datasetInfos": [
        {
         "name": "_sqldf",
         "schema": {
          "fields": [
           {
            "metadata": {},
            "name": "dim_CustomerKey",
            "nullable": true,
            "type": "integer"
           },
           {
            "metadata": {},
            "name": "CustomerID",
            "nullable": true,
            "type": "integer"
           },
           {
            "metadata": {
             "__CHAR_VARCHAR_TYPE_STRING": "varchar(100)"
            },
            "name": "CustomerName",
            "nullable": true,
            "type": "string"
           },
           {
            "metadata": {
             "__CHAR_VARCHAR_TYPE_STRING": "varchar(100)"
            },
            "name": "CustomerEmail",
            "nullable": true,
            "type": "string"
           }
          ],
          "type": "struct"
         },
         "tableIdentifier": null,
         "typeStr": "pyspark.sql.connect.dataframe.DataFrame"
        }
       ],
       "dbfsResultPath": null,
       "isJsonSchema": true,
       "metadata": {
        "createTempViewForImplicitDf": true,
        "dataframeName": "_sqldf",
        "executionCount": 122
       },
       "overflow": false,
       "plotOptions": {
        "customPlotOptions": {},
        "displayType": "table",
        "pivotAggregation": null,
        "pivotColumns": null,
        "xColumns": null,
        "yColumns": null
       },
       "removedWidgets": [],
       "schema": [
        {
         "metadata": "{}",
         "name": "dim_CustomerKey",
         "type": "\"integer\""
        },
        {
         "metadata": "{}",
         "name": "CustomerID",
         "type": "\"integer\""
        },
        {
         "metadata": "{\"__CHAR_VARCHAR_TYPE_STRING\": \"varchar(100)\"}",
         "name": "CustomerName",
         "type": "\"string\""
        },
        {
         "metadata": "{\"__CHAR_VARCHAR_TYPE_STRING\": \"varchar(100)\"}",
         "name": "CustomerEmail",
         "type": "\"string\""
        }
       ],
       "type": "table"
      }
     },
     "output_type": "display_data"
    }
   ],
   "source": [
    "%sql\n",
    "select * from dim_customers_view;"
   ]
  },
  {
   "cell_type": "code",
   "execution_count": 0,
   "metadata": {
    "application/vnd.databricks.v1+cell": {
     "cellMetadata": {
      "byteLimit": 2048000,
      "implicitDf": true,
      "rowLimit": 10000
     },
     "inputWidgets": {},
     "nuid": "abae852f-c1d1-4d51-988d-4ef9531d9c35",
     "showTitle": false,
     "tableResultSettingsMap": {},
     "title": ""
    }
   },
   "outputs": [
    {
     "output_type": "display_data",
     "data": {
      "text/html": [
       "<style scoped>\n",
       "  .table-result-container {\n",
       "    max-height: 300px;\n",
       "    overflow: auto;\n",
       "  }\n",
       "  table, th, td {\n",
       "    border: 1px solid black;\n",
       "    border-collapse: collapse;\n",
       "  }\n",
       "  th, td {\n",
       "    padding: 5px;\n",
       "  }\n",
       "  th {\n",
       "    text-align: left;\n",
       "  }\n",
       "</style><div class='table-result-container'><table class='table-result'><thead style='background-color: white'><tr><th>num_affected_rows</th><th>num_updated_rows</th><th>num_deleted_rows</th><th>num_inserted_rows</th></tr></thead><tbody><tr><td>1</td><td>1</td><td>0</td><td>0</td></tr></tbody></table></div>"
      ]
     },
     "metadata": {
      "application/vnd.databricks.v1+output": {
       "addedWidgets": {},
       "aggData": [],
       "aggError": "",
       "aggOverflow": false,
       "aggSchema": [],
       "aggSeriesLimitReached": false,
       "aggType": "",
       "arguments": {},
       "columnCustomDisplayInfos": {},
       "data": [
        [
         1,
         1,
         0,
         0
        ]
       ],
       "datasetInfos": [
        {
         "name": "_sqldf",
         "schema": {
          "fields": [
           {
            "metadata": {},
            "name": "num_affected_rows",
            "nullable": true,
            "type": "long"
           },
           {
            "metadata": {},
            "name": "num_updated_rows",
            "nullable": true,
            "type": "long"
           },
           {
            "metadata": {},
            "name": "num_deleted_rows",
            "nullable": true,
            "type": "long"
           },
           {
            "metadata": {},
            "name": "num_inserted_rows",
            "nullable": true,
            "type": "long"
           }
          ],
          "type": "struct"
         },
         "tableIdentifier": null,
         "typeStr": "pyspark.sql.connect.dataframe.DataFrame"
        }
       ],
       "dbfsResultPath": null,
       "isJsonSchema": true,
       "metadata": {
        "createTempViewForImplicitDf": true,
        "dataframeName": "_sqldf",
        "executionCount": 125
       },
       "overflow": false,
       "plotOptions": {
        "customPlotOptions": {},
        "displayType": "table",
        "pivotAggregation": null,
        "pivotColumns": null,
        "xColumns": null,
        "yColumns": null
       },
       "removedWidgets": [],
       "schema": [
        {
         "metadata": "{}",
         "name": "num_affected_rows",
         "type": "\"long\""
        },
        {
         "metadata": "{}",
         "name": "num_updated_rows",
         "type": "\"long\""
        },
        {
         "metadata": "{}",
         "name": "num_deleted_rows",
         "type": "\"long\""
        },
        {
         "metadata": "{}",
         "name": "num_inserted_rows",
         "type": "\"long\""
        }
       ],
       "type": "table"
      }
     },
     "output_type": "display_data"
    }
   ],
   "source": [
    "%sql\n",
    "merge into datamodel.dwh.dim_customers dst\n",
    "using dim_customers_view src\n",
    "on dst.CustomerID = src.CustomerID and dst.isCurrent = true\n",
    "when matched \n",
    "and (dst.CustomerName <> src.CustomerName \n",
    "      or dst.CustomerEmail <> src.CustomerEmail) then \n",
    "  update set endDate = current_date(), isCurrent = false"
   ]
  },
  {
   "cell_type": "code",
   "execution_count": 0,
   "metadata": {
    "application/vnd.databricks.v1+cell": {
     "cellMetadata": {
      "byteLimit": 2048000,
      "implicitDf": true,
      "rowLimit": 10000
     },
     "inputWidgets": {},
     "nuid": "74c7401c-3b24-4ae8-81b2-82c83f2ad811",
     "showTitle": false,
     "tableResultSettingsMap": {},
     "title": ""
    }
   },
   "outputs": [
    {
     "output_type": "display_data",
     "data": {
      "text/html": [
       "<style scoped>\n",
       "  .table-result-container {\n",
       "    max-height: 300px;\n",
       "    overflow: auto;\n",
       "  }\n",
       "  table, th, td {\n",
       "    border: 1px solid black;\n",
       "    border-collapse: collapse;\n",
       "  }\n",
       "  th, td {\n",
       "    padding: 5px;\n",
       "  }\n",
       "  th {\n",
       "    text-align: left;\n",
       "  }\n",
       "</style><div class='table-result-container'><table class='table-result'><thead style='background-color: white'><tr><th>num_affected_rows</th><th>num_updated_rows</th><th>num_deleted_rows</th><th>num_inserted_rows</th></tr></thead><tbody><tr><td>2</td><td>0</td><td>0</td><td>2</td></tr></tbody></table></div>"
      ]
     },
     "metadata": {
      "application/vnd.databricks.v1+output": {
       "addedWidgets": {},
       "aggData": [],
       "aggError": "",
       "aggOverflow": false,
       "aggSchema": [],
       "aggSeriesLimitReached": false,
       "aggType": "",
       "arguments": {},
       "columnCustomDisplayInfos": {},
       "data": [
        [
         2,
         0,
         0,
         2
        ]
       ],
       "datasetInfos": [
        {
         "name": "_sqldf",
         "schema": {
          "fields": [
           {
            "metadata": {},
            "name": "num_affected_rows",
            "nullable": true,
            "type": "long"
           },
           {
            "metadata": {},
            "name": "num_updated_rows",
            "nullable": true,
            "type": "long"
           },
           {
            "metadata": {},
            "name": "num_deleted_rows",
            "nullable": true,
            "type": "long"
           },
           {
            "metadata": {},
            "name": "num_inserted_rows",
            "nullable": true,
            "type": "long"
           }
          ],
          "type": "struct"
         },
         "tableIdentifier": null,
         "typeStr": "pyspark.sql.connect.dataframe.DataFrame"
        }
       ],
       "dbfsResultPath": null,
       "isJsonSchema": true,
       "metadata": {
        "createTempViewForImplicitDf": true,
        "dataframeName": "_sqldf",
        "executionCount": 139
       },
       "overflow": false,
       "plotOptions": {
        "customPlotOptions": {},
        "displayType": "table",
        "pivotAggregation": null,
        "pivotColumns": null,
        "xColumns": null,
        "yColumns": null
       },
       "removedWidgets": [],
       "schema": [
        {
         "metadata": "{}",
         "name": "num_affected_rows",
         "type": "\"long\""
        },
        {
         "metadata": "{}",
         "name": "num_updated_rows",
         "type": "\"long\""
        },
        {
         "metadata": "{}",
         "name": "num_deleted_rows",
         "type": "\"long\""
        },
        {
         "metadata": "{}",
         "name": "num_inserted_rows",
         "type": "\"long\""
        }
       ],
       "type": "table"
      }
     },
     "output_type": "display_data"
    }
   ],
   "source": [
    "%sql\n",
    "merge into datamodel.dwh.dim_customers dst\n",
    "using dim_customers_view src\n",
    "on dst.CustomerID = src.CustomerID and dst.isCurrent = true\n",
    "when not matched then \n",
    "  insert (dim_CustomerKey, CustomerID, CustomerName, CustomerEmail, StartDate, EndDate, isCurrent) \n",
    "  values (src.dim_CustomerKey, src.CustomerID, src.CustomerName, src.CustomerEmail, current_date(), date('2300-01-01'), true)\n"
   ]
  },
  {
   "cell_type": "code",
   "execution_count": 0,
   "metadata": {
    "application/vnd.databricks.v1+cell": {
     "cellMetadata": {
      "byteLimit": 2048000,
      "implicitDf": true,
      "rowLimit": 10000
     },
     "inputWidgets": {},
     "nuid": "a930374c-b23d-4cbe-8063-2242a2830ec8",
     "showTitle": false,
     "tableResultSettingsMap": {},
     "title": ""
    }
   },
   "outputs": [
    {
     "output_type": "display_data",
     "data": {
      "text/html": [
       "<style scoped>\n",
       "  .table-result-container {\n",
       "    max-height: 300px;\n",
       "    overflow: auto;\n",
       "  }\n",
       "  table, th, td {\n",
       "    border: 1px solid black;\n",
       "    border-collapse: collapse;\n",
       "  }\n",
       "  th, td {\n",
       "    padding: 5px;\n",
       "  }\n",
       "  th {\n",
       "    text-align: left;\n",
       "  }\n",
       "</style><div class='table-result-container'><table class='table-result'><thead style='background-color: white'><tr><th>dim_CustomerKey</th><th>CustomerID</th><th>CustomerName</th><th>CustomerEmail</th><th>StartDate</th><th>EndDate</th><th>isCurrent</th></tr></thead><tbody><tr><td>1</td><td>101</td><td>Alice Johnson</td><td>alice@example.com</td><td>2025-08-13</td><td>2300-01-01</td><td>true</td></tr><tr><td>3</td><td>103</td><td>Charlie Brown</td><td>charlie@example.com</td><td>2025-08-13</td><td>2300-01-01</td><td>true</td></tr><tr><td>4</td><td>104</td><td>David Lee</td><td>david@example.com</td><td>2025-08-13</td><td>2300-01-01</td><td>true</td></tr><tr><td>5</td><td>105</td><td>Eve Adams</td><td>eve@example.com</td><td>2025-08-13</td><td>2300-01-01</td><td>true</td></tr><tr><td>6</td><td>106</td><td>Frank Miller</td><td>frank@example.com</td><td>2025-08-13</td><td>2300-01-01</td><td>true</td></tr><tr><td>7</td><td>107</td><td>Grace White</td><td>grace@example.com</td><td>2025-08-13</td><td>2300-01-01</td><td>true</td></tr><tr><td>2</td><td>102</td><td>Bob Smith</td><td>bob@example.com</td><td>2025-08-13</td><td>2025-08-13</td><td>false</td></tr><tr><td>8</td><td>108</td><td>Stephen Lee</td><td>stephen@example.com</td><td>2025-08-13</td><td>2300-01-01</td><td>true</td></tr><tr><td>2</td><td>102</td><td>Bob Smith</td><td>bob.smith@example.com</td><td>2025-08-13</td><td>2300-01-01</td><td>true</td></tr></tbody></table></div>"
      ]
     },
     "metadata": {
      "application/vnd.databricks.v1+output": {
       "addedWidgets": {},
       "aggData": [],
       "aggError": "",
       "aggOverflow": false,
       "aggSchema": [],
       "aggSeriesLimitReached": false,
       "aggType": "",
       "arguments": {},
       "columnCustomDisplayInfos": {},
       "data": [
        [
         1,
         101,
         "Alice Johnson",
         "alice@example.com",
         "2025-08-13",
         "2300-01-01",
         true
        ],
        [
         3,
         103,
         "Charlie Brown",
         "charlie@example.com",
         "2025-08-13",
         "2300-01-01",
         true
        ],
        [
         4,
         104,
         "David Lee",
         "david@example.com",
         "2025-08-13",
         "2300-01-01",
         true
        ],
        [
         5,
         105,
         "Eve Adams",
         "eve@example.com",
         "2025-08-13",
         "2300-01-01",
         true
        ],
        [
         6,
         106,
         "Frank Miller",
         "frank@example.com",
         "2025-08-13",
         "2300-01-01",
         true
        ],
        [
         7,
         107,
         "Grace White",
         "grace@example.com",
         "2025-08-13",
         "2300-01-01",
         true
        ],
        [
         2,
         102,
         "Bob Smith",
         "bob@example.com",
         "2025-08-13",
         "2025-08-13",
         false
        ],
        [
         8,
         108,
         "Stephen Lee",
         "stephen@example.com",
         "2025-08-13",
         "2300-01-01",
         true
        ],
        [
         2,
         102,
         "Bob Smith",
         "bob.smith@example.com",
         "2025-08-13",
         "2300-01-01",
         true
        ]
       ],
       "datasetInfos": [
        {
         "name": "_sqldf",
         "schema": {
          "fields": [
           {
            "metadata": {},
            "name": "dim_CustomerKey",
            "nullable": true,
            "type": "integer"
           },
           {
            "metadata": {},
            "name": "CustomerID",
            "nullable": true,
            "type": "integer"
           },
           {
            "metadata": {
             "__CHAR_VARCHAR_TYPE_STRING": "varchar(100)"
            },
            "name": "CustomerName",
            "nullable": true,
            "type": "string"
           },
           {
            "metadata": {
             "__CHAR_VARCHAR_TYPE_STRING": "varchar(100)"
            },
            "name": "CustomerEmail",
            "nullable": true,
            "type": "string"
           },
           {
            "metadata": {},
            "name": "StartDate",
            "nullable": true,
            "type": "date"
           },
           {
            "metadata": {},
            "name": "EndDate",
            "nullable": true,
            "type": "date"
           },
           {
            "metadata": {},
            "name": "isCurrent",
            "nullable": true,
            "type": "boolean"
           }
          ],
          "type": "struct"
         },
         "tableIdentifier": null,
         "typeStr": "pyspark.sql.connect.dataframe.DataFrame"
        }
       ],
       "dbfsResultPath": null,
       "isJsonSchema": true,
       "metadata": {
        "createTempViewForImplicitDf": true,
        "dataframeName": "_sqldf",
        "executionCount": 140
       },
       "overflow": false,
       "plotOptions": {
        "customPlotOptions": {},
        "displayType": "table",
        "pivotAggregation": null,
        "pivotColumns": null,
        "xColumns": null,
        "yColumns": null
       },
       "removedWidgets": [],
       "schema": [
        {
         "metadata": "{}",
         "name": "dim_CustomerKey",
         "type": "\"integer\""
        },
        {
         "metadata": "{}",
         "name": "CustomerID",
         "type": "\"integer\""
        },
        {
         "metadata": "{\"__CHAR_VARCHAR_TYPE_STRING\": \"varchar(100)\"}",
         "name": "CustomerName",
         "type": "\"string\""
        },
        {
         "metadata": "{\"__CHAR_VARCHAR_TYPE_STRING\": \"varchar(100)\"}",
         "name": "CustomerEmail",
         "type": "\"string\""
        },
        {
         "metadata": "{}",
         "name": "StartDate",
         "type": "\"date\""
        },
        {
         "metadata": "{}",
         "name": "EndDate",
         "type": "\"date\""
        },
        {
         "metadata": "{}",
         "name": "isCurrent",
         "type": "\"boolean\""
        }
       ],
       "type": "table"
      }
     },
     "output_type": "display_data"
    }
   ],
   "source": [
    "%sql\n",
    "select * from datamodel.dwh.dim_customers;"
   ]
  },
  {
   "cell_type": "code",
   "execution_count": 0,
   "metadata": {
    "application/vnd.databricks.v1+cell": {
     "cellMetadata": {
      "byteLimit": 2048000,
      "implicitDf": true,
      "rowLimit": 10000
     },
     "inputWidgets": {},
     "nuid": "a47a253b-28cd-4718-9058-12e5700cf44e",
     "showTitle": false,
     "tableResultSettingsMap": {},
     "title": ""
    }
   },
   "outputs": [
    {
     "output_type": "display_data",
     "data": {
      "text/html": [
       "<style scoped>\n",
       "  .table-result-container {\n",
       "    max-height: 300px;\n",
       "    overflow: auto;\n",
       "  }\n",
       "  table, th, td {\n",
       "    border: 1px solid black;\n",
       "    border-collapse: collapse;\n",
       "  }\n",
       "  th, td {\n",
       "    padding: 5px;\n",
       "  }\n",
       "  th {\n",
       "    text-align: left;\n",
       "  }\n",
       "</style><div class='table-result-container'><table class='table-result'><thead style='background-color: white'><tr><th>version</th><th>timestamp</th><th>userId</th><th>userName</th><th>operation</th><th>operationParameters</th><th>job</th><th>notebook</th><th>clusterId</th><th>readVersion</th><th>isolationLevel</th><th>isBlindAppend</th><th>operationMetrics</th><th>userMetadata</th><th>engineInfo</th></tr></thead><tbody><tr><td>11</td><td>2025-08-13T03:32:18.000Z</td><td>78362573187593</td><td>phyominnthwin@gmail.com</td><td>MERGE</td><td>Map(predicate -> [\"((CustomerID#27898 = CustomerID#25731) AND isCurrent#27903)\"], clusterBy -> [], matchedPredicates -> [], statsOnLoad -> true, notMatchedBySourcePredicates -> [], notMatchedPredicates -> [{\"actionType\":\"insert\"}])</td><td>null</td><td>null</td><td>0813-021143-gaucu8mq-v2n</td><td>10</td><td>WriteSerializable</td><td>false</td><td>Map(numTargetRowsCopied -> 0, numTargetRowsDeleted -> 0, numTargetFilesAdded -> 2, numTargetBytesAdded -> 3931, numTargetBytesRemoved -> 0, numTargetDeletionVectorsAdded -> 0, numTargetRowsMatchedUpdated -> 0, executionTimeMs -> 1931, materializeSourceTimeMs -> 9, numTargetRowsInserted -> 2, numTargetRowsMatchedDeleted -> 0, numTargetDeletionVectorsUpdated -> 0, scanTimeMs -> 0, numTargetRowsUpdated -> 0, numOutputRows -> 2, numTargetDeletionVectorsRemoved -> 0, numTargetRowsNotMatchedBySourceUpdated -> 0, numTargetChangeFilesAdded -> 0, numSourceRows -> 3, numTargetFilesRemoved -> 0, numTargetRowsNotMatchedBySourceDeleted -> 0, rewriteTimeMs -> 1835)</td><td>null</td><td>Databricks-Runtime/17.0.x-aarch64-photon-scala2.13</td></tr><tr><td>10</td><td>2025-08-13T03:31:18.000Z</td><td>78362573187593</td><td>phyominnthwin@gmail.com</td><td>OPTIMIZE</td><td>Map(predicate -> [], auto -> true, clusterBy -> [], zOrderBy -> [], batchId -> 0)</td><td>null</td><td>null</td><td>0813-021143-gaucu8mq-v2n</td><td>9</td><td>SnapshotIsolation</td><td>false</td><td>Map(numRemovedFiles -> 2, numRemovedBytes -> 4153, p25FileSize -> 2287, numDeletionVectorsRemoved -> 1, minFileSize -> 2287, numAddedFiles -> 1, maxFileSize -> 2287, p75FileSize -> 2287, p50FileSize -> 2287, numAddedBytes -> 2287)</td><td>null</td><td>Databricks-Runtime/17.0.x-aarch64-photon-scala2.13</td></tr><tr><td>9</td><td>2025-08-13T03:31:16.000Z</td><td>78362573187593</td><td>phyominnthwin@gmail.com</td><td>MERGE</td><td>Map(predicate -> [\"((CustomerID#26951 = CustomerID#25731) AND isCurrent#26956)\"], clusterBy -> [], matchedPredicates -> [{\"predicate\":\"(NOT (CustomerName#26952 = CustomerName#25732) OR NOT (CustomerEmail#26953 = CustomerEmail#25733))\",\"actionType\":\"update\"}], statsOnLoad -> false, notMatchedBySourcePredicates -> [], notMatchedPredicates -> [])</td><td>null</td><td>null</td><td>0813-021143-gaucu8mq-v2n</td><td>8</td><td>WriteSerializable</td><td>false</td><td>Map(numTargetRowsCopied -> 0, numTargetRowsDeleted -> 0, numTargetFilesAdded -> 1, numTargetBytesAdded -> 1895, numTargetBytesRemoved -> 0, numTargetDeletionVectorsAdded -> 1, numTargetRowsMatchedUpdated -> 1, executionTimeMs -> 5971, materializeSourceTimeMs -> 616, numTargetRowsInserted -> 0, numTargetRowsMatchedDeleted -> 0, numTargetDeletionVectorsUpdated -> 0, scanTimeMs -> 1831, numTargetRowsUpdated -> 1, numOutputRows -> 1, numTargetDeletionVectorsRemoved -> 0, numTargetRowsNotMatchedBySourceUpdated -> 0, numTargetChangeFilesAdded -> 0, numSourceRows -> 3, numTargetFilesRemoved -> 0, numTargetRowsNotMatchedBySourceDeleted -> 0, rewriteTimeMs -> 3403)</td><td>null</td><td>Databricks-Runtime/17.0.x-aarch64-photon-scala2.13</td></tr><tr><td>8</td><td>2025-08-13T03:18:52.000Z</td><td>78362573187593</td><td>phyominnthwin@gmail.com</td><td>CREATE OR REPLACE TABLE AS SELECT</td><td>Map(partitionBy -> [], clusterBy -> [], description -> null, isManaged -> true, properties -> {\"delta.enableDeletionVectors\":\"true\"}, statsOnLoad -> true)</td><td>null</td><td>null</td><td>0813-021143-gaucu8mq-v2n</td><td>7</td><td>WriteSerializable</td><td>false</td><td>Map(numFiles -> 1, numRemovedFiles -> 1, numRemovedBytes -> 2248, numOutputRows -> 7, numOutputBytes -> 2258)</td><td>null</td><td>Databricks-Runtime/17.0.x-aarch64-photon-scala2.13</td></tr><tr><td>7</td><td>2025-08-13T03:16:55.000Z</td><td>78362573187593</td><td>phyominnthwin@gmail.com</td><td>CREATE OR REPLACE TABLE AS SELECT</td><td>Map(partitionBy -> [], clusterBy -> [], description -> null, isManaged -> true, properties -> {\"delta.enableDeletionVectors\":\"true\"}, statsOnLoad -> true)</td><td>null</td><td>null</td><td>0813-021143-gaucu8mq-v2n</td><td>6</td><td>WriteSerializable</td><td>false</td><td>Map(numFiles -> 1, numRemovedFiles -> 1, numRemovedBytes -> 2050, numOutputRows -> 7, numOutputBytes -> 2248)</td><td>null</td><td>Databricks-Runtime/17.0.x-aarch64-photon-scala2.13</td></tr><tr><td>6</td><td>2025-08-13T03:16:23.000Z</td><td>78362573187593</td><td>phyominnthwin@gmail.com</td><td>CREATE OR REPLACE TABLE AS SELECT</td><td>Map(partitionBy -> [], clusterBy -> [], description -> null, isManaged -> true, properties -> {\"delta.enableDeletionVectors\":\"true\"}, statsOnLoad -> false)</td><td>null</td><td>null</td><td>0813-021143-gaucu8mq-v2n</td><td>5</td><td>WriteSerializable</td><td>false</td><td>Map(numFiles -> 1, numRemovedFiles -> 1, numRemovedBytes -> 2050, numOutputRows -> 7, numOutputBytes -> 2050)</td><td>null</td><td>Databricks-Runtime/17.0.x-aarch64-photon-scala2.13</td></tr><tr><td>5</td><td>2025-08-13T03:13:25.000Z</td><td>78362573187593</td><td>phyominnthwin@gmail.com</td><td>CREATE OR REPLACE TABLE AS SELECT</td><td>Map(partitionBy -> [], clusterBy -> [], description -> null, isManaged -> true, properties -> {\"delta.enableDeletionVectors\":\"true\"}, statsOnLoad -> false)</td><td>null</td><td>null</td><td>0813-021143-gaucu8mq-v2n</td><td>4</td><td>WriteSerializable</td><td>false</td><td>Map(numFiles -> 1, numRemovedFiles -> 1, numRemovedBytes -> 1670, numOutputRows -> 7, numOutputBytes -> 2050)</td><td>null</td><td>Databricks-Runtime/17.0.x-aarch64-photon-scala2.13</td></tr><tr><td>4</td><td>2025-08-13T02:20:30.000Z</td><td>78362573187593</td><td>phyominnthwin@gmail.com</td><td>CREATE OR REPLACE TABLE AS SELECT</td><td>Map(partitionBy -> [], clusterBy -> [], description -> null, isManaged -> true, properties -> {\"delta.enableDeletionVectors\":\"true\"}, statsOnLoad -> true)</td><td>null</td><td>null</td><td>0813-021143-gaucu8mq-v2n</td><td>3</td><td>WriteSerializable</td><td>false</td><td>Map(numFiles -> 1, numRemovedFiles -> 1, numRemovedBytes -> 1673, numOutputRows -> 7, numOutputBytes -> 1670)</td><td>null</td><td>Databricks-Runtime/17.0.x-aarch64-photon-scala2.13</td></tr><tr><td>3</td><td>2025-08-12T17:21:07.000Z</td><td>78362573187593</td><td>phyominnthwin@gmail.com</td><td>OPTIMIZE</td><td>Map(predicate -> [], auto -> true, clusterBy -> [], zOrderBy -> [], batchId -> 0)</td><td>null</td><td>null</td><td>0812-152854-mjevjyvi-v2n</td><td>2</td><td>SnapshotIsolation</td><td>false</td><td>Map(numRemovedFiles -> 2, numRemovedBytes -> 3078, p25FileSize -> 1673, numDeletionVectorsRemoved -> 1, minFileSize -> 1673, numAddedFiles -> 1, maxFileSize -> 1673, p75FileSize -> 1673, p50FileSize -> 1673, numAddedBytes -> 1673)</td><td>null</td><td>Databricks-Runtime/17.0.x-aarch64-photon-scala2.13</td></tr><tr><td>2</td><td>2025-08-12T17:21:05.000Z</td><td>78362573187593</td><td>phyominnthwin@gmail.com</td><td>MERGE</td><td>Map(predicate -> [\"(CustomerID#21825 = CustomerID#21787)\"], clusterBy -> [], matchedPredicates -> [{\"actionType\":\"update\"}], statsOnLoad -> false, notMatchedBySourcePredicates -> [], notMatchedPredicates -> [{\"actionType\":\"insert\"}])</td><td>null</td><td>null</td><td>0812-152854-mjevjyvi-v2n</td><td>1</td><td>WriteSerializable</td><td>false</td><td>Map(numTargetRowsCopied -> 0, numTargetRowsDeleted -> 0, numTargetFilesAdded -> 1, numTargetBytesAdded -> 1408, numTargetBytesRemoved -> 0, numTargetDeletionVectorsAdded -> 1, numTargetRowsMatchedUpdated -> 2, executionTimeMs -> 5798, materializeSourceTimeMs -> 1025, numTargetRowsInserted -> 0, numTargetRowsMatchedDeleted -> 0, numTargetDeletionVectorsUpdated -> 0, scanTimeMs -> 1568, numTargetRowsUpdated -> 2, numOutputRows -> 2, numTargetDeletionVectorsRemoved -> 0, numTargetRowsNotMatchedBySourceUpdated -> 0, numTargetChangeFilesAdded -> 0, numSourceRows -> 2, numTargetFilesRemoved -> 0, numTargetRowsNotMatchedBySourceDeleted -> 0, rewriteTimeMs -> 3069)</td><td>null</td><td>Databricks-Runtime/17.0.x-aarch64-photon-scala2.13</td></tr><tr><td>1</td><td>2025-08-12T15:50:48.000Z</td><td>78362573187593</td><td>phyominnthwin@gmail.com</td><td>CREATE OR REPLACE TABLE AS SELECT</td><td>Map(partitionBy -> [], clusterBy -> [], description -> null, isManaged -> true, properties -> {\"delta.enableDeletionVectors\":\"true\"}, statsOnLoad -> true)</td><td>null</td><td>null</td><td>0812-152854-mjevjyvi-v2n</td><td>0</td><td>WriteSerializable</td><td>false</td><td>Map(numFiles -> 1, numRemovedFiles -> 1, numRemovedBytes -> 1670, numOutputRows -> 7, numOutputBytes -> 1670)</td><td>null</td><td>Databricks-Runtime/17.0.x-aarch64-photon-scala2.13</td></tr><tr><td>0</td><td>2025-08-12T15:49:54.000Z</td><td>78362573187593</td><td>phyominnthwin@gmail.com</td><td>CREATE OR REPLACE TABLE AS SELECT</td><td>Map(partitionBy -> [], clusterBy -> [], description -> null, isManaged -> true, properties -> {\"delta.enableDeletionVectors\":\"true\"}, statsOnLoad -> true)</td><td>null</td><td>null</td><td>0812-152854-mjevjyvi-v2n</td><td>null</td><td>WriteSerializable</td><td>false</td><td>Map(numFiles -> 1, numRemovedFiles -> 0, numRemovedBytes -> 0, numOutputRows -> 7, numOutputBytes -> 1670)</td><td>null</td><td>Databricks-Runtime/17.0.x-aarch64-photon-scala2.13</td></tr></tbody></table></div>"
      ]
     },
     "metadata": {
      "application/vnd.databricks.v1+output": {
       "addedWidgets": {},
       "aggData": [],
       "aggError": "",
       "aggOverflow": false,
       "aggSchema": [],
       "aggSeriesLimitReached": false,
       "aggType": "",
       "arguments": {},
       "columnCustomDisplayInfos": {},
       "data": [
        [
         11,
         "2025-08-13T03:32:18.000Z",
         "78362573187593",
         "phyominnthwin@gmail.com",
         "MERGE",
         {
          "clusterBy": "[]",
          "matchedPredicates": "[]",
          "notMatchedBySourcePredicates": "[]",
          "notMatchedPredicates": "[{\"actionType\":\"insert\"}]",
          "predicate": "[\"((CustomerID#27898 = CustomerID#25731) AND isCurrent#27903)\"]",
          "statsOnLoad": "true"
         },
         null,
         null,
         "0813-021143-gaucu8mq-v2n",
         10,
         "WriteSerializable",
         false,
         {
          "executionTimeMs": "1931",
          "materializeSourceTimeMs": "9",
          "numOutputRows": "2",
          "numSourceRows": "3",
          "numTargetBytesAdded": "3931",
          "numTargetBytesRemoved": "0",
          "numTargetChangeFilesAdded": "0",
          "numTargetDeletionVectorsAdded": "0",
          "numTargetDeletionVectorsRemoved": "0",
          "numTargetDeletionVectorsUpdated": "0",
          "numTargetFilesAdded": "2",
          "numTargetFilesRemoved": "0",
          "numTargetRowsCopied": "0",
          "numTargetRowsDeleted": "0",
          "numTargetRowsInserted": "2",
          "numTargetRowsMatchedDeleted": "0",
          "numTargetRowsMatchedUpdated": "0",
          "numTargetRowsNotMatchedBySourceDeleted": "0",
          "numTargetRowsNotMatchedBySourceUpdated": "0",
          "numTargetRowsUpdated": "0",
          "rewriteTimeMs": "1835",
          "scanTimeMs": "0"
         },
         null,
         "Databricks-Runtime/17.0.x-aarch64-photon-scala2.13"
        ],
        [
         10,
         "2025-08-13T03:31:18.000Z",
         "78362573187593",
         "phyominnthwin@gmail.com",
         "OPTIMIZE",
         {
          "auto": "true",
          "batchId": "0",
          "clusterBy": "[]",
          "predicate": "[]",
          "zOrderBy": "[]"
         },
         null,
         null,
         "0813-021143-gaucu8mq-v2n",
         9,
         "SnapshotIsolation",
         false,
         {
          "maxFileSize": "2287",
          "minFileSize": "2287",
          "numAddedBytes": "2287",
          "numAddedFiles": "1",
          "numDeletionVectorsRemoved": "1",
          "numRemovedBytes": "4153",
          "numRemovedFiles": "2",
          "p25FileSize": "2287",
          "p50FileSize": "2287",
          "p75FileSize": "2287"
         },
         null,
         "Databricks-Runtime/17.0.x-aarch64-photon-scala2.13"
        ],
        [
         9,
         "2025-08-13T03:31:16.000Z",
         "78362573187593",
         "phyominnthwin@gmail.com",
         "MERGE",
         {
          "clusterBy": "[]",
          "matchedPredicates": "[{\"predicate\":\"(NOT (CustomerName#26952 = CustomerName#25732) OR NOT (CustomerEmail#26953 = CustomerEmail#25733))\",\"actionType\":\"update\"}]",
          "notMatchedBySourcePredicates": "[]",
          "notMatchedPredicates": "[]",
          "predicate": "[\"((CustomerID#26951 = CustomerID#25731) AND isCurrent#26956)\"]",
          "statsOnLoad": "false"
         },
         null,
         null,
         "0813-021143-gaucu8mq-v2n",
         8,
         "WriteSerializable",
         false,
         {
          "executionTimeMs": "5971",
          "materializeSourceTimeMs": "616",
          "numOutputRows": "1",
          "numSourceRows": "3",
          "numTargetBytesAdded": "1895",
          "numTargetBytesRemoved": "0",
          "numTargetChangeFilesAdded": "0",
          "numTargetDeletionVectorsAdded": "1",
          "numTargetDeletionVectorsRemoved": "0",
          "numTargetDeletionVectorsUpdated": "0",
          "numTargetFilesAdded": "1",
          "numTargetFilesRemoved": "0",
          "numTargetRowsCopied": "0",
          "numTargetRowsDeleted": "0",
          "numTargetRowsInserted": "0",
          "numTargetRowsMatchedDeleted": "0",
          "numTargetRowsMatchedUpdated": "1",
          "numTargetRowsNotMatchedBySourceDeleted": "0",
          "numTargetRowsNotMatchedBySourceUpdated": "0",
          "numTargetRowsUpdated": "1",
          "rewriteTimeMs": "3403",
          "scanTimeMs": "1831"
         },
         null,
         "Databricks-Runtime/17.0.x-aarch64-photon-scala2.13"
        ],
        [
         8,
         "2025-08-13T03:18:52.000Z",
         "78362573187593",
         "phyominnthwin@gmail.com",
         "CREATE OR REPLACE TABLE AS SELECT",
         {
          "clusterBy": "[]",
          "description": null,
          "isManaged": "true",
          "partitionBy": "[]",
          "properties": "{\"delta.enableDeletionVectors\":\"true\"}",
          "statsOnLoad": "true"
         },
         null,
         null,
         "0813-021143-gaucu8mq-v2n",
         7,
         "WriteSerializable",
         false,
         {
          "numFiles": "1",
          "numOutputBytes": "2258",
          "numOutputRows": "7",
          "numRemovedBytes": "2248",
          "numRemovedFiles": "1"
         },
         null,
         "Databricks-Runtime/17.0.x-aarch64-photon-scala2.13"
        ],
        [
         7,
         "2025-08-13T03:16:55.000Z",
         "78362573187593",
         "phyominnthwin@gmail.com",
         "CREATE OR REPLACE TABLE AS SELECT",
         {
          "clusterBy": "[]",
          "description": null,
          "isManaged": "true",
          "partitionBy": "[]",
          "properties": "{\"delta.enableDeletionVectors\":\"true\"}",
          "statsOnLoad": "true"
         },
         null,
         null,
         "0813-021143-gaucu8mq-v2n",
         6,
         "WriteSerializable",
         false,
         {
          "numFiles": "1",
          "numOutputBytes": "2248",
          "numOutputRows": "7",
          "numRemovedBytes": "2050",
          "numRemovedFiles": "1"
         },
         null,
         "Databricks-Runtime/17.0.x-aarch64-photon-scala2.13"
        ],
        [
         6,
         "2025-08-13T03:16:23.000Z",
         "78362573187593",
         "phyominnthwin@gmail.com",
         "CREATE OR REPLACE TABLE AS SELECT",
         {
          "clusterBy": "[]",
          "description": null,
          "isManaged": "true",
          "partitionBy": "[]",
          "properties": "{\"delta.enableDeletionVectors\":\"true\"}",
          "statsOnLoad": "false"
         },
         null,
         null,
         "0813-021143-gaucu8mq-v2n",
         5,
         "WriteSerializable",
         false,
         {
          "numFiles": "1",
          "numOutputBytes": "2050",
          "numOutputRows": "7",
          "numRemovedBytes": "2050",
          "numRemovedFiles": "1"
         },
         null,
         "Databricks-Runtime/17.0.x-aarch64-photon-scala2.13"
        ],
        [
         5,
         "2025-08-13T03:13:25.000Z",
         "78362573187593",
         "phyominnthwin@gmail.com",
         "CREATE OR REPLACE TABLE AS SELECT",
         {
          "clusterBy": "[]",
          "description": null,
          "isManaged": "true",
          "partitionBy": "[]",
          "properties": "{\"delta.enableDeletionVectors\":\"true\"}",
          "statsOnLoad": "false"
         },
         null,
         null,
         "0813-021143-gaucu8mq-v2n",
         4,
         "WriteSerializable",
         false,
         {
          "numFiles": "1",
          "numOutputBytes": "2050",
          "numOutputRows": "7",
          "numRemovedBytes": "1670",
          "numRemovedFiles": "1"
         },
         null,
         "Databricks-Runtime/17.0.x-aarch64-photon-scala2.13"
        ],
        [
         4,
         "2025-08-13T02:20:30.000Z",
         "78362573187593",
         "phyominnthwin@gmail.com",
         "CREATE OR REPLACE TABLE AS SELECT",
         {
          "clusterBy": "[]",
          "description": null,
          "isManaged": "true",
          "partitionBy": "[]",
          "properties": "{\"delta.enableDeletionVectors\":\"true\"}",
          "statsOnLoad": "true"
         },
         null,
         null,
         "0813-021143-gaucu8mq-v2n",
         3,
         "WriteSerializable",
         false,
         {
          "numFiles": "1",
          "numOutputBytes": "1670",
          "numOutputRows": "7",
          "numRemovedBytes": "1673",
          "numRemovedFiles": "1"
         },
         null,
         "Databricks-Runtime/17.0.x-aarch64-photon-scala2.13"
        ],
        [
         3,
         "2025-08-12T17:21:07.000Z",
         "78362573187593",
         "phyominnthwin@gmail.com",
         "OPTIMIZE",
         {
          "auto": "true",
          "batchId": "0",
          "clusterBy": "[]",
          "predicate": "[]",
          "zOrderBy": "[]"
         },
         null,
         null,
         "0812-152854-mjevjyvi-v2n",
         2,
         "SnapshotIsolation",
         false,
         {
          "maxFileSize": "1673",
          "minFileSize": "1673",
          "numAddedBytes": "1673",
          "numAddedFiles": "1",
          "numDeletionVectorsRemoved": "1",
          "numRemovedBytes": "3078",
          "numRemovedFiles": "2",
          "p25FileSize": "1673",
          "p50FileSize": "1673",
          "p75FileSize": "1673"
         },
         null,
         "Databricks-Runtime/17.0.x-aarch64-photon-scala2.13"
        ],
        [
         2,
         "2025-08-12T17:21:05.000Z",
         "78362573187593",
         "phyominnthwin@gmail.com",
         "MERGE",
         {
          "clusterBy": "[]",
          "matchedPredicates": "[{\"actionType\":\"update\"}]",
          "notMatchedBySourcePredicates": "[]",
          "notMatchedPredicates": "[{\"actionType\":\"insert\"}]",
          "predicate": "[\"(CustomerID#21825 = CustomerID#21787)\"]",
          "statsOnLoad": "false"
         },
         null,
         null,
         "0812-152854-mjevjyvi-v2n",
         1,
         "WriteSerializable",
         false,
         {
          "executionTimeMs": "5798",
          "materializeSourceTimeMs": "1025",
          "numOutputRows": "2",
          "numSourceRows": "2",
          "numTargetBytesAdded": "1408",
          "numTargetBytesRemoved": "0",
          "numTargetChangeFilesAdded": "0",
          "numTargetDeletionVectorsAdded": "1",
          "numTargetDeletionVectorsRemoved": "0",
          "numTargetDeletionVectorsUpdated": "0",
          "numTargetFilesAdded": "1",
          "numTargetFilesRemoved": "0",
          "numTargetRowsCopied": "0",
          "numTargetRowsDeleted": "0",
          "numTargetRowsInserted": "0",
          "numTargetRowsMatchedDeleted": "0",
          "numTargetRowsMatchedUpdated": "2",
          "numTargetRowsNotMatchedBySourceDeleted": "0",
          "numTargetRowsNotMatchedBySourceUpdated": "0",
          "numTargetRowsUpdated": "2",
          "rewriteTimeMs": "3069",
          "scanTimeMs": "1568"
         },
         null,
         "Databricks-Runtime/17.0.x-aarch64-photon-scala2.13"
        ],
        [
         1,
         "2025-08-12T15:50:48.000Z",
         "78362573187593",
         "phyominnthwin@gmail.com",
         "CREATE OR REPLACE TABLE AS SELECT",
         {
          "clusterBy": "[]",
          "description": null,
          "isManaged": "true",
          "partitionBy": "[]",
          "properties": "{\"delta.enableDeletionVectors\":\"true\"}",
          "statsOnLoad": "true"
         },
         null,
         null,
         "0812-152854-mjevjyvi-v2n",
         0,
         "WriteSerializable",
         false,
         {
          "numFiles": "1",
          "numOutputBytes": "1670",
          "numOutputRows": "7",
          "numRemovedBytes": "1670",
          "numRemovedFiles": "1"
         },
         null,
         "Databricks-Runtime/17.0.x-aarch64-photon-scala2.13"
        ],
        [
         0,
         "2025-08-12T15:49:54.000Z",
         "78362573187593",
         "phyominnthwin@gmail.com",
         "CREATE OR REPLACE TABLE AS SELECT",
         {
          "clusterBy": "[]",
          "description": null,
          "isManaged": "true",
          "partitionBy": "[]",
          "properties": "{\"delta.enableDeletionVectors\":\"true\"}",
          "statsOnLoad": "true"
         },
         null,
         null,
         "0812-152854-mjevjyvi-v2n",
         null,
         "WriteSerializable",
         false,
         {
          "numFiles": "1",
          "numOutputBytes": "1670",
          "numOutputRows": "7",
          "numRemovedBytes": "0",
          "numRemovedFiles": "0"
         },
         null,
         "Databricks-Runtime/17.0.x-aarch64-photon-scala2.13"
        ]
       ],
       "datasetInfos": [
        {
         "name": "_sqldf",
         "schema": {
          "fields": [
           {
            "metadata": {},
            "name": "version",
            "nullable": true,
            "type": "long"
           },
           {
            "metadata": {},
            "name": "timestamp",
            "nullable": true,
            "type": "timestamp"
           },
           {
            "metadata": {},
            "name": "userId",
            "nullable": true,
            "type": "string"
           },
           {
            "metadata": {},
            "name": "userName",
            "nullable": true,
            "type": "string"
           },
           {
            "metadata": {},
            "name": "operation",
            "nullable": true,
            "type": "string"
           },
           {
            "metadata": {},
            "name": "operationParameters",
            "nullable": true,
            "type": {
             "keyType": "string",
             "type": "map",
             "valueContainsNull": true,
             "valueType": "string"
            }
           },
           {
            "metadata": {},
            "name": "job",
            "nullable": true,
            "type": {
             "fields": [
              {
               "metadata": {},
               "name": "jobId",
               "nullable": true,
               "type": "string"
              },
              {
               "metadata": {},
               "name": "jobName",
               "nullable": true,
               "type": "string"
              },
              {
               "metadata": {},
               "name": "jobRunId",
               "nullable": true,
               "type": "string"
              },
              {
               "metadata": {},
               "name": "runId",
               "nullable": true,
               "type": "string"
              },
              {
               "metadata": {},
               "name": "jobOwnerId",
               "nullable": true,
               "type": "string"
              },
              {
               "metadata": {},
               "name": "triggerType",
               "nullable": true,
               "type": "string"
              }
             ],
             "type": "struct"
            }
           },
           {
            "metadata": {},
            "name": "notebook",
            "nullable": true,
            "type": {
             "fields": [
              {
               "metadata": {},
               "name": "notebookId",
               "nullable": true,
               "type": "string"
              }
             ],
             "type": "struct"
            }
           },
           {
            "metadata": {},
            "name": "clusterId",
            "nullable": true,
            "type": "string"
           },
           {
            "metadata": {},
            "name": "readVersion",
            "nullable": true,
            "type": "long"
           },
           {
            "metadata": {},
            "name": "isolationLevel",
            "nullable": true,
            "type": "string"
           },
           {
            "metadata": {},
            "name": "isBlindAppend",
            "nullable": true,
            "type": "boolean"
           },
           {
            "metadata": {},
            "name": "operationMetrics",
            "nullable": true,
            "type": {
             "keyType": "string",
             "type": "map",
             "valueContainsNull": true,
             "valueType": "string"
            }
           },
           {
            "metadata": {},
            "name": "userMetadata",
            "nullable": true,
            "type": "string"
           },
           {
            "metadata": {},
            "name": "engineInfo",
            "nullable": true,
            "type": "string"
           }
          ],
          "type": "struct"
         },
         "tableIdentifier": null,
         "typeStr": "pyspark.sql.connect.dataframe.DataFrame"
        }
       ],
       "dbfsResultPath": null,
       "isJsonSchema": true,
       "metadata": {
        "createTempViewForImplicitDf": true,
        "dataframeName": "_sqldf",
        "executionCount": 132
       },
       "overflow": false,
       "plotOptions": {
        "customPlotOptions": {},
        "displayType": "table",
        "pivotAggregation": null,
        "pivotColumns": null,
        "xColumns": null,
        "yColumns": null
       },
       "removedWidgets": [],
       "schema": [
        {
         "metadata": "{}",
         "name": "version",
         "type": "\"long\""
        },
        {
         "metadata": "{}",
         "name": "timestamp",
         "type": "\"timestamp\""
        },
        {
         "metadata": "{}",
         "name": "userId",
         "type": "\"string\""
        },
        {
         "metadata": "{}",
         "name": "userName",
         "type": "\"string\""
        },
        {
         "metadata": "{}",
         "name": "operation",
         "type": "\"string\""
        },
        {
         "metadata": "{}",
         "name": "operationParameters",
         "type": "{\"keyType\":\"string\",\"type\":\"map\",\"valueContainsNull\":true,\"valueType\":\"string\"}"
        },
        {
         "metadata": "{}",
         "name": "job",
         "type": "{\"fields\":[{\"metadata\":{},\"name\":\"jobId\",\"nullable\":true,\"type\":\"string\"},{\"metadata\":{},\"name\":\"jobName\",\"nullable\":true,\"type\":\"string\"},{\"metadata\":{},\"name\":\"jobRunId\",\"nullable\":true,\"type\":\"string\"},{\"metadata\":{},\"name\":\"runId\",\"nullable\":true,\"type\":\"string\"},{\"metadata\":{},\"name\":\"jobOwnerId\",\"nullable\":true,\"type\":\"string\"},{\"metadata\":{},\"name\":\"triggerType\",\"nullable\":true,\"type\":\"string\"}],\"type\":\"struct\"}"
        },
        {
         "metadata": "{}",
         "name": "notebook",
         "type": "{\"fields\":[{\"metadata\":{},\"name\":\"notebookId\",\"nullable\":true,\"type\":\"string\"}],\"type\":\"struct\"}"
        },
        {
         "metadata": "{}",
         "name": "clusterId",
         "type": "\"string\""
        },
        {
         "metadata": "{}",
         "name": "readVersion",
         "type": "\"long\""
        },
        {
         "metadata": "{}",
         "name": "isolationLevel",
         "type": "\"string\""
        },
        {
         "metadata": "{}",
         "name": "isBlindAppend",
         "type": "\"boolean\""
        },
        {
         "metadata": "{}",
         "name": "operationMetrics",
         "type": "{\"keyType\":\"string\",\"type\":\"map\",\"valueContainsNull\":true,\"valueType\":\"string\"}"
        },
        {
         "metadata": "{}",
         "name": "userMetadata",
         "type": "\"string\""
        },
        {
         "metadata": "{}",
         "name": "engineInfo",
         "type": "\"string\""
        }
       ],
       "type": "table"
      }
     },
     "output_type": "display_data"
    }
   ],
   "source": [
    "%sql\n",
    "describe history datamodel.dwh.dim_customers;"
   ]
  },
  {
   "cell_type": "code",
   "execution_count": 0,
   "metadata": {
    "application/vnd.databricks.v1+cell": {
     "cellMetadata": {
      "byteLimit": 2048000,
      "implicitDf": true,
      "rowLimit": 10000
     },
     "inputWidgets": {},
     "nuid": "f2369adc-6d6c-4cd0-bcd9-8533f4ff2f65",
     "showTitle": false,
     "tableResultSettingsMap": {},
     "title": ""
    }
   },
   "outputs": [
    {
     "output_type": "display_data",
     "data": {
      "text/html": [
       "<style scoped>\n",
       "  .table-result-container {\n",
       "    max-height: 300px;\n",
       "    overflow: auto;\n",
       "  }\n",
       "  table, th, td {\n",
       "    border: 1px solid black;\n",
       "    border-collapse: collapse;\n",
       "  }\n",
       "  th, td {\n",
       "    padding: 5px;\n",
       "  }\n",
       "  th {\n",
       "    text-align: left;\n",
       "  }\n",
       "</style><div class='table-result-container'><table class='table-result'><thead style='background-color: white'><tr><th>table_size_after_restore</th><th>num_of_files_after_restore</th><th>num_removed_files</th><th>num_restored_files</th><th>removed_files_size</th><th>restored_files_size</th></tr></thead><tbody><tr><td>2287</td><td>1</td><td>1</td><td>0</td><td>1994</td><td>0</td></tr></tbody></table></div>"
      ]
     },
     "metadata": {
      "application/vnd.databricks.v1+output": {
       "addedWidgets": {},
       "aggData": [],
       "aggError": "",
       "aggOverflow": false,
       "aggSchema": [],
       "aggSeriesLimitReached": false,
       "aggType": "",
       "arguments": {},
       "columnCustomDisplayInfos": {},
       "data": [
        [
         2287,
         1,
         1,
         0,
         1994,
         0
        ]
       ],
       "datasetInfos": [
        {
         "name": "_sqldf",
         "schema": {
          "fields": [
           {
            "metadata": {},
            "name": "table_size_after_restore",
            "nullable": true,
            "type": "long"
           },
           {
            "metadata": {},
            "name": "num_of_files_after_restore",
            "nullable": true,
            "type": "long"
           },
           {
            "metadata": {},
            "name": "num_removed_files",
            "nullable": true,
            "type": "long"
           },
           {
            "metadata": {},
            "name": "num_restored_files",
            "nullable": true,
            "type": "long"
           },
           {
            "metadata": {},
            "name": "removed_files_size",
            "nullable": true,
            "type": "long"
           },
           {
            "metadata": {},
            "name": "restored_files_size",
            "nullable": true,
            "type": "long"
           }
          ],
          "type": "struct"
         },
         "tableIdentifier": null,
         "typeStr": "pyspark.sql.connect.dataframe.DataFrame"
        }
       ],
       "dbfsResultPath": null,
       "isJsonSchema": true,
       "metadata": {
        "createTempViewForImplicitDf": true,
        "dataframeName": "_sqldf",
        "executionCount": 138
       },
       "overflow": false,
       "plotOptions": {
        "customPlotOptions": {},
        "displayType": "table",
        "pivotAggregation": null,
        "pivotColumns": null,
        "xColumns": null,
        "yColumns": null
       },
       "removedWidgets": [],
       "schema": [
        {
         "metadata": "{}",
         "name": "table_size_after_restore",
         "type": "\"long\""
        },
        {
         "metadata": "{}",
         "name": "num_of_files_after_restore",
         "type": "\"long\""
        },
        {
         "metadata": "{}",
         "name": "num_removed_files",
         "type": "\"long\""
        },
        {
         "metadata": "{}",
         "name": "num_restored_files",
         "type": "\"long\""
        },
        {
         "metadata": "{}",
         "name": "removed_files_size",
         "type": "\"long\""
        },
        {
         "metadata": "{}",
         "name": "restored_files_size",
         "type": "\"long\""
        }
       ],
       "type": "table"
      }
     },
     "output_type": "display_data"
    }
   ],
   "source": [
    "%sql\n",
    "restore table datamodel.dwh.dim_customers to version as of 10;"
   ]
  },
  {
   "cell_type": "markdown",
   "metadata": {
    "application/vnd.databricks.v1+cell": {
     "cellMetadata": {},
     "inputWidgets": {},
     "nuid": "7507bc2e-0bb4-4dee-8a34-769117f32e2b",
     "showTitle": false,
     "tableResultSettingsMap": {},
     "title": ""
    }
   },
   "source": [
    "#### dim_products"
   ]
  },
  {
   "cell_type": "code",
   "execution_count": 0,
   "metadata": {
    "application/vnd.databricks.v1+cell": {
     "cellMetadata": {
      "byteLimit": 2048000,
      "implicitDf": true,
      "rowLimit": 10000
     },
     "inputWidgets": {},
     "nuid": "df81795f-d56a-4ec9-af8a-66f656227b7b",
     "showTitle": false,
     "tableResultSettingsMap": {},
     "title": ""
    }
   },
   "outputs": [
    {
     "output_type": "display_data",
     "data": {
      "text/html": [
       "<style scoped>\n",
       "  .table-result-container {\n",
       "    max-height: 300px;\n",
       "    overflow: auto;\n",
       "  }\n",
       "  table, th, td {\n",
       "    border: 1px solid black;\n",
       "    border-collapse: collapse;\n",
       "  }\n",
       "  th, td {\n",
       "    padding: 5px;\n",
       "  }\n",
       "  th {\n",
       "    text-align: left;\n",
       "  }\n",
       "</style><div class='table-result-container'><table class='table-result'><thead style='background-color: white'><tr><th>num_affected_rows</th><th>num_inserted_rows</th></tr></thead><tbody></tbody></table></div>"
      ]
     },
     "metadata": {
      "application/vnd.databricks.v1+output": {
       "addedWidgets": {},
       "aggData": [],
       "aggError": "",
       "aggOverflow": false,
       "aggSchema": [],
       "aggSeriesLimitReached": false,
       "aggType": "",
       "arguments": {},
       "columnCustomDisplayInfos": {},
       "data": [],
       "datasetInfos": [
        {
         "name": "_sqldf",
         "schema": {
          "fields": [
           {
            "metadata": {},
            "name": "num_affected_rows",
            "nullable": true,
            "type": "long"
           },
           {
            "metadata": {},
            "name": "num_inserted_rows",
            "nullable": true,
            "type": "long"
           }
          ],
          "type": "struct"
         },
         "tableIdentifier": null,
         "typeStr": "pyspark.sql.connect.dataframe.DataFrame"
        }
       ],
       "dbfsResultPath": null,
       "isJsonSchema": true,
       "metadata": {
        "createTempViewForImplicitDf": true,
        "dataframeName": "_sqldf",
        "executionCount": 14
       },
       "overflow": false,
       "plotOptions": {
        "customPlotOptions": {},
        "displayType": "table",
        "pivotAggregation": null,
        "pivotColumns": null,
        "xColumns": null,
        "yColumns": null
       },
       "removedWidgets": [],
       "schema": [
        {
         "metadata": "{}",
         "name": "num_affected_rows",
         "type": "\"long\""
        },
        {
         "metadata": "{}",
         "name": "num_inserted_rows",
         "type": "\"long\""
        }
       ],
       "type": "table"
      }
     },
     "output_type": "display_data"
    }
   ],
   "source": [
    "%sql\n",
    "create or replace table datamodel.dwh.dim_products\n",
    "as\n",
    "select \n",
    "  row_number() over (order by ProductID) as dim_ProductKey,\n",
    "  *\n",
    "from (select distinct\n",
    "  ProductID,\n",
    "  ProductName,\n",
    "  ProductCategory\n",
    "from datamodel.dwh.stag_sales);"
   ]
  },
  {
   "cell_type": "markdown",
   "metadata": {
    "application/vnd.databricks.v1+cell": {
     "cellMetadata": {},
     "inputWidgets": {},
     "nuid": "5195e32e-9b7e-4c4e-a657-d93135fc69ef",
     "showTitle": false,
     "tableResultSettingsMap": {},
     "title": ""
    }
   },
   "source": [
    "#### SCD Type - 1"
   ]
  },
  {
   "cell_type": "code",
   "execution_count": 0,
   "metadata": {
    "application/vnd.databricks.v1+cell": {
     "cellMetadata": {
      "byteLimit": 2048000,
      "rowLimit": 10000
     },
     "inputWidgets": {},
     "nuid": "9ab9c75f-a8ba-4b09-b5dd-f6d64b67bbc4",
     "showTitle": false,
     "tableResultSettingsMap": {},
     "title": ""
    }
   },
   "outputs": [],
   "source": [
    "spark.sql(\"\"\"\n",
    "  with base as (select distinct\n",
    "      ProductID,\n",
    "      ProductName,\n",
    "      ProductCategory\n",
    "    from datamodel.dwh.stag_sales)\n",
    "  , base2 as (\n",
    "    select \n",
    "      base.*,\n",
    "      cu.ProductID RecordFilter,\n",
    "      cu.dim_ProductKey,\n",
    "      mx.max_key\n",
    "    from base \n",
    "    left join datamodel.dwh.dim_products cu\n",
    "      on base.ProductID = cu.ProductID\n",
    "    cross join (select coalesce(max(dim_ProductKey), 0) max_key from datamodel.dwh.dim_products) mx)\n",
    "  , all_records as (select row_number() over (order by ProductID) + max_key as dim_ProductKey,\n",
    "      ProductID,\n",
    "      ProductName,\n",
    "      ProductCategory\n",
    "    from base2 where RecordFilter is null\n",
    "    union all\n",
    "    select dim_ProductKey,\n",
    "      ProductID,\n",
    "      ProductName,\n",
    "      ProductCategory from base2 \n",
    "    where RecordFilter is not null)\n",
    "  select\n",
    "    *\n",
    "  from all_records\n",
    "\"\"\").createOrReplaceTempView(\"dim_products_view\")"
   ]
  },
  {
   "cell_type": "code",
   "execution_count": 0,
   "metadata": {
    "application/vnd.databricks.v1+cell": {
     "cellMetadata": {
      "byteLimit": 2048000,
      "implicitDf": true,
      "rowLimit": 10000
     },
     "inputWidgets": {},
     "nuid": "f1547f77-434d-4fd3-b19a-2d4d278dc281",
     "showTitle": false,
     "tableResultSettingsMap": {},
     "title": ""
    }
   },
   "outputs": [
    {
     "output_type": "display_data",
     "data": {
      "text/html": [
       "<style scoped>\n",
       "  .table-result-container {\n",
       "    max-height: 300px;\n",
       "    overflow: auto;\n",
       "  }\n",
       "  table, th, td {\n",
       "    border: 1px solid black;\n",
       "    border-collapse: collapse;\n",
       "  }\n",
       "  th, td {\n",
       "    padding: 5px;\n",
       "  }\n",
       "  th {\n",
       "    text-align: left;\n",
       "  }\n",
       "</style><div class='table-result-container'><table class='table-result'><thead style='background-color: white'><tr><th>dim_ProductKey</th><th>ProductID</th><th>ProductName</th><th>ProductCategory</th></tr></thead><tbody><tr><td>10</td><td>230</td><td>Airpods</td><td>Electronics</td></tr><tr><td>5</td><td>205</td><td>Gaming Console</td><td>Electronics</td></tr><tr><td>1</td><td>201</td><td>Gaming Laptop</td><td>Electronics</td></tr></tbody></table></div>"
      ]
     },
     "metadata": {
      "application/vnd.databricks.v1+output": {
       "addedWidgets": {},
       "aggData": [],
       "aggError": "",
       "aggOverflow": false,
       "aggSchema": [],
       "aggSeriesLimitReached": false,
       "aggType": "",
       "arguments": {},
       "columnCustomDisplayInfos": {},
       "data": [
        [
         10,
         230,
         "Airpods",
         "Electronics"
        ],
        [
         5,
         205,
         "Gaming Console",
         "Electronics"
        ],
        [
         1,
         201,
         "Gaming Laptop",
         "Electronics"
        ]
       ],
       "datasetInfos": [
        {
         "name": "_sqldf",
         "schema": {
          "fields": [
           {
            "metadata": {},
            "name": "dim_ProductKey",
            "nullable": true,
            "type": "integer"
           },
           {
            "metadata": {},
            "name": "ProductID",
            "nullable": true,
            "type": "integer"
           },
           {
            "metadata": {
             "__CHAR_VARCHAR_TYPE_STRING": "varchar(100)"
            },
            "name": "ProductName",
            "nullable": true,
            "type": "string"
           },
           {
            "metadata": {
             "__CHAR_VARCHAR_TYPE_STRING": "varchar(50)"
            },
            "name": "ProductCategory",
            "nullable": true,
            "type": "string"
           }
          ],
          "type": "struct"
         },
         "tableIdentifier": null,
         "typeStr": "pyspark.sql.connect.dataframe.DataFrame"
        }
       ],
       "dbfsResultPath": null,
       "isJsonSchema": true,
       "metadata": {
        "createTempViewForImplicitDf": true,
        "dataframeName": "_sqldf",
        "executionCount": 143
       },
       "overflow": false,
       "plotOptions": {
        "customPlotOptions": {},
        "displayType": "table",
        "pivotAggregation": null,
        "pivotColumns": null,
        "xColumns": null,
        "yColumns": null
       },
       "removedWidgets": [],
       "schema": [
        {
         "metadata": "{}",
         "name": "dim_ProductKey",
         "type": "\"integer\""
        },
        {
         "metadata": "{}",
         "name": "ProductID",
         "type": "\"integer\""
        },
        {
         "metadata": "{\"__CHAR_VARCHAR_TYPE_STRING\": \"varchar(100)\"}",
         "name": "ProductName",
         "type": "\"string\""
        },
        {
         "metadata": "{\"__CHAR_VARCHAR_TYPE_STRING\": \"varchar(50)\"}",
         "name": "ProductCategory",
         "type": "\"string\""
        }
       ],
       "type": "table"
      }
     },
     "output_type": "display_data"
    }
   ],
   "source": [
    "%sql\n",
    "select * from dim_products_view;"
   ]
  },
  {
   "cell_type": "code",
   "execution_count": 0,
   "metadata": {
    "application/vnd.databricks.v1+cell": {
     "cellMetadata": {
      "byteLimit": 2048000,
      "implicitDf": true,
      "rowLimit": 10000
     },
     "inputWidgets": {},
     "nuid": "83128463-794e-4b77-881c-b9051052536d",
     "showTitle": false,
     "tableResultSettingsMap": {},
     "title": ""
    }
   },
   "outputs": [
    {
     "output_type": "display_data",
     "data": {
      "text/html": [
       "<style scoped>\n",
       "  .table-result-container {\n",
       "    max-height: 300px;\n",
       "    overflow: auto;\n",
       "  }\n",
       "  table, th, td {\n",
       "    border: 1px solid black;\n",
       "    border-collapse: collapse;\n",
       "  }\n",
       "  th, td {\n",
       "    padding: 5px;\n",
       "  }\n",
       "  th {\n",
       "    text-align: left;\n",
       "  }\n",
       "</style><div class='table-result-container'><table class='table-result'><thead style='background-color: white'><tr><th>num_affected_rows</th><th>num_updated_rows</th><th>num_deleted_rows</th><th>num_inserted_rows</th></tr></thead><tbody><tr><td>3</td><td>2</td><td>0</td><td>1</td></tr></tbody></table></div>"
      ]
     },
     "metadata": {
      "application/vnd.databricks.v1+output": {
       "addedWidgets": {},
       "aggData": [],
       "aggError": "",
       "aggOverflow": false,
       "aggSchema": [],
       "aggSeriesLimitReached": false,
       "aggType": "",
       "arguments": {},
       "columnCustomDisplayInfos": {},
       "data": [
        [
         3,
         2,
         0,
         1
        ]
       ],
       "datasetInfos": [
        {
         "name": "_sqldf",
         "schema": {
          "fields": [
           {
            "metadata": {},
            "name": "num_affected_rows",
            "nullable": true,
            "type": "long"
           },
           {
            "metadata": {},
            "name": "num_updated_rows",
            "nullable": true,
            "type": "long"
           },
           {
            "metadata": {},
            "name": "num_deleted_rows",
            "nullable": true,
            "type": "long"
           },
           {
            "metadata": {},
            "name": "num_inserted_rows",
            "nullable": true,
            "type": "long"
           }
          ],
          "type": "struct"
         },
         "tableIdentifier": null,
         "typeStr": "pyspark.sql.connect.dataframe.DataFrame"
        }
       ],
       "dbfsResultPath": null,
       "isJsonSchema": true,
       "metadata": {
        "createTempViewForImplicitDf": true,
        "dataframeName": "_sqldf",
        "executionCount": 144
       },
       "overflow": false,
       "plotOptions": {
        "customPlotOptions": {},
        "displayType": "table",
        "pivotAggregation": null,
        "pivotColumns": null,
        "xColumns": null,
        "yColumns": null
       },
       "removedWidgets": [],
       "schema": [
        {
         "metadata": "{}",
         "name": "num_affected_rows",
         "type": "\"long\""
        },
        {
         "metadata": "{}",
         "name": "num_updated_rows",
         "type": "\"long\""
        },
        {
         "metadata": "{}",
         "name": "num_deleted_rows",
         "type": "\"long\""
        },
        {
         "metadata": "{}",
         "name": "num_inserted_rows",
         "type": "\"long\""
        }
       ],
       "type": "table"
      }
     },
     "output_type": "display_data"
    }
   ],
   "source": [
    "%sql\n",
    "merge into datamodel.dwh.dim_products dst\n",
    "using dim_products_view src\n",
    "on dst.ProductID = src.ProductID\n",
    "when matched then update set *\n",
    "when not matched then insert *"
   ]
  },
  {
   "cell_type": "code",
   "execution_count": 0,
   "metadata": {
    "application/vnd.databricks.v1+cell": {
     "cellMetadata": {
      "byteLimit": 2048000,
      "implicitDf": true,
      "rowLimit": 10000
     },
     "inputWidgets": {},
     "nuid": "54d7a1bf-b4e5-4bfd-83cb-f488bd92c9cf",
     "showTitle": false,
     "tableResultSettingsMap": {},
     "title": ""
    }
   },
   "outputs": [
    {
     "output_type": "display_data",
     "data": {
      "text/html": [
       "<style scoped>\n",
       "  .table-result-container {\n",
       "    max-height: 300px;\n",
       "    overflow: auto;\n",
       "  }\n",
       "  table, th, td {\n",
       "    border: 1px solid black;\n",
       "    border-collapse: collapse;\n",
       "  }\n",
       "  th, td {\n",
       "    padding: 5px;\n",
       "  }\n",
       "  th {\n",
       "    text-align: left;\n",
       "  }\n",
       "</style><div class='table-result-container'><table class='table-result'><thead style='background-color: white'><tr><th>dim_ProductKey</th><th>ProductID</th><th>ProductName</th><th>ProductCategory</th></tr></thead><tbody><tr><td>2</td><td>202</td><td>Smartphone</td><td>Electronics</td></tr><tr><td>3</td><td>203</td><td>Tablet</td><td>Electronics</td></tr><tr><td>4</td><td>204</td><td>Headphones</td><td>Accessories</td></tr><tr><td>6</td><td>206</td><td>Smartwatch</td><td>Electronics</td></tr><tr><td>7</td><td>207</td><td>Monitor</td><td>Accessories</td></tr><tr><td>8</td><td>208</td><td>Keyboard</td><td>Accessories</td></tr><tr><td>9</td><td>209</td><td>Mouse</td><td>Accessories</td></tr><tr><td>10</td><td>230</td><td>Airpods</td><td>Electronics</td></tr><tr><td>5</td><td>205</td><td>Gaming Console</td><td>Electronics</td></tr><tr><td>1</td><td>201</td><td>Gaming Laptop</td><td>Electronics</td></tr></tbody></table></div>"
      ]
     },
     "metadata": {
      "application/vnd.databricks.v1+output": {
       "addedWidgets": {},
       "aggData": [],
       "aggError": "",
       "aggOverflow": false,
       "aggSchema": [],
       "aggSeriesLimitReached": false,
       "aggType": "",
       "arguments": {},
       "columnCustomDisplayInfos": {},
       "data": [
        [
         2,
         202,
         "Smartphone",
         "Electronics"
        ],
        [
         3,
         203,
         "Tablet",
         "Electronics"
        ],
        [
         4,
         204,
         "Headphones",
         "Accessories"
        ],
        [
         6,
         206,
         "Smartwatch",
         "Electronics"
        ],
        [
         7,
         207,
         "Monitor",
         "Accessories"
        ],
        [
         8,
         208,
         "Keyboard",
         "Accessories"
        ],
        [
         9,
         209,
         "Mouse",
         "Accessories"
        ],
        [
         10,
         230,
         "Airpods",
         "Electronics"
        ],
        [
         5,
         205,
         "Gaming Console",
         "Electronics"
        ],
        [
         1,
         201,
         "Gaming Laptop",
         "Electronics"
        ]
       ],
       "datasetInfos": [
        {
         "name": "_sqldf",
         "schema": {
          "fields": [
           {
            "metadata": {},
            "name": "dim_ProductKey",
            "nullable": true,
            "type": "integer"
           },
           {
            "metadata": {},
            "name": "ProductID",
            "nullable": true,
            "type": "integer"
           },
           {
            "metadata": {
             "__CHAR_VARCHAR_TYPE_STRING": "varchar(100)"
            },
            "name": "ProductName",
            "nullable": true,
            "type": "string"
           },
           {
            "metadata": {
             "__CHAR_VARCHAR_TYPE_STRING": "varchar(50)"
            },
            "name": "ProductCategory",
            "nullable": true,
            "type": "string"
           }
          ],
          "type": "struct"
         },
         "tableIdentifier": null,
         "typeStr": "pyspark.sql.connect.dataframe.DataFrame"
        }
       ],
       "dbfsResultPath": null,
       "isJsonSchema": true,
       "metadata": {
        "createTempViewForImplicitDf": true,
        "dataframeName": "_sqldf",
        "executionCount": 145
       },
       "overflow": false,
       "plotOptions": {
        "customPlotOptions": {},
        "displayType": "table",
        "pivotAggregation": null,
        "pivotColumns": null,
        "xColumns": null,
        "yColumns": null
       },
       "removedWidgets": [],
       "schema": [
        {
         "metadata": "{}",
         "name": "dim_ProductKey",
         "type": "\"integer\""
        },
        {
         "metadata": "{}",
         "name": "ProductID",
         "type": "\"integer\""
        },
        {
         "metadata": "{\"__CHAR_VARCHAR_TYPE_STRING\": \"varchar(100)\"}",
         "name": "ProductName",
         "type": "\"string\""
        },
        {
         "metadata": "{\"__CHAR_VARCHAR_TYPE_STRING\": \"varchar(50)\"}",
         "name": "ProductCategory",
         "type": "\"string\""
        }
       ],
       "type": "table"
      }
     },
     "output_type": "display_data"
    }
   ],
   "source": [
    "%sql\n",
    "select * from datamodel.dwh.dim_products;"
   ]
  },
  {
   "cell_type": "markdown",
   "metadata": {
    "application/vnd.databricks.v1+cell": {
     "cellMetadata": {},
     "inputWidgets": {},
     "nuid": "04cfc585-ea83-4b86-a97f-031aae3295f7",
     "showTitle": false,
     "tableResultSettingsMap": {},
     "title": ""
    }
   },
   "source": [
    "#### dim_regions"
   ]
  },
  {
   "cell_type": "code",
   "execution_count": 0,
   "metadata": {
    "application/vnd.databricks.v1+cell": {
     "cellMetadata": {
      "byteLimit": 2048000,
      "implicitDf": true,
      "rowLimit": 10000
     },
     "inputWidgets": {},
     "nuid": "0ae8a589-cadd-42f0-aeb5-0b7cfcbde295",
     "showTitle": false,
     "tableResultSettingsMap": {},
     "title": ""
    }
   },
   "outputs": [
    {
     "output_type": "display_data",
     "data": {
      "text/html": [
       "<style scoped>\n",
       "  .table-result-container {\n",
       "    max-height: 300px;\n",
       "    overflow: auto;\n",
       "  }\n",
       "  table, th, td {\n",
       "    border: 1px solid black;\n",
       "    border-collapse: collapse;\n",
       "  }\n",
       "  th, td {\n",
       "    padding: 5px;\n",
       "  }\n",
       "  th {\n",
       "    text-align: left;\n",
       "  }\n",
       "</style><div class='table-result-container'><table class='table-result'><thead style='background-color: white'><tr><th>num_affected_rows</th><th>num_inserted_rows</th></tr></thead><tbody></tbody></table></div>"
      ]
     },
     "metadata": {
      "application/vnd.databricks.v1+output": {
       "addedWidgets": {},
       "aggData": [],
       "aggError": "",
       "aggOverflow": false,
       "aggSchema": [],
       "aggSeriesLimitReached": false,
       "aggType": "",
       "arguments": {},
       "columnCustomDisplayInfos": {},
       "data": [],
       "datasetInfos": [
        {
         "name": "_sqldf",
         "schema": {
          "fields": [
           {
            "metadata": {},
            "name": "num_affected_rows",
            "nullable": true,
            "type": "long"
           },
           {
            "metadata": {},
            "name": "num_inserted_rows",
            "nullable": true,
            "type": "long"
           }
          ],
          "type": "struct"
         },
         "tableIdentifier": null,
         "typeStr": "pyspark.sql.connect.dataframe.DataFrame"
        }
       ],
       "dbfsResultPath": null,
       "isJsonSchema": true,
       "metadata": {
        "createTempViewForImplicitDf": true,
        "dataframeName": "_sqldf",
        "executionCount": 16
       },
       "overflow": false,
       "plotOptions": {
        "customPlotOptions": {},
        "displayType": "table",
        "pivotAggregation": null,
        "pivotColumns": null,
        "xColumns": null,
        "yColumns": null
       },
       "removedWidgets": [],
       "schema": [
        {
         "metadata": "{}",
         "name": "num_affected_rows",
         "type": "\"long\""
        },
        {
         "metadata": "{}",
         "name": "num_inserted_rows",
         "type": "\"long\""
        }
       ],
       "type": "table"
      }
     },
     "output_type": "display_data"
    }
   ],
   "source": [
    "%sql\n",
    "create or replace table datamodel.dwh.dim_regions\n",
    "as\n",
    "select \n",
    "  row_number() over (order by RegionID, Country) as dim_RegionKey,\n",
    "  *\n",
    "from (select distinct\n",
    "  RegionID,\n",
    "  RegionName,\n",
    "  Country\n",
    "from datamodel.dwh.stag_sales);"
   ]
  },
  {
   "cell_type": "markdown",
   "metadata": {
    "application/vnd.databricks.v1+cell": {
     "cellMetadata": {},
     "inputWidgets": {},
     "nuid": "14ad3806-6068-436d-b6e8-3f0c889fea80",
     "showTitle": false,
     "tableResultSettingsMap": {},
     "title": ""
    }
   },
   "source": [
    "#### SCD Type - 1"
   ]
  },
  {
   "cell_type": "code",
   "execution_count": 0,
   "metadata": {
    "application/vnd.databricks.v1+cell": {
     "cellMetadata": {
      "byteLimit": 2048000,
      "rowLimit": 10000
     },
     "inputWidgets": {},
     "nuid": "a8aaa131-4b21-49ed-bfc3-9c46d0f3a0b4",
     "showTitle": false,
     "tableResultSettingsMap": {},
     "title": ""
    }
   },
   "outputs": [],
   "source": [
    "spark.sql(\"\"\"\n",
    "  with base as (select distinct\n",
    "      RegionID,\n",
    "      RegionName,\n",
    "      Country\n",
    "    from datamodel.dwh.stag_sales)\n",
    "  , base2 as (\n",
    "    select \n",
    "      base.*,\n",
    "      cu.Country RecordFilter,\n",
    "      cu.dim_RegionKey,\n",
    "      mx.max_key\n",
    "    from base \n",
    "    left join datamodel.dwh.dim_regions cu\n",
    "      on base.Country = cu.Country\n",
    "    cross join (select coalesce(max(dim_RegionKey), 0) max_key from datamodel.dwh.dim_regions) mx)\n",
    "  , all_records as (select row_number() over (order by Country) + max_key as dim_RegionKey,\n",
    "      RegionID,\n",
    "      RegionName,\n",
    "      Country\n",
    "    from base2 where RecordFilter is null\n",
    "    union all\n",
    "    select dim_RegionKey,\n",
    "      RegionID,\n",
    "      RegionName,\n",
    "      Country from base2 \n",
    "    where RecordFilter is not null)\n",
    "  select\n",
    "    *\n",
    "  from all_records\n",
    "\"\"\").createOrReplaceTempView(\"dim_regions_view\")"
   ]
  },
  {
   "cell_type": "code",
   "execution_count": 0,
   "metadata": {
    "application/vnd.databricks.v1+cell": {
     "cellMetadata": {
      "byteLimit": 2048000,
      "implicitDf": true,
      "rowLimit": 10000
     },
     "inputWidgets": {},
     "nuid": "8728eaac-2e68-4f81-9da8-3f379d69fe88",
     "showTitle": false,
     "tableResultSettingsMap": {},
     "title": ""
    }
   },
   "outputs": [
    {
     "output_type": "display_data",
     "data": {
      "text/html": [
       "<style scoped>\n",
       "  .table-result-container {\n",
       "    max-height: 300px;\n",
       "    overflow: auto;\n",
       "  }\n",
       "  table, th, td {\n",
       "    border: 1px solid black;\n",
       "    border-collapse: collapse;\n",
       "  }\n",
       "  th, td {\n",
       "    padding: 5px;\n",
       "  }\n",
       "  th {\n",
       "    text-align: left;\n",
       "  }\n",
       "</style><div class='table-result-container'><table class='table-result'><thead style='background-color: white'><tr><th>dim_RegionKey</th><th>RegionID</th><th>RegionName</th><th>Country</th></tr></thead><tbody><tr><td>2</td><td>301</td><td>North America</td><td>USA</td></tr><tr><td>3</td><td>302</td><td>Europe</td><td>France</td></tr><tr><td>4</td><td>302</td><td>Europe</td><td>Germany</td></tr></tbody></table></div>"
      ]
     },
     "metadata": {
      "application/vnd.databricks.v1+output": {
       "addedWidgets": {},
       "aggData": [],
       "aggError": "",
       "aggOverflow": false,
       "aggSchema": [],
       "aggSeriesLimitReached": false,
       "aggType": "",
       "arguments": {},
       "columnCustomDisplayInfos": {},
       "data": [
        [
         2,
         301,
         "North America",
         "USA"
        ],
        [
         3,
         302,
         "Europe",
         "France"
        ],
        [
         4,
         302,
         "Europe",
         "Germany"
        ]
       ],
       "datasetInfos": [
        {
         "name": "_sqldf",
         "schema": {
          "fields": [
           {
            "metadata": {},
            "name": "dim_RegionKey",
            "nullable": true,
            "type": "integer"
           },
           {
            "metadata": {},
            "name": "RegionID",
            "nullable": true,
            "type": "integer"
           },
           {
            "metadata": {
             "__CHAR_VARCHAR_TYPE_STRING": "varchar(50)"
            },
            "name": "RegionName",
            "nullable": true,
            "type": "string"
           },
           {
            "metadata": {
             "__CHAR_VARCHAR_TYPE_STRING": "varchar(50)"
            },
            "name": "Country",
            "nullable": true,
            "type": "string"
           }
          ],
          "type": "struct"
         },
         "tableIdentifier": null,
         "typeStr": "pyspark.sql.connect.dataframe.DataFrame"
        }
       ],
       "dbfsResultPath": null,
       "isJsonSchema": true,
       "metadata": {
        "createTempViewForImplicitDf": true,
        "dataframeName": "_sqldf",
        "executionCount": 151
       },
       "overflow": false,
       "plotOptions": {
        "customPlotOptions": {},
        "displayType": "table",
        "pivotAggregation": null,
        "pivotColumns": null,
        "xColumns": null,
        "yColumns": null
       },
       "removedWidgets": [],
       "schema": [
        {
         "metadata": "{}",
         "name": "dim_RegionKey",
         "type": "\"integer\""
        },
        {
         "metadata": "{}",
         "name": "RegionID",
         "type": "\"integer\""
        },
        {
         "metadata": "{\"__CHAR_VARCHAR_TYPE_STRING\": \"varchar(50)\"}",
         "name": "RegionName",
         "type": "\"string\""
        },
        {
         "metadata": "{\"__CHAR_VARCHAR_TYPE_STRING\": \"varchar(50)\"}",
         "name": "Country",
         "type": "\"string\""
        }
       ],
       "type": "table"
      }
     },
     "output_type": "display_data"
    }
   ],
   "source": [
    "%sql\n",
    "select * from dim_regions_view;"
   ]
  },
  {
   "cell_type": "code",
   "execution_count": 0,
   "metadata": {
    "application/vnd.databricks.v1+cell": {
     "cellMetadata": {
      "byteLimit": 2048000,
      "implicitDf": true,
      "rowLimit": 10000
     },
     "inputWidgets": {},
     "nuid": "0bee52a8-0c7d-4ddf-92aa-6dc401dac4d5",
     "showTitle": false,
     "tableResultSettingsMap": {},
     "title": ""
    }
   },
   "outputs": [
    {
     "output_type": "display_data",
     "data": {
      "text/html": [
       "<style scoped>\n",
       "  .table-result-container {\n",
       "    max-height: 300px;\n",
       "    overflow: auto;\n",
       "  }\n",
       "  table, th, td {\n",
       "    border: 1px solid black;\n",
       "    border-collapse: collapse;\n",
       "  }\n",
       "  th, td {\n",
       "    padding: 5px;\n",
       "  }\n",
       "  th {\n",
       "    text-align: left;\n",
       "  }\n",
       "</style><div class='table-result-container'><table class='table-result'><thead style='background-color: white'><tr><th>num_affected_rows</th><th>num_updated_rows</th><th>num_deleted_rows</th><th>num_inserted_rows</th></tr></thead><tbody><tr><td>3</td><td>3</td><td>0</td><td>0</td></tr></tbody></table></div>"
      ]
     },
     "metadata": {
      "application/vnd.databricks.v1+output": {
       "addedWidgets": {},
       "aggData": [],
       "aggError": "",
       "aggOverflow": false,
       "aggSchema": [],
       "aggSeriesLimitReached": false,
       "aggType": "",
       "arguments": {},
       "columnCustomDisplayInfos": {},
       "data": [
        [
         3,
         3,
         0,
         0
        ]
       ],
       "datasetInfos": [
        {
         "name": "_sqldf",
         "schema": {
          "fields": [
           {
            "metadata": {},
            "name": "num_affected_rows",
            "nullable": true,
            "type": "long"
           },
           {
            "metadata": {},
            "name": "num_updated_rows",
            "nullable": true,
            "type": "long"
           },
           {
            "metadata": {},
            "name": "num_deleted_rows",
            "nullable": true,
            "type": "long"
           },
           {
            "metadata": {},
            "name": "num_inserted_rows",
            "nullable": true,
            "type": "long"
           }
          ],
          "type": "struct"
         },
         "tableIdentifier": null,
         "typeStr": "pyspark.sql.connect.dataframe.DataFrame"
        }
       ],
       "dbfsResultPath": null,
       "isJsonSchema": true,
       "metadata": {
        "createTempViewForImplicitDf": true,
        "dataframeName": "_sqldf",
        "executionCount": 152
       },
       "overflow": false,
       "plotOptions": {
        "customPlotOptions": {},
        "displayType": "table",
        "pivotAggregation": null,
        "pivotColumns": null,
        "xColumns": null,
        "yColumns": null
       },
       "removedWidgets": [],
       "schema": [
        {
         "metadata": "{}",
         "name": "num_affected_rows",
         "type": "\"long\""
        },
        {
         "metadata": "{}",
         "name": "num_updated_rows",
         "type": "\"long\""
        },
        {
         "metadata": "{}",
         "name": "num_deleted_rows",
         "type": "\"long\""
        },
        {
         "metadata": "{}",
         "name": "num_inserted_rows",
         "type": "\"long\""
        }
       ],
       "type": "table"
      }
     },
     "output_type": "display_data"
    }
   ],
   "source": [
    "%sql\n",
    "merge into datamodel.dwh.dim_regions dst\n",
    "using dim_regions_view src\n",
    "on dst.Country = src.Country\n",
    "when matched then update set *\n",
    "when not matched then insert *"
   ]
  },
  {
   "cell_type": "code",
   "execution_count": 0,
   "metadata": {
    "application/vnd.databricks.v1+cell": {
     "cellMetadata": {
      "byteLimit": 2048000,
      "implicitDf": true,
      "rowLimit": 10000
     },
     "inputWidgets": {},
     "nuid": "2fbed2bf-4ecf-4d4f-9dfa-af6a84081267",
     "showTitle": false,
     "tableResultSettingsMap": {},
     "title": ""
    }
   },
   "outputs": [
    {
     "output_type": "display_data",
     "data": {
      "text/html": [
       "<style scoped>\n",
       "  .table-result-container {\n",
       "    max-height: 300px;\n",
       "    overflow: auto;\n",
       "  }\n",
       "  table, th, td {\n",
       "    border: 1px solid black;\n",
       "    border-collapse: collapse;\n",
       "  }\n",
       "  th, td {\n",
       "    padding: 5px;\n",
       "  }\n",
       "  th {\n",
       "    text-align: left;\n",
       "  }\n",
       "</style><div class='table-result-container'><table class='table-result'><thead style='background-color: white'><tr><th>dim_RegionKey</th><th>RegionID</th><th>RegionName</th><th>Country</th></tr></thead><tbody><tr><td>1</td><td>301</td><td>North America</td><td>Canada</td></tr><tr><td>5</td><td>302</td><td>Europe</td><td>Italy</td></tr><tr><td>6</td><td>303</td><td>Asia</td><td>China</td></tr><tr><td>7</td><td>303</td><td>Asia</td><td>India</td></tr><tr><td>8</td><td>303</td><td>Asia</td><td>Japan</td></tr><tr><td>3</td><td>302</td><td>Europe</td><td>France</td></tr><tr><td>2</td><td>301</td><td>North America</td><td>USA</td></tr><tr><td>4</td><td>302</td><td>Europe</td><td>Germany</td></tr></tbody></table></div>"
      ]
     },
     "metadata": {
      "application/vnd.databricks.v1+output": {
       "addedWidgets": {},
       "aggData": [],
       "aggError": "",
       "aggOverflow": false,
       "aggSchema": [],
       "aggSeriesLimitReached": false,
       "aggType": "",
       "arguments": {},
       "columnCustomDisplayInfos": {},
       "data": [
        [
         1,
         301,
         "North America",
         "Canada"
        ],
        [
         5,
         302,
         "Europe",
         "Italy"
        ],
        [
         6,
         303,
         "Asia",
         "China"
        ],
        [
         7,
         303,
         "Asia",
         "India"
        ],
        [
         8,
         303,
         "Asia",
         "Japan"
        ],
        [
         3,
         302,
         "Europe",
         "France"
        ],
        [
         2,
         301,
         "North America",
         "USA"
        ],
        [
         4,
         302,
         "Europe",
         "Germany"
        ]
       ],
       "datasetInfos": [
        {
         "name": "_sqldf",
         "schema": {
          "fields": [
           {
            "metadata": {},
            "name": "dim_RegionKey",
            "nullable": true,
            "type": "integer"
           },
           {
            "metadata": {},
            "name": "RegionID",
            "nullable": true,
            "type": "integer"
           },
           {
            "metadata": {
             "__CHAR_VARCHAR_TYPE_STRING": "varchar(50)"
            },
            "name": "RegionName",
            "nullable": true,
            "type": "string"
           },
           {
            "metadata": {
             "__CHAR_VARCHAR_TYPE_STRING": "varchar(50)"
            },
            "name": "Country",
            "nullable": true,
            "type": "string"
           }
          ],
          "type": "struct"
         },
         "tableIdentifier": null,
         "typeStr": "pyspark.sql.connect.dataframe.DataFrame"
        }
       ],
       "dbfsResultPath": null,
       "isJsonSchema": true,
       "metadata": {
        "createTempViewForImplicitDf": true,
        "dataframeName": "_sqldf",
        "executionCount": 171
       },
       "overflow": false,
       "plotOptions": {
        "customPlotOptions": {},
        "displayType": "table",
        "pivotAggregation": null,
        "pivotColumns": null,
        "xColumns": null,
        "yColumns": null
       },
       "removedWidgets": [],
       "schema": [
        {
         "metadata": "{}",
         "name": "dim_RegionKey",
         "type": "\"integer\""
        },
        {
         "metadata": "{}",
         "name": "RegionID",
         "type": "\"integer\""
        },
        {
         "metadata": "{\"__CHAR_VARCHAR_TYPE_STRING\": \"varchar(50)\"}",
         "name": "RegionName",
         "type": "\"string\""
        },
        {
         "metadata": "{\"__CHAR_VARCHAR_TYPE_STRING\": \"varchar(50)\"}",
         "name": "Country",
         "type": "\"string\""
        }
       ],
       "type": "table"
      }
     },
     "output_type": "display_data"
    }
   ],
   "source": [
    "%sql\n",
    "select * from datamodel.dwh.dim_regions;"
   ]
  },
  {
   "cell_type": "markdown",
   "metadata": {
    "application/vnd.databricks.v1+cell": {
     "cellMetadata": {},
     "inputWidgets": {},
     "nuid": "a31dba62-2878-43ba-9c32-c2152b224496",
     "showTitle": false,
     "tableResultSettingsMap": {},
     "title": ""
    }
   },
   "source": [
    "#### dim_dates"
   ]
  },
  {
   "cell_type": "code",
   "execution_count": 0,
   "metadata": {
    "application/vnd.databricks.v1+cell": {
     "cellMetadata": {
      "byteLimit": 2048000,
      "implicitDf": true,
      "rowLimit": 10000
     },
     "inputWidgets": {},
     "nuid": "83ad5e73-c2c4-4551-b5f1-cddba055fa61",
     "showTitle": false,
     "tableResultSettingsMap": {},
     "title": ""
    }
   },
   "outputs": [
    {
     "output_type": "display_data",
     "data": {
      "text/html": [
       "<style scoped>\n",
       "  .table-result-container {\n",
       "    max-height: 300px;\n",
       "    overflow: auto;\n",
       "  }\n",
       "  table, th, td {\n",
       "    border: 1px solid black;\n",
       "    border-collapse: collapse;\n",
       "  }\n",
       "  th, td {\n",
       "    padding: 5px;\n",
       "  }\n",
       "  th {\n",
       "    text-align: left;\n",
       "  }\n",
       "</style><div class='table-result-container'><table class='table-result'><thead style='background-color: white'><tr><th>num_affected_rows</th><th>num_inserted_rows</th></tr></thead><tbody></tbody></table></div>"
      ]
     },
     "metadata": {
      "application/vnd.databricks.v1+output": {
       "addedWidgets": {},
       "aggData": [],
       "aggError": "",
       "aggOverflow": false,
       "aggSchema": [],
       "aggSeriesLimitReached": false,
       "aggType": "",
       "arguments": {},
       "columnCustomDisplayInfos": {},
       "data": [],
       "datasetInfos": [
        {
         "name": "_sqldf",
         "schema": {
          "fields": [
           {
            "metadata": {},
            "name": "num_affected_rows",
            "nullable": true,
            "type": "long"
           },
           {
            "metadata": {},
            "name": "num_inserted_rows",
            "nullable": true,
            "type": "long"
           }
          ],
          "type": "struct"
         },
         "tableIdentifier": null,
         "typeStr": "pyspark.sql.connect.dataframe.DataFrame"
        }
       ],
       "dbfsResultPath": null,
       "isJsonSchema": true,
       "metadata": {
        "createTempViewForImplicitDf": true,
        "dataframeName": "_sqldf",
        "executionCount": 18
       },
       "overflow": false,
       "plotOptions": {
        "customPlotOptions": {},
        "displayType": "table",
        "pivotAggregation": null,
        "pivotColumns": null,
        "xColumns": null,
        "yColumns": null
       },
       "removedWidgets": [],
       "schema": [
        {
         "metadata": "{}",
         "name": "num_affected_rows",
         "type": "\"long\""
        },
        {
         "metadata": "{}",
         "name": "num_inserted_rows",
         "type": "\"long\""
        }
       ],
       "type": "table"
      }
     },
     "output_type": "display_data"
    }
   ],
   "source": [
    "%sql\n",
    "create or replace table datamodel.dwh.dim_dates\n",
    "as\n",
    "select \n",
    "  row_number() over (order by OrderDate) as dim_DateKey,\n",
    "  *\n",
    "from (select distinct\n",
    "  OrderDate,\n",
    "  OrderYear,\n",
    "  OrderMonth\n",
    "from datamodel.dwh.stag_sales);"
   ]
  },
  {
   "cell_type": "markdown",
   "metadata": {
    "application/vnd.databricks.v1+cell": {
     "cellMetadata": {},
     "inputWidgets": {},
     "nuid": "94d9d6d3-906f-4847-87f7-8f932240f654",
     "showTitle": false,
     "tableResultSettingsMap": {},
     "title": ""
    }
   },
   "source": [
    "#### SCD Type - 1"
   ]
  },
  {
   "cell_type": "code",
   "execution_count": 0,
   "metadata": {
    "application/vnd.databricks.v1+cell": {
     "cellMetadata": {
      "byteLimit": 2048000,
      "rowLimit": 10000
     },
     "inputWidgets": {},
     "nuid": "fb9ee22c-886c-4699-8722-3b3865b1f452",
     "showTitle": false,
     "tableResultSettingsMap": {},
     "title": ""
    }
   },
   "outputs": [],
   "source": [
    "spark.sql(\"\"\"\n",
    "  select \n",
    "    row_number() over (order by st.OrderDate) + mx.max_key as dim_DateKey, \n",
    "    st.*\n",
    "  from (select distinct\n",
    "      OrderDate,\n",
    "      OrderYear,\n",
    "      OrderMonth\n",
    "    from datamodel.dwh.stag_sales) st\n",
    "  cross join (select coalesce(max(dim_DateKey), 0) max_key from datamodel.dwh.dim_dates) mx\n",
    "\"\"\").createOrReplaceTempView(\"dim_dates_view\")"
   ]
  },
  {
   "cell_type": "code",
   "execution_count": 0,
   "metadata": {
    "application/vnd.databricks.v1+cell": {
     "cellMetadata": {
      "byteLimit": 2048000,
      "implicitDf": true,
      "rowLimit": 10000
     },
     "inputWidgets": {},
     "nuid": "9e6b4507-317e-45e7-a53b-147d49c201b9",
     "showTitle": false,
     "tableResultSettingsMap": {},
     "title": ""
    }
   },
   "outputs": [
    {
     "output_type": "display_data",
     "data": {
      "text/html": [
       "<style scoped>\n",
       "  .table-result-container {\n",
       "    max-height: 300px;\n",
       "    overflow: auto;\n",
       "  }\n",
       "  table, th, td {\n",
       "    border: 1px solid black;\n",
       "    border-collapse: collapse;\n",
       "  }\n",
       "  th, td {\n",
       "    padding: 5px;\n",
       "  }\n",
       "  th {\n",
       "    text-align: left;\n",
       "  }\n",
       "</style><div class='table-result-container'><table class='table-result'><thead style='background-color: white'><tr><th>dim_DateKey</th><th>OrderDate</th><th>OrderYear</th><th>OrderMonth</th></tr></thead><tbody><tr><td>11</td><td>2024-02-11</td><td>2024</td><td>02</td></tr><tr><td>12</td><td>2024-02-12</td><td>2024</td><td>02</td></tr></tbody></table></div>"
      ]
     },
     "metadata": {
      "application/vnd.databricks.v1+output": {
       "addedWidgets": {},
       "aggData": [],
       "aggError": "",
       "aggOverflow": false,
       "aggSchema": [],
       "aggSeriesLimitReached": false,
       "aggType": "",
       "arguments": {},
       "columnCustomDisplayInfos": {},
       "data": [
        [
         11,
         "2024-02-11",
         "2024",
         "02"
        ],
        [
         12,
         "2024-02-12",
         "2024",
         "02"
        ]
       ],
       "datasetInfos": [
        {
         "name": "_sqldf",
         "schema": {
          "fields": [
           {
            "metadata": {},
            "name": "dim_DateKey",
            "nullable": false,
            "type": "integer"
           },
           {
            "metadata": {},
            "name": "OrderDate",
            "nullable": true,
            "type": "date"
           },
           {
            "metadata": {},
            "name": "OrderYear",
            "nullable": true,
            "type": "string"
           },
           {
            "metadata": {},
            "name": "OrderMonth",
            "nullable": true,
            "type": "string"
           }
          ],
          "type": "struct"
         },
         "tableIdentifier": null,
         "typeStr": "pyspark.sql.connect.dataframe.DataFrame"
        }
       ],
       "dbfsResultPath": null,
       "isJsonSchema": true,
       "metadata": {
        "createTempViewForImplicitDf": true,
        "dataframeName": "_sqldf",
        "executionCount": 155
       },
       "overflow": false,
       "plotOptions": {
        "customPlotOptions": {},
        "displayType": "table",
        "pivotAggregation": null,
        "pivotColumns": null,
        "xColumns": null,
        "yColumns": null
       },
       "removedWidgets": [],
       "schema": [
        {
         "metadata": "{}",
         "name": "dim_DateKey",
         "type": "\"integer\""
        },
        {
         "metadata": "{}",
         "name": "OrderDate",
         "type": "\"date\""
        },
        {
         "metadata": "{}",
         "name": "OrderYear",
         "type": "\"string\""
        },
        {
         "metadata": "{}",
         "name": "OrderMonth",
         "type": "\"string\""
        }
       ],
       "type": "table"
      }
     },
     "output_type": "display_data"
    }
   ],
   "source": [
    "%sql\n",
    "select * from dim_dates_view;"
   ]
  },
  {
   "cell_type": "markdown",
   "metadata": {
    "application/vnd.databricks.v1+cell": {
     "cellMetadata": {},
     "inputWidgets": {},
     "nuid": "2d1b46bc-8425-4094-afb1-efdf82c0acce",
     "showTitle": false,
     "tableResultSettingsMap": {},
     "title": ""
    }
   },
   "source": [
    "##### Upsert to be idempotent"
   ]
  },
  {
   "cell_type": "code",
   "execution_count": 0,
   "metadata": {
    "application/vnd.databricks.v1+cell": {
     "cellMetadata": {
      "byteLimit": 2048000,
      "implicitDf": true,
      "rowLimit": 10000
     },
     "inputWidgets": {},
     "nuid": "131391f7-2eef-409d-a511-d63c9425e86b",
     "showTitle": false,
     "tableResultSettingsMap": {},
     "title": ""
    }
   },
   "outputs": [
    {
     "output_type": "display_data",
     "data": {
      "text/html": [
       "<style scoped>\n",
       "  .table-result-container {\n",
       "    max-height: 300px;\n",
       "    overflow: auto;\n",
       "  }\n",
       "  table, th, td {\n",
       "    border: 1px solid black;\n",
       "    border-collapse: collapse;\n",
       "  }\n",
       "  th, td {\n",
       "    padding: 5px;\n",
       "  }\n",
       "  th {\n",
       "    text-align: left;\n",
       "  }\n",
       "</style><div class='table-result-container'><table class='table-result'><thead style='background-color: white'><tr><th>num_affected_rows</th><th>num_updated_rows</th><th>num_deleted_rows</th><th>num_inserted_rows</th></tr></thead><tbody><tr><td>2</td><td>0</td><td>0</td><td>2</td></tr></tbody></table></div>"
      ]
     },
     "metadata": {
      "application/vnd.databricks.v1+output": {
       "addedWidgets": {},
       "aggData": [],
       "aggError": "",
       "aggOverflow": false,
       "aggSchema": [],
       "aggSeriesLimitReached": false,
       "aggType": "",
       "arguments": {},
       "columnCustomDisplayInfos": {},
       "data": [
        [
         2,
         0,
         0,
         2
        ]
       ],
       "datasetInfos": [
        {
         "name": "_sqldf",
         "schema": {
          "fields": [
           {
            "metadata": {},
            "name": "num_affected_rows",
            "nullable": true,
            "type": "long"
           },
           {
            "metadata": {},
            "name": "num_updated_rows",
            "nullable": true,
            "type": "long"
           },
           {
            "metadata": {},
            "name": "num_deleted_rows",
            "nullable": true,
            "type": "long"
           },
           {
            "metadata": {},
            "name": "num_inserted_rows",
            "nullable": true,
            "type": "long"
           }
          ],
          "type": "struct"
         },
         "tableIdentifier": null,
         "typeStr": "pyspark.sql.connect.dataframe.DataFrame"
        }
       ],
       "dbfsResultPath": null,
       "isJsonSchema": true,
       "metadata": {
        "createTempViewForImplicitDf": true,
        "dataframeName": "_sqldf",
        "executionCount": 158
       },
       "overflow": false,
       "plotOptions": {
        "customPlotOptions": {},
        "displayType": "table",
        "pivotAggregation": null,
        "pivotColumns": null,
        "xColumns": null,
        "yColumns": null
       },
       "removedWidgets": [],
       "schema": [
        {
         "metadata": "{}",
         "name": "num_affected_rows",
         "type": "\"long\""
        },
        {
         "metadata": "{}",
         "name": "num_updated_rows",
         "type": "\"long\""
        },
        {
         "metadata": "{}",
         "name": "num_deleted_rows",
         "type": "\"long\""
        },
        {
         "metadata": "{}",
         "name": "num_inserted_rows",
         "type": "\"long\""
        }
       ],
       "type": "table"
      }
     },
     "output_type": "display_data"
    }
   ],
   "source": [
    "%sql\n",
    "merge into datamodel.dwh.dim_dates dst\n",
    "using dim_dates_view src\n",
    "on dst.OrderDate = src.OrderDate\n",
    "when matched then update set *\n",
    "when not matched then insert *"
   ]
  },
  {
   "cell_type": "code",
   "execution_count": 0,
   "metadata": {
    "application/vnd.databricks.v1+cell": {
     "cellMetadata": {
      "byteLimit": 2048000,
      "implicitDf": true,
      "rowLimit": 10000
     },
     "inputWidgets": {},
     "nuid": "297358a8-a08b-496b-87f1-2a521f24b830",
     "showTitle": false,
     "tableResultSettingsMap": {},
     "title": ""
    }
   },
   "outputs": [
    {
     "output_type": "display_data",
     "data": {
      "text/html": [
       "<style scoped>\n",
       "  .table-result-container {\n",
       "    max-height: 300px;\n",
       "    overflow: auto;\n",
       "  }\n",
       "  table, th, td {\n",
       "    border: 1px solid black;\n",
       "    border-collapse: collapse;\n",
       "  }\n",
       "  th, td {\n",
       "    padding: 5px;\n",
       "  }\n",
       "  th {\n",
       "    text-align: left;\n",
       "  }\n",
       "</style><div class='table-result-container'><table class='table-result'><thead style='background-color: white'><tr><th>dim_DateKey</th><th>OrderDate</th><th>OrderYear</th><th>OrderMonth</th></tr></thead><tbody><tr><td>1</td><td>2024-02-01</td><td>2024</td><td>02</td></tr><tr><td>2</td><td>2024-02-02</td><td>2024</td><td>02</td></tr><tr><td>3</td><td>2024-02-03</td><td>2024</td><td>02</td></tr><tr><td>4</td><td>2024-02-04</td><td>2024</td><td>02</td></tr><tr><td>5</td><td>2024-02-05</td><td>2024</td><td>02</td></tr><tr><td>6</td><td>2024-02-06</td><td>2024</td><td>02</td></tr><tr><td>7</td><td>2024-02-07</td><td>2024</td><td>02</td></tr><tr><td>8</td><td>2024-02-08</td><td>2024</td><td>02</td></tr><tr><td>9</td><td>2024-02-09</td><td>2024</td><td>02</td></tr><tr><td>10</td><td>2024-02-10</td><td>2024</td><td>02</td></tr><tr><td>11</td><td>2024-02-11</td><td>2024</td><td>02</td></tr><tr><td>12</td><td>2024-02-12</td><td>2024</td><td>02</td></tr></tbody></table></div>"
      ]
     },
     "metadata": {
      "application/vnd.databricks.v1+output": {
       "addedWidgets": {},
       "aggData": [],
       "aggError": "",
       "aggOverflow": false,
       "aggSchema": [],
       "aggSeriesLimitReached": false,
       "aggType": "",
       "arguments": {},
       "columnCustomDisplayInfos": {},
       "data": [
        [
         1,
         "2024-02-01",
         "2024",
         "02"
        ],
        [
         2,
         "2024-02-02",
         "2024",
         "02"
        ],
        [
         3,
         "2024-02-03",
         "2024",
         "02"
        ],
        [
         4,
         "2024-02-04",
         "2024",
         "02"
        ],
        [
         5,
         "2024-02-05",
         "2024",
         "02"
        ],
        [
         6,
         "2024-02-06",
         "2024",
         "02"
        ],
        [
         7,
         "2024-02-07",
         "2024",
         "02"
        ],
        [
         8,
         "2024-02-08",
         "2024",
         "02"
        ],
        [
         9,
         "2024-02-09",
         "2024",
         "02"
        ],
        [
         10,
         "2024-02-10",
         "2024",
         "02"
        ],
        [
         11,
         "2024-02-11",
         "2024",
         "02"
        ],
        [
         12,
         "2024-02-12",
         "2024",
         "02"
        ]
       ],
       "datasetInfos": [
        {
         "name": "_sqldf",
         "schema": {
          "fields": [
           {
            "metadata": {},
            "name": "dim_DateKey",
            "nullable": true,
            "type": "integer"
           },
           {
            "metadata": {},
            "name": "OrderDate",
            "nullable": true,
            "type": "date"
           },
           {
            "metadata": {},
            "name": "OrderYear",
            "nullable": true,
            "type": "string"
           },
           {
            "metadata": {},
            "name": "OrderMonth",
            "nullable": true,
            "type": "string"
           }
          ],
          "type": "struct"
         },
         "tableIdentifier": null,
         "typeStr": "pyspark.sql.connect.dataframe.DataFrame"
        }
       ],
       "dbfsResultPath": null,
       "isJsonSchema": true,
       "metadata": {
        "createTempViewForImplicitDf": true,
        "dataframeName": "_sqldf",
        "executionCount": 159
       },
       "overflow": false,
       "plotOptions": {
        "customPlotOptions": {},
        "displayType": "table",
        "pivotAggregation": null,
        "pivotColumns": null,
        "xColumns": null,
        "yColumns": null
       },
       "removedWidgets": [],
       "schema": [
        {
         "metadata": "{}",
         "name": "dim_DateKey",
         "type": "\"integer\""
        },
        {
         "metadata": "{}",
         "name": "OrderDate",
         "type": "\"date\""
        },
        {
         "metadata": "{}",
         "name": "OrderYear",
         "type": "\"string\""
        },
        {
         "metadata": "{}",
         "name": "OrderMonth",
         "type": "\"string\""
        }
       ],
       "type": "table"
      }
     },
     "output_type": "display_data"
    }
   ],
   "source": [
    "%sql\n",
    "select * from datamodel.dwh.dim_dates;"
   ]
  },
  {
   "cell_type": "markdown",
   "metadata": {
    "application/vnd.databricks.v1+cell": {
     "cellMetadata": {},
     "inputWidgets": {},
     "nuid": "43e02bac-452e-4179-b98c-4c3f6d51d1d7",
     "showTitle": false,
     "tableResultSettingsMap": {},
     "title": ""
    }
   },
   "source": [
    "#### fact_sales"
   ]
  },
  {
   "cell_type": "code",
   "execution_count": 0,
   "metadata": {
    "application/vnd.databricks.v1+cell": {
     "cellMetadata": {
      "byteLimit": 2048000,
      "implicitDf": true,
      "rowLimit": 10000
     },
     "inputWidgets": {},
     "nuid": "d8e8db12-01a1-466f-8987-b2280d4b70ea",
     "showTitle": false,
     "tableResultSettingsMap": {},
     "title": ""
    }
   },
   "outputs": [],
   "source": [
    "%sql\n",
    "create or replace table datamodel.dwh.fact_sales (\n",
    "    OrderID int,\n",
    "    dim_DateKey int,\n",
    "    dim_CustomerKey int,\n",
    "    dim_ProductKey int,\n",
    "    dim_RegionKey int,\n",
    "    m_Quantity decimal,\n",
    "    m_UnitPrice decimal,\n",
    "    m_TotalAmount decimal,\n",
    "    m_TotalAmountUSD decimal\n",
    ")"
   ]
  },
  {
   "cell_type": "code",
   "execution_count": 0,
   "metadata": {
    "application/vnd.databricks.v1+cell": {
     "cellMetadata": {
      "byteLimit": 2048000,
      "implicitDf": true,
      "rowLimit": 10000
     },
     "inputWidgets": {},
     "nuid": "90894060-348c-465f-a9d7-636788934071",
     "showTitle": false,
     "tableResultSettingsMap": {},
     "title": ""
    }
   },
   "outputs": [],
   "source": [
    "%sql\n",
    "create or replace temp view fact_sales_view\n",
    "as\n",
    "select\n",
    "    st.OrderID,\n",
    "    dt.dim_DateKey,\n",
    "    cu.dim_CustomerKey,\n",
    "    pr.dim_ProductKey,\n",
    "    rg.dim_RegionKey,\n",
    "    st.Quantity,\n",
    "    st.UnitPrice,\n",
    "    st.TotalAmount,\n",
    "    st.TotalAmountUSD\n",
    "from datamodel.dwh.stag_sales st\n",
    "left join datamodel.dwh.dim_customers cu\n",
    "on st.CustomerID = cu.CustomerID and cu.isCurrent = true\n",
    "left join datamodel.dwh.dim_products pr\n",
    "on st.ProductID = pr.ProductID\n",
    "left join datamodel.dwh.dim_regions rg\n",
    "on st.RegionID = rg.RegionID and st.Country = rg.Country\n",
    "left join datamodel.dwh.dim_dates dt\n",
    "on st.OrderDate = dt.OrderDate\n",
    "left join datamodel.dwh.fact_sales f\n",
    "on st.OrderID = f.OrderID\n",
    "where f.OrderID is null;"
   ]
  },
  {
   "cell_type": "code",
   "execution_count": 0,
   "metadata": {
    "application/vnd.databricks.v1+cell": {
     "cellMetadata": {
      "byteLimit": 2048000,
      "implicitDf": true,
      "rowLimit": 10000
     },
     "inputWidgets": {},
     "nuid": "f12a29f7-cc28-48b2-8d69-2b9dd670d38a",
     "showTitle": false,
     "tableResultSettingsMap": {},
     "title": ""
    }
   },
   "outputs": [
    {
     "output_type": "display_data",
     "data": {
      "text/html": [
       "<style scoped>\n",
       "  .table-result-container {\n",
       "    max-height: 300px;\n",
       "    overflow: auto;\n",
       "  }\n",
       "  table, th, td {\n",
       "    border: 1px solid black;\n",
       "    border-collapse: collapse;\n",
       "  }\n",
       "  th, td {\n",
       "    padding: 5px;\n",
       "  }\n",
       "  th {\n",
       "    text-align: left;\n",
       "  }\n",
       "</style><div class='table-result-container'><table class='table-result'><thead style='background-color: white'><tr><th>OrderID</th><th>dim_DateKey</th><th>dim_CustomerKey</th><th>dim_ProductKey</th><th>dim_RegionKey</th><th>Quantity</th><th>UnitPrice</th><th>TotalAmount</th><th>TotalAmountUSD</th></tr></thead><tbody><tr><td>11</td><td>11</td><td>1</td><td>1</td><td>2</td><td>2</td><td>800.00</td><td>1600.00</td><td>0.4000000</td></tr><tr><td>12</td><td>12</td><td>2</td><td>10</td><td>4</td><td>1</td><td>500.00</td><td>500.00</td><td>0.1250000</td></tr><tr><td>13</td><td>12</td><td>8</td><td>5</td><td>3</td><td>1</td><td>400.00</td><td>400.00</td><td>0.1000000</td></tr></tbody></table></div>"
      ]
     },
     "metadata": {
      "application/vnd.databricks.v1+output": {
       "addedWidgets": {},
       "aggData": [],
       "aggError": "",
       "aggOverflow": false,
       "aggSchema": [],
       "aggSeriesLimitReached": false,
       "aggType": "",
       "arguments": {},
       "columnCustomDisplayInfos": {},
       "data": [
        [
         11,
         11,
         1,
         1,
         2,
         2,
         "800.00",
         "1600.00",
         "0.4000000"
        ],
        [
         12,
         12,
         2,
         10,
         4,
         1,
         "500.00",
         "500.00",
         "0.1250000"
        ],
        [
         13,
         12,
         8,
         5,
         3,
         1,
         "400.00",
         "400.00",
         "0.1000000"
        ]
       ],
       "datasetInfos": [
        {
         "name": "_sqldf",
         "schema": {
          "fields": [
           {
            "metadata": {},
            "name": "OrderID",
            "nullable": true,
            "type": "integer"
           },
           {
            "metadata": {},
            "name": "dim_DateKey",
            "nullable": true,
            "type": "integer"
           },
           {
            "metadata": {},
            "name": "dim_CustomerKey",
            "nullable": true,
            "type": "integer"
           },
           {
            "metadata": {},
            "name": "dim_ProductKey",
            "nullable": true,
            "type": "integer"
           },
           {
            "metadata": {},
            "name": "dim_RegionKey",
            "nullable": true,
            "type": "integer"
           },
           {
            "metadata": {},
            "name": "Quantity",
            "nullable": true,
            "type": "integer"
           },
           {
            "metadata": {},
            "name": "UnitPrice",
            "nullable": true,
            "type": "decimal(10,2)"
           },
           {
            "metadata": {},
            "name": "TotalAmount",
            "nullable": true,
            "type": "decimal(10,2)"
           },
           {
            "metadata": {},
            "name": "TotalAmountUSD",
            "nullable": true,
            "type": "decimal(15,7)"
           }
          ],
          "type": "struct"
         },
         "tableIdentifier": null,
         "typeStr": "pyspark.sql.connect.dataframe.DataFrame"
        }
       ],
       "dbfsResultPath": null,
       "isJsonSchema": true,
       "metadata": {
        "createTempViewForImplicitDf": true,
        "dataframeName": "_sqldf",
        "executionCount": 175
       },
       "overflow": false,
       "plotOptions": {
        "customPlotOptions": {},
        "displayType": "table",
        "pivotAggregation": null,
        "pivotColumns": null,
        "xColumns": null,
        "yColumns": null
       },
       "removedWidgets": [],
       "schema": [
        {
         "metadata": "{}",
         "name": "OrderID",
         "type": "\"integer\""
        },
        {
         "metadata": "{}",
         "name": "dim_DateKey",
         "type": "\"integer\""
        },
        {
         "metadata": "{}",
         "name": "dim_CustomerKey",
         "type": "\"integer\""
        },
        {
         "metadata": "{}",
         "name": "dim_ProductKey",
         "type": "\"integer\""
        },
        {
         "metadata": "{}",
         "name": "dim_RegionKey",
         "type": "\"integer\""
        },
        {
         "metadata": "{}",
         "name": "Quantity",
         "type": "\"integer\""
        },
        {
         "metadata": "{}",
         "name": "UnitPrice",
         "type": "\"decimal(10,2)\""
        },
        {
         "metadata": "{}",
         "name": "TotalAmount",
         "type": "\"decimal(10,2)\""
        },
        {
         "metadata": "{}",
         "name": "TotalAmountUSD",
         "type": "\"decimal(15,7)\""
        }
       ],
       "type": "table"
      }
     },
     "output_type": "display_data"
    }
   ],
   "source": [
    "%sql\n",
    "select * from fact_sales_view;"
   ]
  },
  {
   "cell_type": "markdown",
   "metadata": {
    "application/vnd.databricks.v1+cell": {
     "cellMetadata": {},
     "inputWidgets": {},
     "nuid": "90cc2113-9744-4a96-bbb5-d37a5285ca48",
     "showTitle": false,
     "tableResultSettingsMap": {},
     "title": ""
    }
   },
   "source": [
    "#### Incremental loading"
   ]
  },
  {
   "cell_type": "code",
   "execution_count": 0,
   "metadata": {
    "application/vnd.databricks.v1+cell": {
     "cellMetadata": {
      "byteLimit": 2048000,
      "implicitDf": true,
      "rowLimit": 10000
     },
     "inputWidgets": {},
     "nuid": "285aed48-ffbd-4953-8c59-f1c21ea4d376",
     "showTitle": false,
     "tableResultSettingsMap": {},
     "title": ""
    }
   },
   "outputs": [
    {
     "output_type": "display_data",
     "data": {
      "text/html": [
       "<style scoped>\n",
       "  .table-result-container {\n",
       "    max-height: 300px;\n",
       "    overflow: auto;\n",
       "  }\n",
       "  table, th, td {\n",
       "    border: 1px solid black;\n",
       "    border-collapse: collapse;\n",
       "  }\n",
       "  th, td {\n",
       "    padding: 5px;\n",
       "  }\n",
       "  th {\n",
       "    text-align: left;\n",
       "  }\n",
       "</style><div class='table-result-container'><table class='table-result'><thead style='background-color: white'><tr><th>num_affected_rows</th><th>num_inserted_rows</th></tr></thead><tbody><tr><td>3</td><td>3</td></tr></tbody></table></div>"
      ]
     },
     "metadata": {
      "application/vnd.databricks.v1+output": {
       "addedWidgets": {},
       "aggData": [],
       "aggError": "",
       "aggOverflow": false,
       "aggSchema": [],
       "aggSeriesLimitReached": false,
       "aggType": "",
       "arguments": {},
       "columnCustomDisplayInfos": {},
       "data": [
        [
         3,
         3
        ]
       ],
       "datasetInfos": [
        {
         "name": "_sqldf",
         "schema": {
          "fields": [
           {
            "metadata": {},
            "name": "num_affected_rows",
            "nullable": true,
            "type": "long"
           },
           {
            "metadata": {},
            "name": "num_inserted_rows",
            "nullable": true,
            "type": "long"
           }
          ],
          "type": "struct"
         },
         "tableIdentifier": null,
         "typeStr": "pyspark.sql.connect.dataframe.DataFrame"
        }
       ],
       "dbfsResultPath": null,
       "isJsonSchema": true,
       "metadata": {
        "createTempViewForImplicitDf": true,
        "dataframeName": "_sqldf",
        "executionCount": 176
       },
       "overflow": false,
       "plotOptions": {
        "customPlotOptions": {},
        "displayType": "table",
        "pivotAggregation": null,
        "pivotColumns": null,
        "xColumns": null,
        "yColumns": null
       },
       "removedWidgets": [],
       "schema": [
        {
         "metadata": "{}",
         "name": "num_affected_rows",
         "type": "\"long\""
        },
        {
         "metadata": "{}",
         "name": "num_inserted_rows",
         "type": "\"long\""
        }
       ],
       "type": "table"
      }
     },
     "output_type": "display_data"
    }
   ],
   "source": [
    "%sql\n",
    "insert into datamodel.dwh.fact_sales\n",
    "select * from fact_sales_view;"
   ]
  },
  {
   "cell_type": "code",
   "execution_count": 0,
   "metadata": {
    "application/vnd.databricks.v1+cell": {
     "cellMetadata": {
      "byteLimit": 2048000,
      "implicitDf": true,
      "rowLimit": 10000
     },
     "inputWidgets": {},
     "nuid": "20b3b593-ed56-4533-a543-9cb752a5d7ed",
     "showTitle": false,
     "tableResultSettingsMap": {},
     "title": ""
    }
   },
   "outputs": [
    {
     "output_type": "display_data",
     "data": {
      "text/html": [
       "<style scoped>\n",
       "  .table-result-container {\n",
       "    max-height: 300px;\n",
       "    overflow: auto;\n",
       "  }\n",
       "  table, th, td {\n",
       "    border: 1px solid black;\n",
       "    border-collapse: collapse;\n",
       "  }\n",
       "  th, td {\n",
       "    padding: 5px;\n",
       "  }\n",
       "  th {\n",
       "    text-align: left;\n",
       "  }\n",
       "</style><div class='table-result-container'><table class='table-result'><thead style='background-color: white'><tr><th>OrderID</th><th>dim_DateKey</th><th>dim_CustomerKey</th><th>dim_ProductKey</th><th>dim_RegionKey</th><th>m_Quantity</th><th>m_UnitPrice</th><th>m_TotalAmount</th><th>m_TotalAmountUSD</th></tr></thead><tbody><tr><td>1</td><td>1</td><td>1</td><td>1</td><td>2</td><td>2</td><td>800</td><td>1600</td><td>0</td></tr><tr><td>2</td><td>2</td><td>2</td><td>2</td><td>4</td><td>1</td><td>500</td><td>500</td><td>0</td></tr><tr><td>3</td><td>3</td><td>3</td><td>3</td><td>7</td><td>3</td><td>300</td><td>900</td><td>0</td></tr><tr><td>4</td><td>4</td><td>1</td><td>4</td><td>2</td><td>1</td><td>150</td><td>150</td><td>0</td></tr><tr><td>5</td><td>5</td><td>4</td><td>5</td><td>3</td><td>1</td><td>400</td><td>400</td><td>0</td></tr><tr><td>6</td><td>6</td><td>2</td><td>6</td><td>6</td><td>2</td><td>200</td><td>400</td><td>0</td></tr><tr><td>7</td><td>7</td><td>5</td><td>1</td><td>1</td><td>1</td><td>800</td><td>800</td><td>0</td></tr><tr><td>8</td><td>8</td><td>6</td><td>7</td><td>5</td><td>2</td><td>250</td><td>500</td><td>0</td></tr><tr><td>9</td><td>9</td><td>7</td><td>8</td><td>8</td><td>3</td><td>100</td><td>300</td><td>0</td></tr><tr><td>10</td><td>10</td><td>4</td><td>9</td><td>2</td><td>1</td><td>50</td><td>50</td><td>0</td></tr><tr><td>11</td><td>11</td><td>1</td><td>1</td><td>2</td><td>2</td><td>800</td><td>1600</td><td>0</td></tr><tr><td>12</td><td>12</td><td>2</td><td>10</td><td>4</td><td>1</td><td>500</td><td>500</td><td>0</td></tr><tr><td>13</td><td>12</td><td>8</td><td>5</td><td>3</td><td>1</td><td>400</td><td>400</td><td>0</td></tr></tbody></table></div>"
      ]
     },
     "metadata": {
      "application/vnd.databricks.v1+output": {
       "addedWidgets": {},
       "aggData": [],
       "aggError": "",
       "aggOverflow": false,
       "aggSchema": [],
       "aggSeriesLimitReached": false,
       "aggType": "",
       "arguments": {},
       "columnCustomDisplayInfos": {},
       "data": [
        [
         1,
         1,
         1,
         1,
         2,
         "2",
         "800",
         "1600",
         "0"
        ],
        [
         2,
         2,
         2,
         2,
         4,
         "1",
         "500",
         "500",
         "0"
        ],
        [
         3,
         3,
         3,
         3,
         7,
         "3",
         "300",
         "900",
         "0"
        ],
        [
         4,
         4,
         1,
         4,
         2,
         "1",
         "150",
         "150",
         "0"
        ],
        [
         5,
         5,
         4,
         5,
         3,
         "1",
         "400",
         "400",
         "0"
        ],
        [
         6,
         6,
         2,
         6,
         6,
         "2",
         "200",
         "400",
         "0"
        ],
        [
         7,
         7,
         5,
         1,
         1,
         "1",
         "800",
         "800",
         "0"
        ],
        [
         8,
         8,
         6,
         7,
         5,
         "2",
         "250",
         "500",
         "0"
        ],
        [
         9,
         9,
         7,
         8,
         8,
         "3",
         "100",
         "300",
         "0"
        ],
        [
         10,
         10,
         4,
         9,
         2,
         "1",
         "50",
         "50",
         "0"
        ],
        [
         11,
         11,
         1,
         1,
         2,
         "2",
         "800",
         "1600",
         "0"
        ],
        [
         12,
         12,
         2,
         10,
         4,
         "1",
         "500",
         "500",
         "0"
        ],
        [
         13,
         12,
         8,
         5,
         3,
         "1",
         "400",
         "400",
         "0"
        ]
       ],
       "datasetInfos": [
        {
         "name": "_sqldf",
         "schema": {
          "fields": [
           {
            "metadata": {},
            "name": "OrderID",
            "nullable": true,
            "type": "integer"
           },
           {
            "metadata": {},
            "name": "dim_DateKey",
            "nullable": true,
            "type": "integer"
           },
           {
            "metadata": {},
            "name": "dim_CustomerKey",
            "nullable": true,
            "type": "integer"
           },
           {
            "metadata": {},
            "name": "dim_ProductKey",
            "nullable": true,
            "type": "integer"
           },
           {
            "metadata": {},
            "name": "dim_RegionKey",
            "nullable": true,
            "type": "integer"
           },
           {
            "metadata": {},
            "name": "m_Quantity",
            "nullable": true,
            "type": "decimal(10,0)"
           },
           {
            "metadata": {},
            "name": "m_UnitPrice",
            "nullable": true,
            "type": "decimal(10,0)"
           },
           {
            "metadata": {},
            "name": "m_TotalAmount",
            "nullable": true,
            "type": "decimal(10,0)"
           },
           {
            "metadata": {},
            "name": "m_TotalAmountUSD",
            "nullable": true,
            "type": "decimal(10,0)"
           }
          ],
          "type": "struct"
         },
         "tableIdentifier": null,
         "typeStr": "pyspark.sql.connect.dataframe.DataFrame"
        }
       ],
       "dbfsResultPath": null,
       "isJsonSchema": true,
       "metadata": {
        "createTempViewForImplicitDf": true,
        "dataframeName": "_sqldf",
        "executionCount": 179
       },
       "overflow": false,
       "plotOptions": {
        "customPlotOptions": {},
        "displayType": "table",
        "pivotAggregation": null,
        "pivotColumns": null,
        "xColumns": null,
        "yColumns": null
       },
       "removedWidgets": [],
       "schema": [
        {
         "metadata": "{}",
         "name": "OrderID",
         "type": "\"integer\""
        },
        {
         "metadata": "{}",
         "name": "dim_DateKey",
         "type": "\"integer\""
        },
        {
         "metadata": "{}",
         "name": "dim_CustomerKey",
         "type": "\"integer\""
        },
        {
         "metadata": "{}",
         "name": "dim_ProductKey",
         "type": "\"integer\""
        },
        {
         "metadata": "{}",
         "name": "dim_RegionKey",
         "type": "\"integer\""
        },
        {
         "metadata": "{}",
         "name": "m_Quantity",
         "type": "\"decimal(10,0)\""
        },
        {
         "metadata": "{}",
         "name": "m_UnitPrice",
         "type": "\"decimal(10,0)\""
        },
        {
         "metadata": "{}",
         "name": "m_TotalAmount",
         "type": "\"decimal(10,0)\""
        },
        {
         "metadata": "{}",
         "name": "m_TotalAmountUSD",
         "type": "\"decimal(10,0)\""
        }
       ],
       "type": "table"
      }
     },
     "output_type": "display_data"
    }
   ],
   "source": [
    "%sql\n",
    "select * from datamodel.dwh.fact_sales;"
   ]
  },
  {
   "cell_type": "code",
   "execution_count": 0,
   "metadata": {
    "application/vnd.databricks.v1+cell": {
     "cellMetadata": {
      "byteLimit": 2048000,
      "implicitDf": true,
      "rowLimit": 10000
     },
     "inputWidgets": {},
     "nuid": "e4f3c84f-5a85-426a-b677-9b9568087783",
     "showTitle": false,
     "tableResultSettingsMap": {},
     "title": ""
    }
   },
   "outputs": [
    {
     "output_type": "display_data",
     "data": {
      "text/html": [
       "<style scoped>\n",
       "  .table-result-container {\n",
       "    max-height: 300px;\n",
       "    overflow: auto;\n",
       "  }\n",
       "  table, th, td {\n",
       "    border: 1px solid black;\n",
       "    border-collapse: collapse;\n",
       "  }\n",
       "  th, td {\n",
       "    padding: 5px;\n",
       "  }\n",
       "  th {\n",
       "    text-align: left;\n",
       "  }\n",
       "</style><div class='table-result-container'><table class='table-result'><thead style='background-color: white'><tr><th>version</th><th>timestamp</th><th>userId</th><th>userName</th><th>operation</th><th>operationParameters</th><th>job</th><th>notebook</th><th>clusterId</th><th>readVersion</th><th>isolationLevel</th><th>isBlindAppend</th><th>operationMetrics</th><th>userMetadata</th><th>engineInfo</th></tr></thead><tbody><tr><td>7</td><td>2025-08-13T03:47:51.000Z</td><td>78362573187593</td><td>phyominnthwin@gmail.com</td><td>WRITE</td><td>Map(mode -> Append, statsOnLoad -> true, partitionBy -> [])</td><td>null</td><td>null</td><td>0813-021143-gaucu8mq-v2n</td><td>6</td><td>WriteSerializable</td><td>false</td><td>Map(numFiles -> 1, numOutputRows -> 4, numOutputBytes -> 2618)</td><td>null</td><td>Databricks-Runtime/17.0.x-aarch64-photon-scala2.13</td></tr><tr><td>6</td><td>2025-08-13T02:23:34.000Z</td><td>78362573187593</td><td>phyominnthwin@gmail.com</td><td>WRITE</td><td>Map(mode -> Append, statsOnLoad -> true, partitionBy -> [])</td><td>null</td><td>null</td><td>0813-021143-gaucu8mq-v2n</td><td>5</td><td>WriteSerializable</td><td>false</td><td>Map(numFiles -> 1, numOutputRows -> 10, numOutputBytes -> 2779)</td><td>null</td><td>Databricks-Runtime/17.0.x-aarch64-photon-scala2.13</td></tr><tr><td>5</td><td>2025-08-13T02:23:13.000Z</td><td>78362573187593</td><td>phyominnthwin@gmail.com</td><td>CREATE OR REPLACE TABLE</td><td>Map(partitionBy -> [], clusterBy -> [], description -> null, isManaged -> true, properties -> {\"delta.enableDeletionVectors\":\"true\"}, statsOnLoad -> false)</td><td>null</td><td>null</td><td>0813-021143-gaucu8mq-v2n</td><td>4</td><td>WriteSerializable</td><td>false</td><td>Map()</td><td>null</td><td>Databricks-Runtime/17.0.x-aarch64-photon-scala2.13</td></tr><tr><td>4</td><td>2025-08-12T17:54:45.000Z</td><td>78362573187593</td><td>phyominnthwin@gmail.com</td><td>WRITE</td><td>Map(mode -> Append, statsOnLoad -> false, partitionBy -> [])</td><td>null</td><td>null</td><td>0812-152854-mjevjyvi-v2n</td><td>3</td><td>WriteSerializable</td><td>false</td><td>Map(numFiles -> 0, numOutputRows -> 0, numOutputBytes -> 0)</td><td>null</td><td>Databricks-Runtime/17.0.x-aarch64-photon-scala2.13</td></tr><tr><td>3</td><td>2025-08-12T16:28:29.000Z</td><td>78362573187593</td><td>phyominnthwin@gmail.com</td><td>WRITE</td><td>Map(mode -> Append, statsOnLoad -> true, partitionBy -> [])</td><td>null</td><td>null</td><td>0812-152854-mjevjyvi-v2n</td><td>2</td><td>WriteSerializable</td><td>false</td><td>Map(numFiles -> 1, numOutputRows -> 10, numOutputBytes -> 2779)</td><td>null</td><td>Databricks-Runtime/17.0.x-aarch64-photon-scala2.13</td></tr><tr><td>2</td><td>2025-08-12T16:28:14.000Z</td><td>78362573187593</td><td>phyominnthwin@gmail.com</td><td>CREATE OR REPLACE TABLE</td><td>Map(partitionBy -> [], clusterBy -> [], description -> null, isManaged -> true, properties -> {\"delta.enableDeletionVectors\":\"true\"}, statsOnLoad -> false)</td><td>null</td><td>null</td><td>0812-152854-mjevjyvi-v2n</td><td>1</td><td>WriteSerializable</td><td>false</td><td>Map()</td><td>null</td><td>Databricks-Runtime/17.0.x-aarch64-photon-scala2.13</td></tr><tr><td>1</td><td>2025-08-12T16:23:04.000Z</td><td>78362573187593</td><td>phyominnthwin@gmail.com</td><td>CREATE OR REPLACE TABLE</td><td>Map(partitionBy -> [], clusterBy -> [], description -> null, isManaged -> true, properties -> {\"delta.enableDeletionVectors\":\"true\"}, statsOnLoad -> false)</td><td>null</td><td>null</td><td>0812-152854-mjevjyvi-v2n</td><td>0</td><td>WriteSerializable</td><td>false</td><td>Map()</td><td>null</td><td>Databricks-Runtime/17.0.x-aarch64-photon-scala2.13</td></tr><tr><td>0</td><td>2025-08-12T16:12:20.000Z</td><td>78362573187593</td><td>phyominnthwin@gmail.com</td><td>CREATE TABLE</td><td>Map(partitionBy -> [], clusterBy -> [], description -> null, isManaged -> true, properties -> {\"delta.enableDeletionVectors\":\"true\"}, statsOnLoad -> false)</td><td>null</td><td>null</td><td>0812-152854-mjevjyvi-v2n</td><td>null</td><td>WriteSerializable</td><td>true</td><td>Map()</td><td>null</td><td>Databricks-Runtime/17.0.x-aarch64-photon-scala2.13</td></tr></tbody></table></div>"
      ]
     },
     "metadata": {
      "application/vnd.databricks.v1+output": {
       "addedWidgets": {},
       "aggData": [],
       "aggError": "",
       "aggOverflow": false,
       "aggSchema": [],
       "aggSeriesLimitReached": false,
       "aggType": "",
       "arguments": {},
       "columnCustomDisplayInfos": {},
       "data": [
        [
         7,
         "2025-08-13T03:47:51.000Z",
         "78362573187593",
         "phyominnthwin@gmail.com",
         "WRITE",
         {
          "mode": "Append",
          "partitionBy": "[]",
          "statsOnLoad": "true"
         },
         null,
         null,
         "0813-021143-gaucu8mq-v2n",
         6,
         "WriteSerializable",
         false,
         {
          "numFiles": "1",
          "numOutputBytes": "2618",
          "numOutputRows": "4"
         },
         null,
         "Databricks-Runtime/17.0.x-aarch64-photon-scala2.13"
        ],
        [
         6,
         "2025-08-13T02:23:34.000Z",
         "78362573187593",
         "phyominnthwin@gmail.com",
         "WRITE",
         {
          "mode": "Append",
          "partitionBy": "[]",
          "statsOnLoad": "true"
         },
         null,
         null,
         "0813-021143-gaucu8mq-v2n",
         5,
         "WriteSerializable",
         false,
         {
          "numFiles": "1",
          "numOutputBytes": "2779",
          "numOutputRows": "10"
         },
         null,
         "Databricks-Runtime/17.0.x-aarch64-photon-scala2.13"
        ],
        [
         5,
         "2025-08-13T02:23:13.000Z",
         "78362573187593",
         "phyominnthwin@gmail.com",
         "CREATE OR REPLACE TABLE",
         {
          "clusterBy": "[]",
          "description": null,
          "isManaged": "true",
          "partitionBy": "[]",
          "properties": "{\"delta.enableDeletionVectors\":\"true\"}",
          "statsOnLoad": "false"
         },
         null,
         null,
         "0813-021143-gaucu8mq-v2n",
         4,
         "WriteSerializable",
         false,
         {},
         null,
         "Databricks-Runtime/17.0.x-aarch64-photon-scala2.13"
        ],
        [
         4,
         "2025-08-12T17:54:45.000Z",
         "78362573187593",
         "phyominnthwin@gmail.com",
         "WRITE",
         {
          "mode": "Append",
          "partitionBy": "[]",
          "statsOnLoad": "false"
         },
         null,
         null,
         "0812-152854-mjevjyvi-v2n",
         3,
         "WriteSerializable",
         false,
         {
          "numFiles": "0",
          "numOutputBytes": "0",
          "numOutputRows": "0"
         },
         null,
         "Databricks-Runtime/17.0.x-aarch64-photon-scala2.13"
        ],
        [
         3,
         "2025-08-12T16:28:29.000Z",
         "78362573187593",
         "phyominnthwin@gmail.com",
         "WRITE",
         {
          "mode": "Append",
          "partitionBy": "[]",
          "statsOnLoad": "true"
         },
         null,
         null,
         "0812-152854-mjevjyvi-v2n",
         2,
         "WriteSerializable",
         false,
         {
          "numFiles": "1",
          "numOutputBytes": "2779",
          "numOutputRows": "10"
         },
         null,
         "Databricks-Runtime/17.0.x-aarch64-photon-scala2.13"
        ],
        [
         2,
         "2025-08-12T16:28:14.000Z",
         "78362573187593",
         "phyominnthwin@gmail.com",
         "CREATE OR REPLACE TABLE",
         {
          "clusterBy": "[]",
          "description": null,
          "isManaged": "true",
          "partitionBy": "[]",
          "properties": "{\"delta.enableDeletionVectors\":\"true\"}",
          "statsOnLoad": "false"
         },
         null,
         null,
         "0812-152854-mjevjyvi-v2n",
         1,
         "WriteSerializable",
         false,
         {},
         null,
         "Databricks-Runtime/17.0.x-aarch64-photon-scala2.13"
        ],
        [
         1,
         "2025-08-12T16:23:04.000Z",
         "78362573187593",
         "phyominnthwin@gmail.com",
         "CREATE OR REPLACE TABLE",
         {
          "clusterBy": "[]",
          "description": null,
          "isManaged": "true",
          "partitionBy": "[]",
          "properties": "{\"delta.enableDeletionVectors\":\"true\"}",
          "statsOnLoad": "false"
         },
         null,
         null,
         "0812-152854-mjevjyvi-v2n",
         0,
         "WriteSerializable",
         false,
         {},
         null,
         "Databricks-Runtime/17.0.x-aarch64-photon-scala2.13"
        ],
        [
         0,
         "2025-08-12T16:12:20.000Z",
         "78362573187593",
         "phyominnthwin@gmail.com",
         "CREATE TABLE",
         {
          "clusterBy": "[]",
          "description": null,
          "isManaged": "true",
          "partitionBy": "[]",
          "properties": "{\"delta.enableDeletionVectors\":\"true\"}",
          "statsOnLoad": "false"
         },
         null,
         null,
         "0812-152854-mjevjyvi-v2n",
         null,
         "WriteSerializable",
         true,
         {},
         null,
         "Databricks-Runtime/17.0.x-aarch64-photon-scala2.13"
        ]
       ],
       "datasetInfos": [
        {
         "name": "_sqldf",
         "schema": {
          "fields": [
           {
            "metadata": {},
            "name": "version",
            "nullable": true,
            "type": "long"
           },
           {
            "metadata": {},
            "name": "timestamp",
            "nullable": true,
            "type": "timestamp"
           },
           {
            "metadata": {},
            "name": "userId",
            "nullable": true,
            "type": "string"
           },
           {
            "metadata": {},
            "name": "userName",
            "nullable": true,
            "type": "string"
           },
           {
            "metadata": {},
            "name": "operation",
            "nullable": true,
            "type": "string"
           },
           {
            "metadata": {},
            "name": "operationParameters",
            "nullable": true,
            "type": {
             "keyType": "string",
             "type": "map",
             "valueContainsNull": true,
             "valueType": "string"
            }
           },
           {
            "metadata": {},
            "name": "job",
            "nullable": true,
            "type": {
             "fields": [
              {
               "metadata": {},
               "name": "jobId",
               "nullable": true,
               "type": "string"
              },
              {
               "metadata": {},
               "name": "jobName",
               "nullable": true,
               "type": "string"
              },
              {
               "metadata": {},
               "name": "jobRunId",
               "nullable": true,
               "type": "string"
              },
              {
               "metadata": {},
               "name": "runId",
               "nullable": true,
               "type": "string"
              },
              {
               "metadata": {},
               "name": "jobOwnerId",
               "nullable": true,
               "type": "string"
              },
              {
               "metadata": {},
               "name": "triggerType",
               "nullable": true,
               "type": "string"
              }
             ],
             "type": "struct"
            }
           },
           {
            "metadata": {},
            "name": "notebook",
            "nullable": true,
            "type": {
             "fields": [
              {
               "metadata": {},
               "name": "notebookId",
               "nullable": true,
               "type": "string"
              }
             ],
             "type": "struct"
            }
           },
           {
            "metadata": {},
            "name": "clusterId",
            "nullable": true,
            "type": "string"
           },
           {
            "metadata": {},
            "name": "readVersion",
            "nullable": true,
            "type": "long"
           },
           {
            "metadata": {},
            "name": "isolationLevel",
            "nullable": true,
            "type": "string"
           },
           {
            "metadata": {},
            "name": "isBlindAppend",
            "nullable": true,
            "type": "boolean"
           },
           {
            "metadata": {},
            "name": "operationMetrics",
            "nullable": true,
            "type": {
             "keyType": "string",
             "type": "map",
             "valueContainsNull": true,
             "valueType": "string"
            }
           },
           {
            "metadata": {},
            "name": "userMetadata",
            "nullable": true,
            "type": "string"
           },
           {
            "metadata": {},
            "name": "engineInfo",
            "nullable": true,
            "type": "string"
           }
          ],
          "type": "struct"
         },
         "tableIdentifier": null,
         "typeStr": "pyspark.sql.connect.dataframe.DataFrame"
        }
       ],
       "dbfsResultPath": null,
       "isJsonSchema": true,
       "metadata": {
        "createTempViewForImplicitDf": true,
        "dataframeName": "_sqldf",
        "executionCount": 165
       },
       "overflow": false,
       "plotOptions": {
        "customPlotOptions": {},
        "displayType": "table",
        "pivotAggregation": null,
        "pivotColumns": null,
        "xColumns": null,
        "yColumns": null
       },
       "removedWidgets": [],
       "schema": [
        {
         "metadata": "{}",
         "name": "version",
         "type": "\"long\""
        },
        {
         "metadata": "{}",
         "name": "timestamp",
         "type": "\"timestamp\""
        },
        {
         "metadata": "{}",
         "name": "userId",
         "type": "\"string\""
        },
        {
         "metadata": "{}",
         "name": "userName",
         "type": "\"string\""
        },
        {
         "metadata": "{}",
         "name": "operation",
         "type": "\"string\""
        },
        {
         "metadata": "{}",
         "name": "operationParameters",
         "type": "{\"keyType\":\"string\",\"type\":\"map\",\"valueContainsNull\":true,\"valueType\":\"string\"}"
        },
        {
         "metadata": "{}",
         "name": "job",
         "type": "{\"fields\":[{\"metadata\":{},\"name\":\"jobId\",\"nullable\":true,\"type\":\"string\"},{\"metadata\":{},\"name\":\"jobName\",\"nullable\":true,\"type\":\"string\"},{\"metadata\":{},\"name\":\"jobRunId\",\"nullable\":true,\"type\":\"string\"},{\"metadata\":{},\"name\":\"runId\",\"nullable\":true,\"type\":\"string\"},{\"metadata\":{},\"name\":\"jobOwnerId\",\"nullable\":true,\"type\":\"string\"},{\"metadata\":{},\"name\":\"triggerType\",\"nullable\":true,\"type\":\"string\"}],\"type\":\"struct\"}"
        },
        {
         "metadata": "{}",
         "name": "notebook",
         "type": "{\"fields\":[{\"metadata\":{},\"name\":\"notebookId\",\"nullable\":true,\"type\":\"string\"}],\"type\":\"struct\"}"
        },
        {
         "metadata": "{}",
         "name": "clusterId",
         "type": "\"string\""
        },
        {
         "metadata": "{}",
         "name": "readVersion",
         "type": "\"long\""
        },
        {
         "metadata": "{}",
         "name": "isolationLevel",
         "type": "\"string\""
        },
        {
         "metadata": "{}",
         "name": "isBlindAppend",
         "type": "\"boolean\""
        },
        {
         "metadata": "{}",
         "name": "operationMetrics",
         "type": "{\"keyType\":\"string\",\"type\":\"map\",\"valueContainsNull\":true,\"valueType\":\"string\"}"
        },
        {
         "metadata": "{}",
         "name": "userMetadata",
         "type": "\"string\""
        },
        {
         "metadata": "{}",
         "name": "engineInfo",
         "type": "\"string\""
        }
       ],
       "type": "table"
      }
     },
     "output_type": "display_data"
    }
   ],
   "source": [
    "%sql\n",
    "describe history datamodel.dwh.fact_sales;"
   ]
  },
  {
   "cell_type": "code",
   "execution_count": 0,
   "metadata": {
    "application/vnd.databricks.v1+cell": {
     "cellMetadata": {
      "byteLimit": 2048000,
      "implicitDf": true,
      "rowLimit": 10000
     },
     "inputWidgets": {},
     "nuid": "e88c4ac3-9b2b-41c8-a89c-edc899fdfdc6",
     "showTitle": false,
     "tableResultSettingsMap": {},
     "title": ""
    }
   },
   "outputs": [
    {
     "output_type": "display_data",
     "data": {
      "text/html": [
       "<style scoped>\n",
       "  .table-result-container {\n",
       "    max-height: 300px;\n",
       "    overflow: auto;\n",
       "  }\n",
       "  table, th, td {\n",
       "    border: 1px solid black;\n",
       "    border-collapse: collapse;\n",
       "  }\n",
       "  th, td {\n",
       "    padding: 5px;\n",
       "  }\n",
       "  th {\n",
       "    text-align: left;\n",
       "  }\n",
       "</style><div class='table-result-container'><table class='table-result'><thead style='background-color: white'><tr><th>table_size_after_restore</th><th>num_of_files_after_restore</th><th>num_removed_files</th><th>num_restored_files</th><th>removed_files_size</th><th>restored_files_size</th></tr></thead><tbody><tr><td>2779</td><td>1</td><td>1</td><td>0</td><td>2618</td><td>0</td></tr></tbody></table></div>"
      ]
     },
     "metadata": {
      "application/vnd.databricks.v1+output": {
       "addedWidgets": {},
       "aggData": [],
       "aggError": "",
       "aggOverflow": false,
       "aggSchema": [],
       "aggSeriesLimitReached": false,
       "aggType": "",
       "arguments": {},
       "columnCustomDisplayInfos": {},
       "data": [
        [
         2779,
         1,
         1,
         0,
         2618,
         0
        ]
       ],
       "datasetInfos": [
        {
         "name": "_sqldf",
         "schema": {
          "fields": [
           {
            "metadata": {},
            "name": "table_size_after_restore",
            "nullable": true,
            "type": "long"
           },
           {
            "metadata": {},
            "name": "num_of_files_after_restore",
            "nullable": true,
            "type": "long"
           },
           {
            "metadata": {},
            "name": "num_removed_files",
            "nullable": true,
            "type": "long"
           },
           {
            "metadata": {},
            "name": "num_restored_files",
            "nullable": true,
            "type": "long"
           },
           {
            "metadata": {},
            "name": "removed_files_size",
            "nullable": true,
            "type": "long"
           },
           {
            "metadata": {},
            "name": "restored_files_size",
            "nullable": true,
            "type": "long"
           }
          ],
          "type": "struct"
         },
         "tableIdentifier": null,
         "typeStr": "pyspark.sql.connect.dataframe.DataFrame"
        }
       ],
       "dbfsResultPath": null,
       "isJsonSchema": true,
       "metadata": {
        "createTempViewForImplicitDf": true,
        "dataframeName": "_sqldf",
        "executionCount": 166
       },
       "overflow": false,
       "plotOptions": {
        "customPlotOptions": {},
        "displayType": "table",
        "pivotAggregation": null,
        "pivotColumns": null,
        "xColumns": null,
        "yColumns": null
       },
       "removedWidgets": [],
       "schema": [
        {
         "metadata": "{}",
         "name": "table_size_after_restore",
         "type": "\"long\""
        },
        {
         "metadata": "{}",
         "name": "num_of_files_after_restore",
         "type": "\"long\""
        },
        {
         "metadata": "{}",
         "name": "num_removed_files",
         "type": "\"long\""
        },
        {
         "metadata": "{}",
         "name": "num_restored_files",
         "type": "\"long\""
        },
        {
         "metadata": "{}",
         "name": "removed_files_size",
         "type": "\"long\""
        },
        {
         "metadata": "{}",
         "name": "restored_files_size",
         "type": "\"long\""
        }
       ],
       "type": "table"
      }
     },
     "output_type": "display_data"
    }
   ],
   "source": [
    "%sql\n",
    "restore table datamodel.dwh.fact_sales to version as of 6;"
   ]
  },
  {
   "cell_type": "code",
   "execution_count": 0,
   "metadata": {
    "application/vnd.databricks.v1+cell": {
     "cellMetadata": {},
     "inputWidgets": {},
     "nuid": "cd0e2520-c145-4718-a73d-c891df50cdec",
     "showTitle": false,
     "tableResultSettingsMap": {},
     "title": ""
    }
   },
   "outputs": [],
   "source": []
  }
 ],
 "metadata": {
  "application/vnd.databricks.v1+notebook": {
   "computePreferences": {
    "hardware": {
     "accelerator": null,
     "gpuPoolId": null,
     "memory": null
    }
   },
   "dashboards": [],
   "environmentMetadata": {
    "base_environment": "",
    "environment_version": "2"
   },
   "inputWidgetPreferences": null,
   "language": "python",
   "notebookMetadata": {
    "mostRecentlyExecutedCommandWithImplicitDF": {
     "commandId": 6102459324563623,
     "dataframes": [
      "_sqldf"
     ]
    },
    "pythonIndentUnit": 4
   },
   "notebookName": "DataWarehousing",
   "widgets": {}
  },
  "language_info": {
   "name": "python"
  }
 },
 "nbformat": 4,
 "nbformat_minor": 0
}