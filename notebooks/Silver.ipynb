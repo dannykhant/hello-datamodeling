{
 "cells": [
  {
   "cell_type": "code",
   "execution_count": 0,
   "metadata": {
    "application/vnd.databricks.v1+cell": {
     "cellMetadata": {
      "byteLimit": 2048000,
      "implicitDf": true,
      "rowLimit": 10000
     },
     "inputWidgets": {},
     "nuid": "6793fb89-bdb6-4ff5-b48a-b1237f011aaa",
     "showTitle": false,
     "tableResultSettingsMap": {},
     "title": ""
    }
   },
   "outputs": [],
   "source": [
    "%sql\n",
    "create schema datamodel.silver;"
   ]
  },
  {
   "cell_type": "markdown",
   "metadata": {
    "application/vnd.databricks.v1+cell": {
     "cellMetadata": {},
     "inputWidgets": {},
     "nuid": "3ed2aa76-f188-48d5-b142-f3cf138e5f91",
     "showTitle": false,
     "tableResultSettingsMap": {},
     "title": ""
    }
   },
   "source": [
    "#### Transformation"
   ]
  },
  {
   "cell_type": "code",
   "execution_count": 0,
   "metadata": {
    "application/vnd.databricks.v1+cell": {
     "cellMetadata": {
      "byteLimit": 2048000,
      "rowLimit": 10000
     },
     "inputWidgets": {},
     "nuid": "c05b2c00-e70d-4b2e-b980-2107fb2dccec",
     "showTitle": false,
     "tableResultSettingsMap": {},
     "title": ""
    }
   },
   "outputs": [],
   "source": [
    "spark.sql(\"\"\"\n",
    "            select \n",
    "                *,\n",
    "                split(customer_email, '@')[1] as customer_email_host,\n",
    "                current_date() as processed_date\n",
    "            from datamodel.bronze.bronze_tbl\n",
    "          \"\"\").createOrReplaceTempView(\"silver_src\")"
   ]
  },
  {
   "cell_type": "markdown",
   "metadata": {
    "application/vnd.databricks.v1+cell": {
     "cellMetadata": {},
     "inputWidgets": {},
     "nuid": "13b2c870-88e5-4188-81c5-6ad141d907a1",
     "showTitle": false,
     "tableResultSettingsMap": {},
     "title": ""
    }
   },
   "source": [
    "#### Silver Table Creation & MERGE/UPSERT"
   ]
  },
  {
   "cell_type": "code",
   "execution_count": 0,
   "metadata": {
    "application/vnd.databricks.v1+cell": {
     "cellMetadata": {
      "byteLimit": 2048000,
      "implicitDf": true,
      "rowLimit": 10000
     },
     "inputWidgets": {},
     "nuid": "d7a6264a-03d3-44e6-a92e-04d0623e51fa",
     "showTitle": false,
     "tableResultSettingsMap": {},
     "title": ""
    }
   },
   "outputs": [],
   "source": [
    "if spark.catalog.tableExists(\"datamodel.silver.silver_tbl\"):\n",
    "    spark.sql(\"\"\"\n",
    "              merge into datamodel.silver.silver_tbl as dst\n",
    "              using silver_src as src\n",
    "              on dst.order_id = src.order_id\n",
    "              when matched then\n",
    "                update set *\n",
    "              when not matched then\n",
    "                insert *\n",
    "              \"\"\")\n",
    "else:\n",
    "    spark.sql(\"\"\"\n",
    "                create table datamodel.silver.silver_tbl\n",
    "                as\n",
    "                select \n",
    "                    *\n",
    "                from silver_src\n",
    "              \"\"\")"
   ]
  },
  {
   "cell_type": "code",
   "execution_count": 0,
   "metadata": {
    "application/vnd.databricks.v1+cell": {
     "cellMetadata": {
      "byteLimit": 2048000,
      "implicitDf": true,
      "rowLimit": 10000
     },
     "inputWidgets": {},
     "nuid": "23380974-507e-40e6-8f3d-d50eddd5c01f",
     "showTitle": false,
     "tableResultSettingsMap": {},
     "title": ""
    }
   },
   "outputs": [
    {
     "output_type": "display_data",
     "data": {
      "text/html": [
       "<style scoped>\n",
       "  .table-result-container {\n",
       "    max-height: 300px;\n",
       "    overflow: auto;\n",
       "  }\n",
       "  table, th, td {\n",
       "    border: 1px solid black;\n",
       "    border-collapse: collapse;\n",
       "  }\n",
       "  th, td {\n",
       "    padding: 5px;\n",
       "  }\n",
       "  th {\n",
       "    text-align: left;\n",
       "  }\n",
       "</style><div class='table-result-container'><table class='table-result'><thead style='background-color: white'><tr><th>order_id</th><th>order_date</th><th>customer_id</th><th>customer_name</th><th>customer_email</th><th>product_id</th><th>product_name</th><th>product_category</th><th>quantity</th><th>unit_price</th><th>payment_type</th><th>country</th><th>last_updated</th><th>customer_email_host</th><th>processed_date</th></tr></thead><tbody><tr><td>1001</td><td>2024-07-01</td><td>1</td><td>Alice Johnson</td><td>alice@gmail.com</td><td>501</td><td>iPhone 14</td><td>Electronics</td><td>1</td><td>999.99</td><td>Credit Card</td><td>USA</td><td>2024-07-01</td><td>gmail.com</td><td>2025-08-11</td></tr><tr><td>1002</td><td>2024-07-01</td><td>2</td><td>Bob Smith</td><td>bob@yahoo.com</td><td>502</td><td>AirPods Pro</td><td>Electronics</td><td>2</td><td>199.99</td><td>PayPal</td><td>USA</td><td>2024-07-01</td><td>yahoo.com</td><td>2025-08-11</td></tr><tr><td>1003</td><td>2024-07-01</td><td>3</td><td>Charlie Brown</td><td>charlie@outlook.com</td><td>503</td><td>Nike Shoes</td><td>Footwear</td><td>1</td><td>129.99</td><td>Credit Card</td><td>Canada</td><td>2024-07-01</td><td>outlook.com</td><td>2025-08-11</td></tr><tr><td>1004</td><td>2024-07-02</td><td>4</td><td>David Lee</td><td>david@abc.com</td><td>504</td><td>Samsung S23</td><td>Electronics</td><td>1</td><td>899.99</td><td>Credit Card</td><td>USA</td><td>2024-07-02</td><td>abc.com</td><td>2025-08-11</td></tr><tr><td>1005</td><td>2024-07-02</td><td>1</td><td>Alice Johnson</td><td>alice@gmail.com</td><td>503</td><td>Nike Shoes</td><td>Footwear</td><td>2</td><td>129.99</td><td>Credit Card</td><td>USA</td><td>2024-07-02</td><td>gmail.com</td><td>2025-08-11</td></tr></tbody></table></div>"
      ]
     },
     "metadata": {
      "application/vnd.databricks.v1+output": {
       "addedWidgets": {},
       "aggData": [],
       "aggError": "",
       "aggOverflow": false,
       "aggSchema": [],
       "aggSeriesLimitReached": false,
       "aggType": "",
       "arguments": {},
       "columnCustomDisplayInfos": {},
       "data": [
        [
         1001,
         "2024-07-01",
         1,
         "Alice Johnson",
         "alice@gmail.com",
         501,
         "iPhone 14",
         "Electronics",
         1,
         "999.99",
         "Credit Card",
         "USA",
         "2024-07-01",
         "gmail.com",
         "2025-08-11"
        ],
        [
         1002,
         "2024-07-01",
         2,
         "Bob Smith",
         "bob@yahoo.com",
         502,
         "AirPods Pro",
         "Electronics",
         2,
         "199.99",
         "PayPal",
         "USA",
         "2024-07-01",
         "yahoo.com",
         "2025-08-11"
        ],
        [
         1003,
         "2024-07-01",
         3,
         "Charlie Brown",
         "charlie@outlook.com",
         503,
         "Nike Shoes",
         "Footwear",
         1,
         "129.99",
         "Credit Card",
         "Canada",
         "2024-07-01",
         "outlook.com",
         "2025-08-11"
        ],
        [
         1004,
         "2024-07-02",
         4,
         "David Lee",
         "david@abc.com",
         504,
         "Samsung S23",
         "Electronics",
         1,
         "899.99",
         "Credit Card",
         "USA",
         "2024-07-02",
         "abc.com",
         "2025-08-11"
        ],
        [
         1005,
         "2024-07-02",
         1,
         "Alice Johnson",
         "alice@gmail.com",
         503,
         "Nike Shoes",
         "Footwear",
         2,
         "129.99",
         "Credit Card",
         "USA",
         "2024-07-02",
         "gmail.com",
         "2025-08-11"
        ]
       ],
       "datasetInfos": [
        {
         "name": "_sqldf",
         "schema": {
          "fields": [
           {
            "metadata": {},
            "name": "order_id",
            "nullable": true,
            "type": "integer"
           },
           {
            "metadata": {},
            "name": "order_date",
            "nullable": true,
            "type": "date"
           },
           {
            "metadata": {},
            "name": "customer_id",
            "nullable": true,
            "type": "integer"
           },
           {
            "metadata": {
             "__CHAR_VARCHAR_TYPE_STRING": "varchar(100)"
            },
            "name": "customer_name",
            "nullable": true,
            "type": "string"
           },
           {
            "metadata": {
             "__CHAR_VARCHAR_TYPE_STRING": "varchar(100)"
            },
            "name": "customer_email",
            "nullable": true,
            "type": "string"
           },
           {
            "metadata": {},
            "name": "product_id",
            "nullable": true,
            "type": "integer"
           },
           {
            "metadata": {
             "__CHAR_VARCHAR_TYPE_STRING": "varchar(100)"
            },
            "name": "product_name",
            "nullable": true,
            "type": "string"
           },
           {
            "metadata": {
             "__CHAR_VARCHAR_TYPE_STRING": "varchar(50)"
            },
            "name": "product_category",
            "nullable": true,
            "type": "string"
           },
           {
            "metadata": {},
            "name": "quantity",
            "nullable": true,
            "type": "integer"
           },
           {
            "metadata": {},
            "name": "unit_price",
            "nullable": true,
            "type": "decimal(10,2)"
           },
           {
            "metadata": {
             "__CHAR_VARCHAR_TYPE_STRING": "varchar(50)"
            },
            "name": "payment_type",
            "nullable": true,
            "type": "string"
           },
           {
            "metadata": {
             "__CHAR_VARCHAR_TYPE_STRING": "varchar(50)"
            },
            "name": "country",
            "nullable": true,
            "type": "string"
           },
           {
            "metadata": {},
            "name": "last_updated",
            "nullable": true,
            "type": "date"
           },
           {
            "metadata": {},
            "name": "customer_email_host",
            "nullable": true,
            "type": "string"
           },
           {
            "metadata": {},
            "name": "processed_date",
            "nullable": true,
            "type": "date"
           }
          ],
          "type": "struct"
         },
         "tableIdentifier": null,
         "typeStr": "pyspark.sql.connect.dataframe.DataFrame"
        }
       ],
       "dbfsResultPath": null,
       "isJsonSchema": true,
       "metadata": {
        "createTempViewForImplicitDf": true,
        "dataframeName": "_sqldf",
        "executionCount": 20
       },
       "overflow": false,
       "plotOptions": {
        "customPlotOptions": {},
        "displayType": "table",
        "pivotAggregation": null,
        "pivotColumns": null,
        "xColumns": null,
        "yColumns": null
       },
       "removedWidgets": [],
       "schema": [
        {
         "metadata": "{}",
         "name": "order_id",
         "type": "\"integer\""
        },
        {
         "metadata": "{}",
         "name": "order_date",
         "type": "\"date\""
        },
        {
         "metadata": "{}",
         "name": "customer_id",
         "type": "\"integer\""
        },
        {
         "metadata": "{\"__CHAR_VARCHAR_TYPE_STRING\": \"varchar(100)\"}",
         "name": "customer_name",
         "type": "\"string\""
        },
        {
         "metadata": "{\"__CHAR_VARCHAR_TYPE_STRING\": \"varchar(100)\"}",
         "name": "customer_email",
         "type": "\"string\""
        },
        {
         "metadata": "{}",
         "name": "product_id",
         "type": "\"integer\""
        },
        {
         "metadata": "{\"__CHAR_VARCHAR_TYPE_STRING\": \"varchar(100)\"}",
         "name": "product_name",
         "type": "\"string\""
        },
        {
         "metadata": "{\"__CHAR_VARCHAR_TYPE_STRING\": \"varchar(50)\"}",
         "name": "product_category",
         "type": "\"string\""
        },
        {
         "metadata": "{}",
         "name": "quantity",
         "type": "\"integer\""
        },
        {
         "metadata": "{}",
         "name": "unit_price",
         "type": "\"decimal(10,2)\""
        },
        {
         "metadata": "{\"__CHAR_VARCHAR_TYPE_STRING\": \"varchar(50)\"}",
         "name": "payment_type",
         "type": "\"string\""
        },
        {
         "metadata": "{\"__CHAR_VARCHAR_TYPE_STRING\": \"varchar(50)\"}",
         "name": "country",
         "type": "\"string\""
        },
        {
         "metadata": "{}",
         "name": "last_updated",
         "type": "\"date\""
        },
        {
         "metadata": "{}",
         "name": "customer_email_host",
         "type": "\"string\""
        },
        {
         "metadata": "{}",
         "name": "processed_date",
         "type": "\"date\""
        }
       ],
       "type": "table"
      }
     },
     "output_type": "display_data"
    }
   ],
   "source": [
    "%sql\n",
    "select * from datamodel.silver.silver_tbl;"
   ]
  },
  {
   "cell_type": "code",
   "execution_count": 0,
   "metadata": {
    "application/vnd.databricks.v1+cell": {
     "cellMetadata": {},
     "inputWidgets": {},
     "nuid": "c7008627-730d-45a2-bad2-59d46779c80f",
     "showTitle": false,
     "tableResultSettingsMap": {},
     "title": ""
    }
   },
   "outputs": [],
   "source": []
  }
 ],
 "metadata": {
  "application/vnd.databricks.v1+notebook": {
   "computePreferences": null,
   "dashboards": [],
   "environmentMetadata": {
    "base_environment": "",
    "environment_version": "2"
   },
   "inputWidgetPreferences": null,
   "language": "python",
   "notebookMetadata": {
    "mostRecentlyExecutedCommandWithImplicitDF": {
     "commandId": 5010018057230254,
     "dataframes": [
      "_sqldf"
     ]
    },
    "pythonIndentUnit": 4
   },
   "notebookName": "Silver",
   "widgets": {}
  },
  "language_info": {
   "name": "python"
  }
 },
 "nbformat": 4,
 "nbformat_minor": 0
}